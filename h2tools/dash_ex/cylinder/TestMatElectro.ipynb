{
 "metadata": {
  "name": "",
  "signature": "sha256:780f919f363bf5a62f1e1b926136100787243e9d89d6fc700afe789ecddc51b4"
 },
 "nbformat": 3,
 "nbformat_minor": 0,
 "worksheets": [
  {
   "cells": [
    {
     "cell_type": "heading",
     "level": 2,
     "metadata": {},
     "source": [
      "Import libraries\n"
     ]
    },
    {
     "cell_type": "code",
     "collapsed": false,
     "input": [
      "#imports\n",
      "import os\n",
      "import random\n",
      "import numpy as np\n",
      "import re\n",
      "import matplotlib.pyplot as plt\n",
      "import sys\n",
      "import copy\n",
      "import scipy as sp\n",
      "from scipy.sparse.linalg import gmres\n",
      "from time import time, sleep\n",
      "import prettyplotlib as ppl\n",
      "%matplotlib inline"
     ],
     "language": "python",
     "metadata": {
      "code_folding": [
       0
      ]
     },
     "outputs": [],
     "prompt_number": 1
    },
    {
     "cell_type": "code",
     "collapsed": false,
     "input": [
      "class Geom(object):\n",
      "\n",
      "    def from_dat(self,f):\n",
      "        if type(f) is str:\n",
      "            f = open(f, 'r')\n",
      "        p_count = 0\n",
      "        v_count = 0\n",
      "        polygon = []\n",
      "        vertex = []\n",
      "        #read number of objects\n",
      "        n_objects = int(f.readline())\n",
      "        print 'n_objects', n_objects\n",
      "        for i_obj in xrange(n_objects):\n",
      "            #read number of modules for each object\n",
      "            n_modules = int(f.readline())\n",
      "            print 'n_modules', n_modules\n",
      "            for i_mod in xrange(n_modules):\n",
      "                #read unboundness, n, n1, n2 (n = n1 * n2)\n",
      "                f.readline()\n",
      "                n_quad = int(f.readline())\n",
      "                # print 'n_quad', n_quad\n",
      "                f.readline()\n",
      "                for i_quad in xrange(n_quad):\n",
      "                    tmp = map( float, re.split('[^\\d\\.Ee+-]+',f.readline().strip()) )\n",
      "                    stmp = np.array(tmp).reshape(4,3)\n",
      "                    polygon.append(stmp)\n",
      "        f.close()\n",
      "        self.pts = np.array(polygon, dtype = np.float64)\n",
      "        centers=[np.mean(x.T,1) for x in self.pts]\n",
      "        particles=np.array(centers, dtype = np.float64)\n",
      "        self.particles=np.vstack((particles,particles))\n",
      "        self.count, self.dim = self.particles.shape\n",
      "        return self\n",
      "\n",
      "    def load_vec(self,f):\n",
      "        ar=np.loadtxt(f).view(complex).reshape(-1)\n",
      "        return np.hstack((ar[::2], ar[1::2]))\n",
      "   \n",
      "    def load_rh(self,f):\n",
      "        self.rh=self.load_vec(f)\n",
      "\n",
      "    def load_sol(self,f):\n",
      "        self.sol=self.load_vec(f)\n",
      "\n",
      "    def load_mat(self,f):\n",
      "        mat=np.loadtxt(f).view(complex).reshape(-1)\n",
      "        #n = mat.shape[0]\n",
      "        n=int(np.sqrt(len(mat)))\n",
      "        mat=mat.reshape(n,n)\n",
      "        self.n=int(n/2)\n",
      "        self.matrix=np.vstack((  np.hstack((mat[::2,::2],mat[::2,1::2])),np.hstack((mat[1::2,::2],mat[1::2,1::2]))  ))\n",
      "        \n",
      "        \n",
      "    def show_fig(self):\n",
      "        #import matplotlib.pyplot as plt\n",
      "        from mpl_toolkits.mplot3d import Axes3D\n",
      "        fig = plt.figure()\n",
      "        ax = fig.add_subplot(111, projection='3d')\n",
      "        allc=0\n",
      "        pg=set([])\n",
      "        for p1 in self.pts:\n",
      "            for i in xrange(len(p1)):\n",
      "                vort=(   p1[i-1][0],p1[i][0] , p1[i-1][1],p1[i][1] ,  p1[i-1][2],p1[i][2]   )\n",
      "                nr=5\n",
      "                vsmall=(round(vort[0],nr),round(vort[1],nr),round(vort[2],nr),round(vort[3],nr),round(vort[4],nr),round(vort[5],nr))\n",
      "                vsmall2=(round(vort[1],nr),round(vort[0],nr),round(vort[3],nr),round(vort[2],nr),round(vort[5],nr),round(vort[4],nr))\n",
      "                if vsmall not in pg and vsmall2 not in pg:\n",
      "                    pg.add(vsmall)\n",
      "                    pg.add(vsmall2)\n",
      "                    ax.plot([vort[0],vort[1]],[vort[2],vort[3]],zs=[vort[4],vort[5]],color='black')\n",
      "                    allc+=1\n",
      "\n",
      "        plt.show()\n",
      "        Axes3D.plot()\n",
      "        \n",
      "    def check_far(self, bb0, bb1):\n",
      "        \"\"\"checks if bounding boxes bb0 and bb1 do not cross each other.\"\"\"\n",
      "        mean0 = bb0.mean(axis = 1)\n",
      "        mean1 = bb1.mean(axis = 1)\n",
      "        dist = np.linalg.norm(mean1-mean0)\n",
      "        diag = max(np.linalg.norm(bb0[:,1]-bb0[:,0]), np.linalg.norm(bb1[:,1]-bb1[:,0]))\n",
      "        return dist > diag\n",
      "    \n",
      "    def bounding_box(self, index):\n",
      "        \"\"\"computes bounding boxes, requires self.particles defined.\"\"\"\n",
      "        selected = self.particles[index]\n",
      "        return np.hstack([selected.min(axis = 0).reshape(3,1), selected.max(axis = 0).reshape(3,1)])\n",
      "\n",
      "    def is_dividable(self, index):\n",
      "        \"\"\".\"\"\"\n",
      "        return False\n",
      "\n",
      "    def divide(self, index, tol):\n",
      "        \"\"\"divides cluster into subclusters.\"\"\"\n",
      "        vertex = self.particles[index].copy()\n",
      "        center = vertex.mean(axis = 0)\n",
      "        vertex -= center.reshape(1, self.dim)\n",
      "        normal = np.linalg.svd(vertex, full_matrices = 0)[2][0]\n",
      "        scal_dot = normal.dot(vertex.T)\n",
      "        permute = scal_dot.argsort()\n",
      "        scal_dot = scal_dot[permute]\n",
      "        k = scal_dot.searchsorted(0)\n",
      "        return index[permute[:k]], index[permute[k:]], (center, normal)"
     ],
     "language": "python",
     "metadata": {
      "code_folding": []
     },
     "outputs": [],
     "prompt_number": 7
    },
    {
     "cell_type": "heading",
     "level": 2,
     "metadata": {},
     "source": [
      "Loading data"
     ]
    },
    {
     "cell_type": "code",
     "collapsed": false,
     "input": [
      "# Loading geometry\n",
      "geom=Geom()\n",
      "geom.from_dat('cyl-real30x10.dat')\n",
      "#geom.from_dat('Tests/25_50_(2050).dat')\n",
      "#geom.from_dat('Tests/50_100_(8200).dat')\n",
      "#geom.dim, geom.count"
     ],
     "language": "python",
     "metadata": {
      "code_folding": []
     },
     "outputs": [
      {
       "output_type": "stream",
       "stream": "stdout",
       "text": [
        "n_objects 1\n",
        "n_modules 3\n"
       ]
      },
      {
       "metadata": {},
       "output_type": "pyout",
       "prompt_number": 33,
       "text": [
        "<__main__.Geom at 0x7f669bf3a310>"
       ]
      }
     ],
     "prompt_number": 33
    },
    {
     "cell_type": "code",
     "collapsed": false,
     "input": [
      " geom.show_fig()"
     ],
     "language": "python",
     "metadata": {},
     "outputs": [
      {
       "metadata": {},
       "output_type": "display_data",
       "png": "[encoded data removed]",
       "text": [
        "<matplotlib.figure.Figure at 0x7f66866e6390>"
       ]
      },
      {
       "ename": "TypeError",
       "evalue": "unbound method plot() must be called with Axes3D instance as first argument (got nothing instead)",
       "output_type": "pyerr",
       "traceback": [
        "\u001b[1;31m---------------------------------------------------------------------------\u001b[0m\n\u001b[1;31mTypeError\u001b[0m                                 Traceback (most recent call last)",
        "\u001b[1;32m<ipython-input-34-fea19ec9e9f3>\u001b[0m in \u001b[0;36m<module>\u001b[1;34m()\u001b[0m\n\u001b[1;32m----> 1\u001b[1;33m \u001b[0mgeom\u001b[0m\u001b[1;33m.\u001b[0m\u001b[0mshow_fig\u001b[0m\u001b[1;33m(\u001b[0m\u001b[1;33m)\u001b[0m\u001b[1;33m\u001b[0m\u001b[0m\n\u001b[0m",
        "\u001b[1;32m<ipython-input-7-a20128d1c938>\u001b[0m in \u001b[0;36mshow_fig\u001b[1;34m(self)\u001b[0m\n\u001b[0;32m     72\u001b[0m \u001b[1;33m\u001b[0m\u001b[0m\n\u001b[0;32m     73\u001b[0m         \u001b[0mplt\u001b[0m\u001b[1;33m.\u001b[0m\u001b[0mshow\u001b[0m\u001b[1;33m(\u001b[0m\u001b[1;33m)\u001b[0m\u001b[1;33m\u001b[0m\u001b[0m\n\u001b[1;32m---> 74\u001b[1;33m         \u001b[0mAxes3D\u001b[0m\u001b[1;33m.\u001b[0m\u001b[0mplot\u001b[0m\u001b[1;33m(\u001b[0m\u001b[1;33m)\u001b[0m\u001b[1;33m\u001b[0m\u001b[0m\n\u001b[0m\u001b[0;32m     75\u001b[0m \u001b[1;33m\u001b[0m\u001b[0m\n\u001b[0;32m     76\u001b[0m     \u001b[1;32mdef\u001b[0m \u001b[0mcheck_far\u001b[0m\u001b[1;33m(\u001b[0m\u001b[0mself\u001b[0m\u001b[1;33m,\u001b[0m \u001b[0mbb0\u001b[0m\u001b[1;33m,\u001b[0m \u001b[0mbb1\u001b[0m\u001b[1;33m)\u001b[0m\u001b[1;33m:\u001b[0m\u001b[1;33m\u001b[0m\u001b[0m\n",
        "\u001b[1;31mTypeError\u001b[0m: unbound method plot() must be called with Axes3D instance as first argument (got nothing instead)"
       ]
      }
     ],
     "prompt_number": 34
    },
    {
     "cell_type": "code",
     "collapsed": false,
     "input": [
      "# Loading matrix and vectors\n",
      "#geom.load_mat('Tests/mat_25_50.txt')\n",
      "#geom.load_rh('Tests/mat_25_50.txt')\n",
      "#geom.load_mat('Tests/mat_50_100.txt')\n",
      "#geom.load_rh('Tests/mat_50_100.txt')\n",
      "geom.load_sol('sol.txt')\n",
      "geom.load_mat('all-mat.txt')\n",
      "geom.load_rh('rh.txt')"
     ],
     "language": "python",
     "metadata": {
      "code_folding": []
     },
     "outputs": [],
     "prompt_number": 36
    },
    {
     "cell_type": "code",
     "collapsed": false,
     "input": [
      "geom.matrix.shape"
     ],
     "language": "python",
     "metadata": {},
     "outputs": []
    },
    {
     "cell_type": "code",
     "collapsed": false,
     "input": [
      "# Testing errors of given vectors\n",
      "max(abs(geom.matrix.dot(geom.sol)-geom.rh))"
     ],
     "language": "python",
     "metadata": {},
     "outputs": [
      {
       "metadata": {},
       "output_type": "pyout",
       "prompt_number": 31,
       "text": [
        "6.8825528553758169e-13"
       ]
      }
     ],
     "prompt_number": 31
    },
    {
     "cell_type": "code",
     "collapsed": false,
     "input": [
      "# Set function, that returns submatrix of the matrix of interactions\n",
      "def func(data1, rows, data2, columns):\n",
      "        return data1.matrix[rows][:,columns]"
     ],
     "language": "python",
     "metadata": {
      "code_folding": [
       0
      ]
     },
     "outputs": [],
     "prompt_number": 37
    },
    {
     "cell_type": "heading",
     "level": 2,
     "metadata": {},
     "source": [
      "Compress Matrix"
     ]
    },
    {
     "cell_type": "code",
     "collapsed": false,
     "input": [
      "# Now we set all the parameters for H2Tools to work\n",
      "\n",
      "# Hack to prevent bug of qr decomposition for 130x65 matrices (multithread mkl bug)\n",
      "#import os\n",
      "os.environ['OMP_NUM_THREADS'] = '1'\n",
      "os.environ['MKL_NUM_THREADS'] = '1'\n",
      "\n",
      "# Main imports\n",
      "#import sys\n",
      "sys.path.append('../../')\n",
      "from h2py.main import Problem\n",
      "\n",
      "# building tree for sources and receivers (same for this test script)\n",
      "print 'building tree'\n",
      "surf = Problem(func, geom, block_size=50)\n",
      "# generating queue of computations for multicharge method\n",
      "surf.gen_queue(symmetric=1)\n",
      "\n",
      "# computing multicharge representation\n",
      "print 'Computing MCBH, relative error parameter tau set to 1e-4'\n",
      "surf.factorize('h2', tau=1e-4, iters=1, onfly=0, verbose=1)\n",
      "print 'memory for uncompressed approximation: '+str(surf.factor.nbytes()/1024./1024)+' MB'"
     ],
     "language": "python",
     "metadata": {
      "code_folding": [
       0
      ]
     },
     "outputs": [
      {
       "output_type": "stream",
       "stream": "stdout",
       "text": [
        "building tree\n",
        "Computing MCBH, relative error parameter tau set to 1e-4"
       ]
      },
      {
       "output_type": "stream",
       "stream": "stdout",
       "text": [
        "\n",
        "Function calls:"
       ]
      },
      {
       "output_type": "stream",
       "stream": "stdout",
       "text": [
        " 747\n",
        "Function values computed: 1788747\n",
        "Function time: 0.279323577881\n",
        "Average time per function value: 1.56156000754e-07\n",
        "Maxvol time: 0.20234131813\n",
        "Total MCBH time: 0.491927862167\n",
        "memory for uncompressed approximation: 4.95789718628 MB\n"
       ]
      }
     ],
     "prompt_number": 38
    },
    {
     "cell_type": "heading",
     "level": 3,
     "metadata": {},
     "source": [
      "Error check"
     ]
    },
    {
     "cell_type": "code",
     "collapsed": false,
     "input": [
      "# some random checks\n",
      "max_error = 0\n",
      "for i in range(1000):\n",
      "    tmp_vec = np.random.rand(geom.count)+1j*np.random.rand(geom.count)\n",
      "    tmp0 = geom.matrix.dot(tmp_vec)\n",
      "    tmp1 = surf.dot(tmp_vec)\n",
      "    error = np.linalg.norm(tmp0-tmp1)/np.linalg.norm(tmp0)\n",
      "    if error > max_error:\n",
      "        max_error = error\n",
      "print 'max_error checked:', max_error"
     ],
     "language": "python",
     "metadata": {},
     "outputs": [
      {
       "output_type": "stream",
       "stream": "stdout",
       "text": [
        "max_error checked: 0.0334348670772\n"
       ]
      }
     ],
     "prompt_number": 8
    },
    {
     "cell_type": "code",
     "collapsed": false,
     "input": [
      "max(abs(surf.dot(geom.sol)-geom.rh))/np.linalg.norm(geom.rh)"
     ],
     "language": "python",
     "metadata": {},
     "outputs": [
      {
       "metadata": {},
       "output_type": "pyout",
       "prompt_number": 10,
       "text": [
        "0.058527566789065226"
       ]
      }
     ],
     "prompt_number": 10
    },
    {
     "cell_type": "code",
     "collapsed": false,
     "input": [
      "max(abs(surf.dot(geom.sol)-geom.matrix.dot(geom.sol)))/np.linalg.norm(geom.sol)"
     ],
     "language": "python",
     "metadata": {},
     "outputs": [
      {
       "metadata": {},
       "output_type": "pyout",
       "prompt_number": 11,
       "text": [
        "0.2779898313079584"
       ]
      }
     ],
     "prompt_number": 11
    },
    {
     "cell_type": "code",
     "collapsed": false,
     "input": [
      "geom.matrix.nbytes/1024./1024"
     ],
     "language": "python",
     "metadata": {},
     "outputs": [
      {
       "metadata": {},
       "output_type": "pyout",
       "prompt_number": 12,
       "text": [
        "49.4384765625"
       ]
      }
     ],
     "prompt_number": 12
    },
    {
     "cell_type": "code",
     "collapsed": false,
     "input": [
      "#from time import time\n",
      "#t0 = time()\n",
      "#surf.gen_queue(symmetric = False)\n",
      "#surf.factorize('h2', tau = 1e-1, iters = 1)\n",
      "#print 'memory consumption: ' + str(surf.factor.nbytes()/1024./1024) + ' MB'\n",
      "#print 'done in', time() - t0"
     ],
     "language": "python",
     "metadata": {},
     "outputs": [],
     "prompt_number": 13
    },
    {
     "cell_type": "heading",
     "level": 1,
     "metadata": {},
     "source": [
      "Building sparse extended (SE) matrix\n"
     ]
    },
    {
     "cell_type": "code",
     "collapsed": false,
     "input": [
      "from  h2py.core.ts import hyp\n",
      "from  h2py.core.ts import hyp_test\n",
      "from  h2py.core.ts import show_hyp"
     ],
     "language": "python",
     "metadata": {},
     "outputs": [],
     "prompt_number": 39
    },
    {
     "cell_type": "code",
     "collapsed": false,
     "input": [
      "N_H, N = hyp(surf)\n",
      "SE = sp.sparse.csc_matrix(surf.hyper.T) "
     ],
     "language": "python",
     "metadata": {},
     "outputs": [
      {
       "output_type": "stream",
       "stream": "stdout",
       "text": [
        "Size of original matrix:  (1800, 1800)\n",
        "Size of SE matrix:  (5846, 5846)\n",
        "B time 0.0147488117218\n",
        "I time 0.005695104599\n",
        "A time 0.0147290229797\n",
        "C time"
       ]
      },
      {
       "output_type": "stream",
       "stream": "stdout",
       "text": [
        " 0.078507900238\n",
        "I time 0.00559091567993\n",
        "E time 0.00775790214539\n",
        "CL time"
       ]
      },
      {
       "output_type": "stream",
       "stream": "stdout",
       "text": [
        " 0.223042011261\n",
        "D time 0.0104250907898\n",
        "Total time 0.360618829727\n"
       ]
      }
     ],
     "prompt_number": 40
    },
    {
     "cell_type": "code",
     "collapsed": false,
     "input": [
      "show_hyp(surf)\n"
     ],
     "language": "python",
     "metadata": {},
     "outputs": [
      {
       "metadata": {},
       "output_type": "display_data",
       "png": "[encoded data removed]",
       "text": [
        "<matplotlib.figure.Figure at 0x7f66e80a45d0>"
       ]
      }
     ],
     "prompt_number": 41
    },
    {
     "cell_type": "heading",
     "level": 1,
     "metadata": {},
     "source": [
      "Solvers:"
     ]
    },
    {
     "cell_type": "heading",
     "level": 2,
     "metadata": {},
     "source": [
      "For real right hand side:"
     ]
    },
    {
     "cell_type": "code",
     "collapsed": false,
     "input": [
      "sol = geom.sol\n",
      "rh = surf.dot(geom.sol, dasha_debug=1)#rh = geom.rh#\n",
      "hyp_test(surf,rh,sol)\n",
      "SE = sp.sparse.csr_matrix(surf.hyper.T)"
     ],
     "language": "python",
     "metadata": {},
     "outputs": [
      {
       "output_type": "stream",
       "stream": "stdout",
       "text": [
        "H*sol - rh =  2.75072201822e-13\n"
       ]
      }
     ],
     "prompt_number": 45
    },
    {
     "cell_type": "heading",
     "level": 2,
     "metadata": {},
     "source": [
      "For right hand side with ones solution:"
     ]
    },
    {
     "cell_type": "code",
     "collapsed": false,
     "input": [
      "sol = np.ones(N,dtype = complex)\n",
      "rh = surf.dot(sol, dasha_debug=1)\n",
      "hyp_test(surf,rh,sol)\n",
      "SE = sp.sparse.csr_matrix(surf.hyper.T)"
     ],
     "language": "python",
     "metadata": {},
     "outputs": [
      {
       "output_type": "stream",
       "stream": "stdout",
       "text": [
        "H*sol - rh =  2.17569726041e-12\n"
       ]
      }
     ],
     "prompt_number": 42
    },
    {
     "cell_type": "heading",
     "level": 1,
     "metadata": {},
     "source": [
      "Direct solver\n"
     ]
    },
    {
     "cell_type": "heading",
     "level": 2,
     "metadata": {},
     "source": [
      "Shuffle right hand side and makin big rh"
     ]
    },
    {
     "cell_type": "code",
     "collapsed": false,
     "input": [
      "#\n",
      "\n",
      "p = 0\n",
      "shuffle_rh = copy.deepcopy(rh)\n",
      "for i in surf.row_l_list:\n",
      "    if surf.factor.row_coef[i].shape[0] == 0:\n",
      "        for j in xrange(surf.factor.row_coef[i].shape[1]):\n",
      "            shuffle_rh[p] =  rh[surf.factor.row_tree.index[i][j]] \n",
      "            p+=1\n",
      "    else:\n",
      "        for j in xrange(surf.factor.row_coef[i].shape[0]):\n",
      "            shuffle_rh[p] =  rh[surf.factor.row_tree.index[i][j]] \n",
      "            p+=1\n",
      "            \n",
      "big_rh = np.concatenate((shuffle_rh,np.zeros((N_H - N))))       "
     ],
     "language": "python",
     "metadata": {
      "code_folding": [
       0
      ]
     },
     "outputs": [],
     "prompt_number": 46
    },
    {
     "cell_type": "heading",
     "level": 2,
     "metadata": {},
     "source": [
      "Solve system"
     ]
    },
    {
     "cell_type": "code",
     "collapsed": false,
     "input": [
      "#\n",
      "t0 = time()  \n",
      "temp_sol = sp.sparse.linalg.spsolve(SE,big_rh) \n",
      "print   \"Direct solver time:\",time() - t0 \n",
      "\n"
     ],
     "language": "python",
     "metadata": {
      "code_folding": [
       0
      ]
     },
     "outputs": [
      {
       "output_type": "stream",
       "stream": "stdout",
       "text": [
        "Direct solver time: 2.3902630806\n"
       ]
      }
     ],
     "prompt_number": 47
    },
    {
     "cell_type": "heading",
     "level": 2,
     "metadata": {},
     "source": [
      "Reshuffle solution"
     ]
    },
    {
     "cell_type": "code",
     "collapsed": false,
     "input": [
      "#\n",
      "tree = surf.factor.col_tree\n",
      "size = tree.level[-1]\n",
      "ind = tree.index\n",
      "\n",
      "temp_sol = temp_sol[:N]\n",
      "dir_sol = np.zeros(N,dtype = temp_sol.dtype)\n",
      "\n",
      "p = 0\n",
      "for j in xrange(size):\n",
      "            if len(tree.child[j]) is 0:\n",
      "                tmp = temp_sol[p:p + len(ind[j])]\n",
      "                for i in xrange(len(ind[j])):\n",
      "                    dir_sol[ind[j][i]] = tmp[i]\n",
      "                p += len(ind[j])"
     ],
     "language": "python",
     "metadata": {
      "code_folding": [
       0
      ]
     },
     "outputs": [],
     "prompt_number": 48
    },
    {
     "cell_type": "code",
     "collapsed": false,
     "input": [
      "#print dir_ans\n",
      "\n",
      "print np.linalg.norm(sol - dir_sol[:N])\n",
      "\n"
     ],
     "language": "python",
     "metadata": {
      "code_folding": [
       0
      ]
     },
     "outputs": [
      {
       "output_type": "stream",
       "stream": "stdout",
       "text": [
        "5.54347283006e-11\n"
       ]
      }
     ],
     "prompt_number": 49
    },
    {
     "cell_type": "heading",
     "level": 1,
     "metadata": {},
     "source": [
      "Iterative solver"
     ]
    },
    {
     "cell_type": "heading",
     "level": 2,
     "metadata": {},
     "source": [
      "GMRES without preconditioner, $H^2$ matvec"
     ]
    },
    {
     "cell_type": "heading",
     "level": 3,
     "metadata": {},
     "source": [
      "GMRES iterations"
     ]
    },
    {
     "cell_type": "code",
     "collapsed": false,
     "input": [
      "#\n",
      "res = []\n",
      "t = []\n",
      "\n",
      "\n",
      "#it_sol = np.zeros(rh.shape[0], dtype = complex)\n",
      "\n",
      "def simple_print(r):\n",
      "  \n",
      "    print np.linalg.norm(r)\n",
      "    res.append(r)\n",
      "    t.append(time()-t0)\n",
      "    \n",
      "\n",
      "    \n",
      "def dot_fun(v):\n",
      "    N = v.size / 2\n",
      "    v = v[:N] + 1j * v[N:]\n",
      "    ans = surf.dot(v)\n",
      "    ans = ans[:v.shape[0]]\n",
      "    return np.concatenate((ans.real, ans.imag))\n",
      "\n",
      "lo_dot = sp.sparse.linalg.LinearOperator(( 2 * N, 2 * N ), dot_fun, dtype=float )#,dtype = geom.rh.dtype)\n",
      "\n",
      "\n",
      "b = rh#shuffle_rh#np.ones(rh.shape[0],dtype = complex)\n",
      "b = np.concatenate((b.real, b.imag))\n",
      "x0 = np.zeros(2 * rh.shape[0],dtype = float)\n",
      "\n",
      "t0 = time() \n",
      "#print \n",
      "\n",
      "tmp_s, errr = gmres(lo_dot, b, x0, tol=1e-3, restart=100000, maxiter=2000, xtype=0, M=None, callback=simple_print)\n",
      "#it_sol_real, errr = gmres(lo_dot, np.array(b.real, dtype=complex), x0, tol = 1e-4, restart = 100000, maxiter = 2000,xtype = 0, M = None, callback = simple_print_r)#M = lo_prec,\n",
      "#it_sol_imag, erri = gmres(lo_dot, np.array(b.imag, dtype=complex), x0, tol = 1e-4, restart = 100000, maxiter = 2000,xtype = 0, M = None, callback = simple_print_i)#simple_print)\n",
      "print \"GMRES time:\", time() - t0\n",
      "print \"Number of iterations for real:\", len(t)\n",
      "\n",
      "#it_sol_tmp = tmp[:len(sol)] + tmp[len(sol):]*1j\n",
      "\n",
      "\n",
      "resH2N = np.array(res)\n",
      "tH2N = np.array(t)\n"
     ],
     "language": "python",
     "metadata": {
      "code_folding": [
       0
      ]
     },
     "outputs": [
      {
       "output_type": "stream",
       "stream": "stdout",
       "text": [
        "0.973537839044\n",
        "0.907189270716\n",
        "0.837961149407\n",
        "0.765593536352\n",
        "0.683383488106\n",
        "0.575883222608"
       ]
      },
      {
       "output_type": "stream",
       "stream": "stdout",
       "text": [
        "\n",
        "0.493666602982\n",
        "0.432998433222\n",
        "0.376545280587\n",
        "0.332484166669\n",
        "0.296090176778"
       ]
      },
      {
       "output_type": "stream",
       "stream": "stdout",
       "text": [
        "\n",
        "0.269120148258\n",
        "0.252253538452\n",
        "0.237044103344\n",
        "0.226221884498"
       ]
      },
      {
       "output_type": "stream",
       "stream": "stdout",
       "text": [
        "\n",
        "0.220936513771\n",
        "0.215303370667\n",
        "0.212662860495\n",
        "0.209617460073"
       ]
      },
      {
       "output_type": "stream",
       "stream": "stdout",
       "text": [
        "\n",
        "0.208478238411\n",
        "0.206515767633\n",
        "0.205549625666\n",
        "0.205453417491"
       ]
      },
      {
       "output_type": "stream",
       "stream": "stdout",
       "text": [
        "\n",
        "0.205293608627\n",
        "0.204305292487\n",
        "0.203466661647\n",
        "0.199642611504"
       ]
      },
      {
       "output_type": "stream",
       "stream": "stdout",
       "text": [
        "\n",
        "0.196366136449\n",
        "0.18910263768\n",
        "0.18424151824\n",
        "0.176003795447\n",
        "0.171800204078"
       ]
      },
      {
       "output_type": "stream",
       "stream": "stdout",
       "text": [
        "\n",
        "0.166728981487\n",
        "0.16363790303\n",
        "0.159668490515\n",
        "0.156145026841\n",
        "0.153223188356"
       ]
      },
      {
       "output_type": "stream",
       "stream": "stdout",
       "text": [
        "\n",
        "0.14917187939\n",
        "0.147242389577\n",
        "0.145119841476\n",
        "0.14351369112\n",
        "0.141951728061"
       ]
      },
      {
       "output_type": "stream",
       "stream": "stdout",
       "text": [
        "\n",
        "0.139872322357\n",
        "0.13801780351\n",
        "0.136046476421\n",
        "0.133834759551\n",
        "0.132670595033"
       ]
      },
      {
       "output_type": "stream",
       "stream": "stdout",
       "text": [
        "\n",
        "0.132051314025\n",
        "0.131659158864\n",
        "0.131590798897\n",
        "0.131561747046\n",
        "0.131530595499"
       ]
      },
      {
       "output_type": "stream",
       "stream": "stdout",
       "text": [
        "\n",
        "0.131474270707\n",
        "0.131250877726\n",
        "0.130902566236\n",
        "0.130237221906\n",
        "0.129777341024"
       ]
      },
      {
       "output_type": "stream",
       "stream": "stdout",
       "text": [
        "\n",
        "0.127950275171\n",
        "0.127112997085\n",
        "0.125062701434\n",
        "0.122973269187"
       ]
      },
      {
       "output_type": "stream",
       "stream": "stdout",
       "text": [
        "\n",
        "0.121613347977\n",
        "0.118957209386\n",
        "0.117523140839\n",
        "0.114591049503\n",
        "0.11252372343"
       ]
      },
      {
       "output_type": "stream",
       "stream": "stdout",
       "text": [
        "\n",
        "0.110215081577\n",
        "0.108048964913\n",
        "0.105597307646\n",
        "0.103519952572\n",
        "0.0998702115675"
       ]
      },
      {
       "output_type": "stream",
       "stream": "stdout",
       "text": [
        "\n",
        "0.0975299226742\n",
        "0.0967441957288\n",
        "0.0961115952585\n",
        "0.0956613229739"
       ]
      },
      {
       "output_type": "stream",
       "stream": "stdout",
       "text": [
        "\n",
        "0.0954063027038\n",
        "0.0953646043795\n",
        "0.095343366795\n",
        "0.0953428692876"
       ]
      },
      {
       "output_type": "stream",
       "stream": "stdout",
       "text": [
        "\n",
        "0.0953119761513\n",
        "0.0952546258841\n",
        "0.0950473193339\n",
        "0.0947846549897"
       ]
      },
      {
       "output_type": "stream",
       "stream": "stdout",
       "text": [
        "\n",
        "0.0942951578429\n",
        "0.0938829948561\n",
        "0.0926725367205\n",
        "0.0919642827281\n",
        "0.0903565986404"
       ]
      },
      {
       "output_type": "stream",
       "stream": "stdout",
       "text": [
        "\n",
        "0.0892038018549\n",
        "0.0877542474186\n",
        "0.0863753252334\n",
        "0.0839334146292\n",
        "0.0831370606296"
       ]
      },
      {
       "output_type": "stream",
       "stream": "stdout",
       "text": [
        "\n",
        "0.0813000593042\n",
        "0.0796609310929\n",
        "0.0780608461186\n",
        "0.076868868449\n",
        "0.0759531835213"
       ]
      },
      {
       "output_type": "stream",
       "stream": "stdout",
       "text": [
        "\n",
        "0.0756582127822\n",
        "0.0752335772882\n",
        "0.074954095202\n",
        "0.0748908304296\n",
        "0.0748564402387"
       ]
      },
      {
       "output_type": "stream",
       "stream": "stdout",
       "text": [
        "\n",
        "0.0748406627615\n",
        "0.0748399029921\n",
        "0.0748277925296\n",
        "0.0747434733374\n",
        "0.0746410805214"
       ]
      },
      {
       "output_type": "stream",
       "stream": "stdout",
       "text": [
        "\n",
        "0.0744120819653\n",
        "0.0742143588644\n",
        "0.0737060094348\n",
        "0.0732572963122\n",
        "0.0727974518392"
       ]
      },
      {
       "output_type": "stream",
       "stream": "stdout",
       "text": [
        "\n",
        "0.0719264166139\n",
        "0.0708142680068\n",
        "0.0701947850087\n",
        "0.069035885475\n",
        "0.0677246295986"
       ]
      },
      {
       "output_type": "stream",
       "stream": "stdout",
       "text": [
        "\n",
        "0.0668709516386\n",
        "0.066341818878\n",
        "0.0652267334712\n",
        "0.0646565970682"
       ]
      },
      {
       "output_type": "stream",
       "stream": "stdout",
       "text": [
        "\n",
        "0.063976986392\n",
        "0.0636099556916\n",
        "0.0630046493989\n",
        "0.0625658724992\n",
        "0.0624238455746"
       ]
      },
      {
       "output_type": "stream",
       "stream": "stdout",
       "text": [
        "\n",
        "0.0622779922254\n",
        "0.0621044912276\n",
        "0.062062094191\n",
        "0.0620181589318"
       ]
      },
      {
       "output_type": "stream",
       "stream": "stdout",
       "text": [
        "\n",
        "0.0620140703279\n",
        "0.0620119358908\n",
        "0.0620104324041\n",
        "0.06196629769"
       ]
      },
      {
       "output_type": "stream",
       "stream": "stdout",
       "text": [
        "\n",
        "0.0619197562842\n",
        "0.0616601693968\n",
        "0.0615025824837\n",
        "0.0611786997077"
       ]
      },
      {
       "output_type": "stream",
       "stream": "stdout",
       "text": [
        "\n",
        "0.0607185165456\n",
        "0.0604311514036\n",
        "0.0600155455024\n",
        "0.0591988696378"
       ]
      },
      {
       "output_type": "stream",
       "stream": "stdout",
       "text": [
        "\n",
        "0.0587200701247\n",
        "0.057994985127\n",
        "0.057050090558\n",
        "0.0560385861885"
       ]
      },
      {
       "output_type": "stream",
       "stream": "stdout",
       "text": [
        "\n",
        "0.0554149596087\n",
        "0.0547403423368\n",
        "0.05352230893\n",
        "0.0531127169933"
       ]
      },
      {
       "output_type": "stream",
       "stream": "stdout",
       "text": [
        "\n",
        "0.0524180321559\n",
        "0.0518739819654\n",
        "0.0507335478372\n",
        "0.050263041263"
       ]
      },
      {
       "output_type": "stream",
       "stream": "stdout",
       "text": [
        "\n",
        "0.0495004418874\n",
        "0.0491354825527\n",
        "0.0484189395251\n",
        "0.0479835668791"
       ]
      },
      {
       "output_type": "stream",
       "stream": "stdout",
       "text": [
        "\n",
        "0.0476820335196\n",
        "0.0472512943051\n",
        "0.0470344938306\n",
        "0.0468771789267"
       ]
      },
      {
       "output_type": "stream",
       "stream": "stdout",
       "text": [
        "\n",
        "0.0467176674293\n",
        "0.0466561655529\n",
        "0.0466009266915\n",
        "0.0465886801358"
       ]
      },
      {
       "output_type": "stream",
       "stream": "stdout",
       "text": [
        "\n",
        "0.0465853217515\n",
        "0.0465552616418\n",
        "0.0465322749806\n",
        "0.0464508578595"
       ]
      },
      {
       "output_type": "stream",
       "stream": "stdout",
       "text": [
        "\n",
        "0.0463289625363\n",
        "0.046204912366\n",
        "0.0459907277503\n",
        "0.0458598877878"
       ]
      },
      {
       "output_type": "stream",
       "stream": "stdout",
       "text": [
        "\n",
        "0.0455402403002\n",
        "0.0451328677955\n",
        "0.0447603051936\n",
        "0.0445278361687"
       ]
      },
      {
       "output_type": "stream",
       "stream": "stdout",
       "text": [
        "\n",
        "0.0440407450604\n",
        "0.0435876648014\n",
        "0.0433195478107\n",
        "0.0427837682176"
       ]
      },
      {
       "output_type": "stream",
       "stream": "stdout",
       "text": [
        "\n",
        "0.0425813284774\n",
        "0.0421178767089\n",
        "0.0418894032547\n",
        "0.0417316484407"
       ]
      },
      {
       "output_type": "stream",
       "stream": "stdout",
       "text": [
        "\n",
        "0.0416361932041\n",
        "0.0416061871018\n",
        "0.0415994250353\n",
        "0.0415905448991"
       ]
      },
      {
       "output_type": "stream",
       "stream": "stdout",
       "text": [
        "\n",
        "0.0415577277753\n",
        "0.0415125212506\n",
        "0.0414004866043\n",
        "0.0411642205123"
       ]
      },
      {
       "output_type": "stream",
       "stream": "stdout",
       "text": [
        "\n",
        "0.0410131486172\n",
        "0.0405619551123\n",
        "0.0401729701186\n",
        "0.0397498534234"
       ]
      },
      {
       "output_type": "stream",
       "stream": "stdout",
       "text": [
        "\n",
        "0.0392730939869\n",
        "0.0388344465823\n",
        "0.0385202604073\n",
        "0.038240082856"
       ]
      },
      {
       "output_type": "stream",
       "stream": "stdout",
       "text": [
        "\n",
        "0.0380072667878\n",
        "0.0378067081365\n",
        "0.0376960915846\n",
        "0.0376398996576"
       ]
      },
      {
       "output_type": "stream",
       "stream": "stdout",
       "text": [
        "\n",
        "0.0375939472237\n",
        "0.0375766406696\n",
        "0.0375749450649\n",
        "0.0375743088071"
       ]
      },
      {
       "output_type": "stream",
       "stream": "stdout",
       "text": [
        "\n",
        "0.0375448095196\n",
        "0.0374447786228\n",
        "0.0373321687989\n",
        "0.0371703621061"
       ]
      },
      {
       "output_type": "stream",
       "stream": "stdout",
       "text": [
        "\n",
        "0.0369060652703\n",
        "0.0366690461469\n",
        "0.0364975530595\n",
        "0.0362939228379"
       ]
      },
      {
       "output_type": "stream",
       "stream": "stdout",
       "text": [
        "\n",
        "0.0360681210538\n",
        "0.0359955909582\n",
        "0.0358826943927\n",
        "0.0358340035237"
       ]
      },
      {
       "output_type": "stream",
       "stream": "stdout",
       "text": [
        "\n",
        "0.0358200817426\n",
        "0.0358193858761\n",
        "0.0358013823734\n",
        "0.0357415425141"
       ]
      },
      {
       "output_type": "stream",
       "stream": "stdout",
       "text": [
        "\n",
        "0.0356519625519\n",
        "0.0355098234626\n",
        "0.0352817690257\n",
        "0.0349641456131"
       ]
      },
      {
       "output_type": "stream",
       "stream": "stdout",
       "text": [
        "\n",
        "0.0346847242806\n",
        "0.0342757148078\n",
        "0.0340067055036\n",
        "0.0336275025025"
       ]
      },
      {
       "output_type": "stream",
       "stream": "stdout",
       "text": [
        "\n",
        "0.033377351793\n",
        "0.0330720171149\n",
        "0.0328604131753\n",
        "0.0327054170597"
       ]
      },
      {
       "output_type": "stream",
       "stream": "stdout",
       "text": [
        "\n",
        "0.0325360883385\n",
        "0.0324743606243\n",
        "0.0324429214581\n",
        "0.0324367594523"
       ]
      },
      {
       "output_type": "stream",
       "stream": "stdout",
       "text": [
        "\n",
        "0.0324303527122\n",
        "0.0323835425526\n",
        "0.0322264159592\n",
        "0.0319714257822"
       ]
      },
      {
       "output_type": "stream",
       "stream": "stdout",
       "text": [
        "\n",
        "0.031710244205\n",
        "0.0314178958897\n",
        "0.0309885683588\n",
        "0.0306430449489"
       ]
      },
      {
       "output_type": "stream",
       "stream": "stdout",
       "text": [
        "\n",
        "0.0302184770182\n",
        "0.0297901975089\n",
        "0.0293868629852\n",
        "0.0290644028355"
       ]
      },
      {
       "output_type": "stream",
       "stream": "stdout",
       "text": [
        "\n",
        "0.0287274988759\n",
        "0.0284456657126\n",
        "0.0281743343851\n",
        "0.0279545334967"
       ]
      },
      {
       "output_type": "stream",
       "stream": "stdout",
       "text": [
        "\n",
        "0.027834113678\n",
        "0.027729541815\n",
        "0.0277006780576\n",
        "0.027692030152"
       ]
      },
      {
       "output_type": "stream",
       "stream": "stdout",
       "text": [
        "\n",
        "0.0276903777324\n",
        "0.0276713372626\n",
        "0.0276187707694\n",
        "0.0274606321459"
       ]
      },
      {
       "output_type": "stream",
       "stream": "stdout",
       "text": [
        "\n",
        "0.0273068458874\n",
        "0.0270640348117\n",
        "0.0267726949214\n",
        "0.0263732528491"
       ]
      },
      {
       "output_type": "stream",
       "stream": "stdout",
       "text": [
        "\n",
        "0.0260724550589\n",
        "0.0255585401903\n",
        "0.0250437383141\n",
        "0.02433857341"
       ]
      },
      {
       "output_type": "stream",
       "stream": "stdout",
       "text": [
        "\n",
        "0.023880453908\n",
        "0.0235613600719\n",
        "0.0230801702326\n",
        "0.0226904089348"
       ]
      },
      {
       "output_type": "stream",
       "stream": "stdout",
       "text": [
        "\n",
        "0.0223303780772\n",
        "0.0220555684776\n",
        "0.0216451418654\n",
        "0.0213389298165"
       ]
      },
      {
       "output_type": "stream",
       "stream": "stdout",
       "text": [
        "\n",
        "0.0210384964392\n",
        "0.0207440081269\n",
        "0.0205346291948\n",
        "0.0203074227421"
       ]
      },
      {
       "output_type": "stream",
       "stream": "stdout",
       "text": [
        "\n",
        "0.0201926851109\n",
        "0.0200815991613\n",
        "0.0200263174755\n",
        "0.0199515255353"
       ]
      },
      {
       "output_type": "stream",
       "stream": "stdout",
       "text": [
        "\n",
        "0.0199185838596\n",
        "0.019895506938\n",
        "0.0198872075629\n",
        "0.0198862349992"
       ]
      },
      {
       "output_type": "stream",
       "stream": "stdout",
       "text": [
        "\n",
        "0.0198859394638\n",
        "0.0198767866073\n",
        "0.0198467633313\n",
        "0.0198021047199"
       ]
      },
      {
       "output_type": "stream",
       "stream": "stdout",
       "text": [
        "\n",
        "0.0197418706366\n",
        "0.0196431773322\n",
        "0.0195251800733\n",
        "0.0194264368082"
       ]
      },
      {
       "output_type": "stream",
       "stream": "stdout",
       "text": [
        "\n",
        "0.0192376852983\n",
        "0.0190471951191\n",
        "0.0188317829839\n",
        "0.0186515428521"
       ]
      },
      {
       "output_type": "stream",
       "stream": "stdout",
       "text": [
        "\n",
        "0.0185250096848\n",
        "0.0184305965467\n",
        "0.0182970449986\n",
        "0.0181865036382"
       ]
      },
      {
       "output_type": "stream",
       "stream": "stdout",
       "text": [
        "\n",
        "0.0181328788868\n",
        "0.0180762622917\n",
        "0.0180460647643\n",
        "0.0180316818751"
       ]
      },
      {
       "output_type": "stream",
       "stream": "stdout",
       "text": [
        "\n",
        "0.0180276451742\n",
        "0.01802754653\n",
        "0.0180267916243\n",
        "0.0180140430678"
       ]
      },
      {
       "output_type": "stream",
       "stream": "stdout",
       "text": [
        "\n",
        "0.0179869987189\n",
        "0.017936074074\n",
        "0.017859204111\n",
        "0.0177400270874"
       ]
      },
      {
       "output_type": "stream",
       "stream": "stdout",
       "text": [
        "\n",
        "0.0176286978945\n",
        "0.0174699132446\n",
        "0.0172242662975\n",
        "0.0169802476293"
       ]
      },
      {
       "output_type": "stream",
       "stream": "stdout",
       "text": [
        "\n",
        "0.0167883509347\n",
        "0.0164696772225\n",
        "0.016251883944\n",
        "0.0159790456085"
       ]
      },
      {
       "output_type": "stream",
       "stream": "stdout",
       "text": [
        "\n",
        "0.0157796546466\n",
        "0.0156376683992\n",
        "0.0155781557642\n",
        "0.0155271252317"
       ]
      },
      {
       "output_type": "stream",
       "stream": "stdout",
       "text": [
        "\n",
        "0.0154999771912\n",
        "0.0154862591193\n",
        "0.0154860266703\n",
        "0.0154736806554"
       ]
      },
      {
       "output_type": "stream",
       "stream": "stdout",
       "text": [
        "\n",
        "0.0154399957219\n",
        "0.015404524219\n",
        "0.0153247030469\n",
        "0.015219363965"
       ]
      },
      {
       "output_type": "stream",
       "stream": "stdout",
       "text": [
        "\n",
        "0.0150730991813\n",
        "0.0149335959468\n",
        "0.0146923199282\n",
        "0.014500176617"
       ]
      },
      {
       "output_type": "stream",
       "stream": "stdout",
       "text": [
        "\n",
        "0.0142904323036\n",
        "0.0140979342246\n",
        "0.0139677613333\n",
        "0.013855091029"
       ]
      },
      {
       "output_type": "stream",
       "stream": "stdout",
       "text": [
        "\n",
        "0.0137435010274\n",
        "0.0136257021452\n",
        "0.0135452205008\n",
        "0.0134931873897"
       ]
      },
      {
       "output_type": "stream",
       "stream": "stdout",
       "text": [
        "\n",
        "0.0134599311989\n",
        "0.0134408096459\n",
        "0.0134353103501\n",
        "0.0134347050071"
       ]
      },
      {
       "output_type": "stream",
       "stream": "stdout",
       "text": [
        "\n",
        "0.0134334528376\n",
        "0.0134280784178\n",
        "0.0134170123061\n",
        "0.0133910057185"
       ]
      },
      {
       "output_type": "stream",
       "stream": "stdout",
       "text": [
        "\n",
        "0.0133475857028\n",
        "0.0132700436571\n",
        "0.0131734987307\n",
        "0.0130713768834"
       ]
      },
      {
       "output_type": "stream",
       "stream": "stdout",
       "text": [
        "\n",
        "0.0129382598747\n",
        "0.0128652144095\n",
        "0.0126980864872\n",
        "0.0125569288096"
       ]
      },
      {
       "output_type": "stream",
       "stream": "stdout",
       "text": [
        "\n",
        "0.0124491212518\n",
        "0.0123390699001\n",
        "0.0121823199474\n",
        "0.0120714784234"
       ]
      },
      {
       "output_type": "stream",
       "stream": "stdout",
       "text": [
        "\n",
        "0.0119873015182\n",
        "0.0119126386414\n",
        "0.011856109922\n",
        "0.0118175139009"
       ]
      },
      {
       "output_type": "stream",
       "stream": "stdout",
       "text": [
        "\n",
        "0.0117806247376\n",
        "0.0117550677341\n",
        "0.0117407390051\n",
        "0.011734566096"
       ]
      },
      {
       "output_type": "stream",
       "stream": "stdout",
       "text": [
        "\n",
        "0.0117330666785\n",
        "0.0117329794151\n",
        "0.0117295666622\n",
        "0.0117201432189"
       ]
      },
      {
       "output_type": "stream",
       "stream": "stdout",
       "text": [
        "\n",
        "0.0117051234612\n",
        "0.011685835398\n",
        "0.0116527061588\n",
        "0.0116076853792"
       ]
      },
      {
       "output_type": "stream",
       "stream": "stdout",
       "text": [
        "\n",
        "0.0115581382819\n",
        "0.0114903986433\n",
        "0.0114345441172\n",
        "0.0113623331667"
       ]
      },
      {
       "output_type": "stream",
       "stream": "stdout",
       "text": [
        "\n",
        "0.011288959451\n",
        "0.011213290093\n",
        "0.0111492922052\n",
        "0.0110809437551"
       ]
      },
      {
       "output_type": "stream",
       "stream": "stdout",
       "text": [
        "\n",
        "0.0110157045007\n",
        "0.0109706737462\n",
        "0.0109295516475\n",
        "0.0109033220523"
       ]
      },
      {
       "output_type": "stream",
       "stream": "stdout",
       "text": [
        "\n",
        "0.0108863690548\n",
        "0.010880685186\n",
        "0.0108795626674\n",
        "0.0108795490422"
       ]
      },
      {
       "output_type": "stream",
       "stream": "stdout",
       "text": [
        "\n",
        "0.010876667032\n",
        "0.0108699356813\n",
        "0.0108538896801\n",
        "0.0108282286677"
       ]
      },
      {
       "output_type": "stream",
       "stream": "stdout",
       "text": [
        "\n",
        "0.0107900625539\n",
        "0.0107501139918\n",
        "0.0106873100737\n",
        "0.0105968384692"
       ]
      },
      {
       "output_type": "stream",
       "stream": "stdout",
       "text": [
        "\n",
        "0.0105051026577\n",
        "0.0104379904522\n",
        "0.0103323021892\n",
        "0.0102363402931"
       ]
      },
      {
       "output_type": "stream",
       "stream": "stdout",
       "text": [
        "\n",
        "0.0101472166745\n",
        "0.0100658272038\n",
        "0.010004414411\n",
        "0.00994862407258"
       ]
      },
      {
       "output_type": "stream",
       "stream": "stdout",
       "text": [
        "\n",
        "0.00991526041594\n",
        "0.00988417736265\n",
        "0.00986384619871\n",
        "0.00985594180457"
       ]
      },
      {
       "output_type": "stream",
       "stream": "stdout",
       "text": [
        "\n",
        "0.00985214483971\n",
        "0.00985085822494\n",
        "0.00985073389331\n",
        "0.00985006338211"
       ]
      },
      {
       "output_type": "stream",
       "stream": "stdout",
       "text": [
        "\n",
        "0.00984468639348\n",
        "0.00982968814774\n",
        "0.00980784555279\n",
        "0.00978046161592"
       ]
      },
      {
       "output_type": "stream",
       "stream": "stdout",
       "text": [
        "\n",
        "0.00974314688322\n",
        "0.00969872046932\n",
        "0.00964530906792\n",
        "0.00958510411497"
       ]
      },
      {
       "output_type": "stream",
       "stream": "stdout",
       "text": [
        "\n",
        "0.00952188247592\n",
        "0.00946841714083\n",
        "0.00939434782403\n",
        "0.00930650897321"
       ]
      },
      {
       "output_type": "stream",
       "stream": "stdout",
       "text": [
        "\n",
        "0.00923062519301\n",
        "0.0091659863495\n",
        "0.00910658741586\n",
        "0.00904735412055"
       ]
      },
      {
       "output_type": "stream",
       "stream": "stdout",
       "text": [
        "\n",
        "0.00898989178751\n",
        "0.00894608495512\n",
        "0.0089080188611\n",
        "0.00887434188656"
       ]
      },
      {
       "output_type": "stream",
       "stream": "stdout",
       "text": [
        "\n",
        "0.00885609427111\n",
        "0.00883655723553\n",
        "0.00882242248641\n",
        "0.00881269488568"
       ]
      },
      {
       "output_type": "stream",
       "stream": "stdout",
       "text": [
        "\n",
        "0.00881012073439\n",
        "0.00880956334356\n",
        "0.00880894603488\n",
        "0.00880536537977"
       ]
      },
      {
       "output_type": "stream",
       "stream": "stdout",
       "text": [
        "\n",
        "0.00879902825168\n",
        "0.00879068442056\n",
        "0.00877846605527\n",
        "0.00876218245717"
       ]
      },
      {
       "output_type": "stream",
       "stream": "stdout",
       "text": [
        "\n",
        "0.00873736089067\n",
        "0.00871121122656\n",
        "0.00867737830844\n",
        "0.00864066497095"
       ]
      },
      {
       "output_type": "stream",
       "stream": "stdout",
       "text": [
        "\n",
        "0.00861575992687\n",
        "0.00857422649116\n",
        "0.00853114574636\n",
        "0.0084911609804"
       ]
      },
      {
       "output_type": "stream",
       "stream": "stdout",
       "text": [
        "\n",
        "0.00846121475975\n",
        "0.00844116016739\n",
        "0.00842567709469\n",
        "0.00841314472882"
       ]
      },
      {
       "output_type": "stream",
       "stream": "stdout",
       "text": [
        "\n",
        "0.00840112395296\n",
        "0.00839653366565\n",
        "0.00839588816633\n",
        "0.00839588269715"
       ]
      },
      {
       "output_type": "stream",
       "stream": "stdout",
       "text": [
        "\n",
        "0.00839567075744\n",
        "0.00839300498649\n",
        "0.00838427967757\n",
        "0.00837007642267"
       ]
      },
      {
       "output_type": "stream",
       "stream": "stdout",
       "text": [
        "\n",
        "0.00834061124685\n",
        "0.00830261267858\n",
        "0.00825802737078\n",
        "0.00821041006196"
       ]
      },
      {
       "output_type": "stream",
       "stream": "stdout",
       "text": [
        "\n",
        "0.0081552014508\n",
        "0.00810422170234\n",
        "0.00806138747729\n",
        "0.00802020340452"
       ]
      },
      {
       "output_type": "stream",
       "stream": "stdout",
       "text": [
        "\n",
        "0.00798272632174\n",
        "0.00795493356888\n",
        "0.00793378503902\n",
        "0.00791990108254"
       ]
      },
      {
       "output_type": "stream",
       "stream": "stdout",
       "text": [
        "\n",
        "0.00791239093587\n",
        "0.00790984333355\n",
        "0.00790964038098\n",
        "0.00790912728169"
       ]
      },
      {
       "output_type": "stream",
       "stream": "stdout",
       "text": [
        "\n",
        "0.00790545749323\n",
        "0.00789729766798\n",
        "0.00788437717716\n",
        "0.00786338897892"
       ]
      },
      {
       "output_type": "stream",
       "stream": "stdout",
       "text": [
        "\n",
        "0.00783515654084\n",
        "0.00779910405326\n",
        "0.00776387124152\n",
        "0.00772491598305"
       ]
      },
      {
       "output_type": "stream",
       "stream": "stdout",
       "text": [
        "\n",
        "0.0076937169805\n",
        "0.00765308028593\n",
        "0.00762072559935\n",
        "0.00758869872042"
       ]
      },
      {
       "output_type": "stream",
       "stream": "stdout",
       "text": [
        "\n",
        "0.00757173172692\n",
        "0.00756202125573\n",
        "0.0075564136488\n",
        "0.00755344809464"
       ]
      },
      {
       "output_type": "stream",
       "stream": "stdout",
       "text": [
        "\n",
        "0.00755287104347\n",
        "0.00755232591136\n",
        "0.00754938335585\n",
        "0.00754410758136"
       ]
      },
      {
       "output_type": "stream",
       "stream": "stdout",
       "text": [
        "\n",
        "0.00753185738377\n",
        "0.00751327004091\n",
        "0.00749077080049\n",
        "0.00746211677899"
       ]
      },
      {
       "output_type": "stream",
       "stream": "stdout",
       "text": [
        "\n",
        "0.00743293275712\n",
        "0.00740459567185\n",
        "0.00737543506375\n",
        "0.0073431632476"
       ]
      },
      {
       "output_type": "stream",
       "stream": "stdout",
       "text": [
        "\n",
        "0.00731275675108\n",
        "0.00727159531\n",
        "0.00722748760992\n",
        "0.0071886796243"
       ]
      },
      {
       "output_type": "stream",
       "stream": "stdout",
       "text": [
        "\n",
        "0.00715610960283\n",
        "0.00712398405202\n",
        "0.00709036651477\n",
        "0.00706541979661"
       ]
      },
      {
       "output_type": "stream",
       "stream": "stdout",
       "text": [
        "\n",
        "0.00704805874678\n",
        "0.00703326898311\n",
        "0.0070227500769\n",
        "0.00701497681494"
       ]
      },
      {
       "output_type": "stream",
       "stream": "stdout",
       "text": [
        "\n",
        "0.00701025197285\n",
        "0.00700808504434\n",
        "0.00700774203938\n",
        "0.00700757263068"
       ]
      },
      {
       "output_type": "stream",
       "stream": "stdout",
       "text": [
        "\n",
        "0.00700601311151\n",
        "0.00700267425659\n",
        "0.00699841468299\n",
        "0.00699271133589"
       ]
      },
      {
       "output_type": "stream",
       "stream": "stdout",
       "text": [
        "\n",
        "0.00698386515724\n",
        "0.00696835332756\n",
        "0.00694592290379\n",
        "0.00691755915829"
       ]
      },
      {
       "output_type": "stream",
       "stream": "stdout",
       "text": [
        "\n",
        "0.00688414802009\n",
        "0.0068541993517\n",
        "0.00681823469194\n",
        "0.0067863820836"
       ]
      },
      {
       "output_type": "stream",
       "stream": "stdout",
       "text": [
        "\n",
        "0.00675402124729\n",
        "0.0067228787603\n",
        "0.00669610269243\n",
        "0.00666845102941"
       ]
      },
      {
       "output_type": "stream",
       "stream": "stdout",
       "text": [
        "\n",
        "0.00664541620633\n",
        "0.00663019188235\n",
        "0.00662101893655\n",
        "0.0066174859008"
       ]
      },
      {
       "output_type": "stream",
       "stream": "stdout",
       "text": [
        "\n",
        "0.00661628439149\n",
        "0.00661582703186\n",
        "0.0066158257546\n",
        "0.00661487634246"
       ]
      },
      {
       "output_type": "stream",
       "stream": "stdout",
       "text": [
        "\n",
        "0.00661179391237\n",
        "0.00660560369756\n",
        "0.00659471013337\n",
        "0.00657912235277"
       ]
      },
      {
       "output_type": "stream",
       "stream": "stdout",
       "text": [
        "\n",
        "0.006558700675\n",
        "0.00653767684374\n",
        "0.00651317173924\n",
        "0.00649140580379"
       ]
      },
      {
       "output_type": "stream",
       "stream": "stdout",
       "text": [
        "\n",
        "0.00646990278548\n",
        "0.00644757705727\n",
        "0.00642845664997\n",
        "0.00641083500472"
       ]
      },
      {
       "output_type": "stream",
       "stream": "stdout",
       "text": [
        "\n",
        "0.00639824132297\n",
        "0.0063889688126\n",
        "0.00638174822448\n",
        "0.00637474431951"
       ]
      },
      {
       "output_type": "stream",
       "stream": "stdout",
       "text": [
        "\n",
        "0.00637133300938\n",
        "0.00636982938572\n",
        "0.0063695832423\n",
        "0.00636957444798"
       ]
      },
      {
       "output_type": "stream",
       "stream": "stdout",
       "text": [
        "\n",
        "0.00636881626802\n",
        "0.00636729821997\n",
        "0.00636440805712\n",
        "0.00635968666562"
       ]
      },
      {
       "output_type": "stream",
       "stream": "stdout",
       "text": [
        "\n",
        "0.0063518628381\n",
        "0.00634225956419\n",
        "0.00633167422412\n",
        "0.00631785393017"
       ]
      },
      {
       "output_type": "stream",
       "stream": "stdout",
       "text": [
        "\n",
        "0.00630091700173\n",
        "0.00628173041188\n",
        "0.00626135657411\n",
        "0.00623798002471"
       ]
      },
      {
       "output_type": "stream",
       "stream": "stdout",
       "text": [
        "\n",
        "0.00621448210617\n",
        "0.00619052571092\n",
        "0.00617135516701\n",
        "0.00615963919435"
       ]
      },
      {
       "output_type": "stream",
       "stream": "stdout",
       "text": [
        "\n",
        "0.00614816183425\n",
        "0.0061403683121\n",
        "0.00613423602032\n",
        "0.0061311433174"
       ]
      },
      {
       "output_type": "stream",
       "stream": "stdout",
       "text": [
        "\n",
        "0.00612974029709\n",
        "0.0061294526523\n",
        "0.00612941559198\n",
        "0.00612915432479"
       ]
      },
      {
       "output_type": "stream",
       "stream": "stdout",
       "text": [
        "\n",
        "0.00612746576136\n",
        "0.00612344788136\n",
        "0.00611641129395\n",
        "0.00610714387169"
       ]
      },
      {
       "output_type": "stream",
       "stream": "stdout",
       "text": [
        "\n",
        "0.00609508934858\n",
        "0.006079349537\n",
        "0.00606053354627\n",
        "0.00604500501104"
       ]
      },
      {
       "output_type": "stream",
       "stream": "stdout",
       "text": [
        "\n",
        "0.0060311705511\n",
        "0.00601989120022\n",
        "0.00600854327991\n",
        "0.00599682767859"
       ]
      },
      {
       "output_type": "stream",
       "stream": "stdout",
       "text": [
        "\n",
        "0.00598293747184\n",
        "0.00597188111051\n",
        "0.00596174217144\n",
        "0.0059514700575"
       ]
      },
      {
       "output_type": "stream",
       "stream": "stdout",
       "text": [
        "\n",
        "0.00594436250357\n",
        "0.00594049691674\n",
        "0.0059381258906\n",
        "0.00593645440263"
       ]
      },
      {
       "output_type": "stream",
       "stream": "stdout",
       "text": [
        "\n",
        "0.00593554414929\n",
        "0.00593496136207\n",
        "0.00593472723365\n",
        "0.00593472265394"
       ]
      },
      {
       "output_type": "stream",
       "stream": "stdout",
       "text": [
        "\n",
        "0.0059344346933\n",
        "0.00593304005167\n",
        "0.00593005841646\n",
        "0.00592586112717"
       ]
      },
      {
       "output_type": "stream",
       "stream": "stdout",
       "text": [
        "\n",
        "0.00592079456749\n",
        "0.00591580124667\n",
        "0.0059091807611\n",
        "0.0059015863779"
       ]
      },
      {
       "output_type": "stream",
       "stream": "stdout",
       "text": [
        "\n",
        "0.00589258355967\n",
        "0.00588238147911\n",
        "0.00587181360395\n",
        "0.0058613597438"
       ]
      },
      {
       "output_type": "stream",
       "stream": "stdout",
       "text": [
        "\n",
        "0.00585137277046\n",
        "0.0058426805046\n",
        "0.00583642589765\n",
        "0.00583139303581"
       ]
      },
      {
       "output_type": "stream",
       "stream": "stdout",
       "text": [
        "\n",
        "0.00582759134472\n",
        "0.00582436737629\n",
        "0.00582271802445\n",
        "0.00582220309911"
       ]
      },
      {
       "output_type": "stream",
       "stream": "stdout",
       "text": [
        "\n",
        "0.0058219181526\n",
        "0.00582178937492\n",
        "0.0058216275935\n",
        "0.00582154581219"
       ]
      },
      {
       "output_type": "stream",
       "stream": "stdout",
       "text": [
        "\n",
        "0.00582154581186\n",
        "0.00582109287967\n",
        "0.00581969061609\n",
        "0.00581690323315"
       ]
      },
      {
       "output_type": "stream",
       "stream": "stdout",
       "text": [
        "\n",
        "0.00581307350499\n",
        "0.00580925939169\n",
        "0.00580465005669\n",
        "0.00579925411637"
       ]
      },
      {
       "output_type": "stream",
       "stream": "stdout",
       "text": [
        "\n",
        "0.0057915542815\n",
        "0.00578408299401\n",
        "0.0057754367897\n",
        "0.00576602273101"
       ]
      },
      {
       "output_type": "stream",
       "stream": "stdout",
       "text": [
        "\n",
        "0.00575525320937\n",
        "0.00574759667449\n",
        "0.00574224476266\n",
        "0.00573775853473"
       ]
      },
      {
       "output_type": "stream",
       "stream": "stdout",
       "text": [
        "\n",
        "0.00573356887828\n",
        "0.00573002077727\n",
        "0.0057278509544\n",
        "0.00572604624065"
       ]
      },
      {
       "output_type": "stream",
       "stream": "stdout",
       "text": [
        "\n",
        "0.00572504069781\n",
        "0.00572471704404\n",
        "0.00572469625959\n",
        "0.00572452318253"
       ]
      },
      {
       "output_type": "stream",
       "stream": "stdout",
       "text": [
        "\n",
        "0.00572348409895\n",
        "0.00572119270253\n",
        "0.00571748536318\n",
        "0.0057132588818"
       ]
      },
      {
       "output_type": "stream",
       "stream": "stdout",
       "text": [
        "\n",
        "0.0057086795889\n",
        "0.00570351111732\n",
        "0.00569916397155\n",
        "0.00569231152774"
       ]
      },
      {
       "output_type": "stream",
       "stream": "stdout",
       "text": [
        "\n",
        "0.005683636222\n",
        "0.00567065190063\n",
        "0.00565330095208\n",
        "0.00563625352781"
       ]
      },
      {
       "output_type": "stream",
       "stream": "stdout",
       "text": [
        "\n",
        "0.00561601088436\n",
        "0.00559606560303\n",
        "0.00557237430781\n",
        "0.00554979889882"
       ]
      },
      {
       "output_type": "stream",
       "stream": "stdout",
       "text": [
        "\n",
        "0.00552152521807\n",
        "0.00549882796273\n",
        "0.00547387914537\n",
        "0.00545720073372"
       ]
      },
      {
       "output_type": "stream",
       "stream": "stdout",
       "text": [
        "\n",
        "0.00544015637913\n",
        "0.00542426855175\n",
        "0.0054134215903\n",
        "0.00540628949531"
       ]
      },
      {
       "output_type": "stream",
       "stream": "stdout",
       "text": [
        "\n",
        "0.00540319519837\n",
        "0.00540231322784\n",
        "0.00540230912159\n",
        "0.00540208132003"
       ]
      },
      {
       "output_type": "stream",
       "stream": "stdout",
       "text": [
        "\n",
        "0.00540052366191\n",
        "0.00539611211631\n",
        "0.00538691197279\n",
        "0.00537423631602"
       ]
      },
      {
       "output_type": "stream",
       "stream": "stdout",
       "text": [
        "\n",
        "0.00535753155043\n",
        "0.0053378619373\n",
        "0.00531954847539\n",
        "0.00529996311512"
       ]
      },
      {
       "output_type": "stream",
       "stream": "stdout",
       "text": [
        "\n",
        "0.00527740171544\n",
        "0.00525557060491\n",
        "0.00522982770668\n",
        "0.00520429875184"
       ]
      },
      {
       "output_type": "stream",
       "stream": "stdout",
       "text": [
        "\n",
        "0.00517876392646\n",
        "0.00515417059367\n",
        "0.00513242372223\n",
        "0.00511520942839"
       ]
      },
      {
       "output_type": "stream",
       "stream": "stdout",
       "text": [
        "\n",
        "0.00509910887227\n",
        "0.00508841636952\n",
        "0.0050795774295\n",
        "0.00507266837399"
       ]
      },
      {
       "output_type": "stream",
       "stream": "stdout",
       "text": [
        "\n",
        "0.0050674242732\n",
        "0.00506360757341\n",
        "0.00506093832358\n",
        "0.00505969962725"
       ]
      },
      {
       "output_type": "stream",
       "stream": "stdout",
       "text": [
        "\n",
        "0.0050593579983\n",
        "0.00505935278714\n",
        "0.00505911442865\n",
        "0.00505826608147"
       ]
      },
      {
       "output_type": "stream",
       "stream": "stdout",
       "text": [
        "\n",
        "0.0050566391774\n",
        "0.00505305370904\n",
        "0.00504593390281\n",
        "0.0050357573155"
       ]
      },
      {
       "output_type": "stream",
       "stream": "stdout",
       "text": [
        "\n",
        "0.00502356401382\n",
        "0.00500885529689\n",
        "0.00499276521024\n",
        "0.00497812047162"
       ]
      },
      {
       "output_type": "stream",
       "stream": "stdout",
       "text": [
        "\n",
        "0.00496142075938\n",
        "0.00494810866198\n",
        "0.00493245369455\n",
        "0.00491599506102"
       ]
      },
      {
       "output_type": "stream",
       "stream": "stdout",
       "text": [
        "\n",
        "0.0049031332985\n",
        "0.00489036622769\n",
        "0.00488094168814\n",
        "0.00487093977481"
       ]
      },
      {
       "output_type": "stream",
       "stream": "stdout",
       "text": [
        "\n",
        "0.00486298937829\n",
        "0.00485698971301\n",
        "0.00485265771065\n",
        "0.00485022107062"
       ]
      },
      {
       "output_type": "stream",
       "stream": "stdout",
       "text": [
        "\n",
        "0.00484850530432\n",
        "0.00484726090288\n",
        "0.00484651335983\n",
        "0.00484633206616"
       ]
      },
      {
       "output_type": "stream",
       "stream": "stdout",
       "text": [
        "\n",
        "0.00484629083491\n",
        "0.00484629082365\n",
        "0.0048460958635\n",
        "0.00484513821895"
       ]
      },
      {
       "output_type": "stream",
       "stream": "stdout",
       "text": [
        "\n",
        "0.00484321513762\n",
        "0.00484009803809\n",
        "0.00483595169096\n",
        "0.00483011142617"
       ]
      },
      {
       "output_type": "stream",
       "stream": "stdout",
       "text": [
        "\n",
        "0.0048231762069\n",
        "0.00481363532445\n",
        "0.00480351431673\n",
        "0.00479186633141"
       ]
      },
      {
       "output_type": "stream",
       "stream": "stdout",
       "text": [
        "\n",
        "0.00477720114772\n",
        "0.00476433383737\n",
        "0.00474975743312\n",
        "0.00472934706567"
       ]
      },
      {
       "output_type": "stream",
       "stream": "stdout",
       "text": [
        "\n",
        "0.00471243608557\n",
        "0.00470012239454\n",
        "0.00468848137487\n",
        "0.00467892293261"
       ]
      },
      {
       "output_type": "stream",
       "stream": "stdout",
       "text": [
        "\n",
        "0.00467051286059\n",
        "0.00466520898082\n",
        "0.00466199502041\n",
        "0.00466013109464"
       ]
      },
      {
       "output_type": "stream",
       "stream": "stdout",
       "text": [
        "\n",
        "0.00465955296157\n",
        "0.00465947912758\n",
        "0.00465941359979\n",
        "0.0046588716082"
       ]
      },
      {
       "output_type": "stream",
       "stream": "stdout",
       "text": [
        "\n",
        "0.00465812512115\n",
        "0.00465669213346\n",
        "0.00465434367945\n",
        "0.00464997725395"
       ]
      },
      {
       "output_type": "stream",
       "stream": "stdout",
       "text": [
        "\n",
        "0.00464487139464\n",
        "0.00463903095759\n",
        "0.00463216175069\n",
        "0.00462589037262"
       ]
      },
      {
       "output_type": "stream",
       "stream": "stdout",
       "text": [
        "\n",
        "0.00462081322934\n",
        "0.00461680786601\n",
        "0.00461195335757\n",
        "0.00460623357025"
       ]
      },
      {
       "output_type": "stream",
       "stream": "stdout",
       "text": [
        "\n",
        "0.00460108642284\n",
        "0.00459781193384\n",
        "0.00459443939296\n",
        "0.00459131800698"
       ]
      },
      {
       "output_type": "stream",
       "stream": "stdout",
       "text": [
        "\n",
        "0.00458868865288\n",
        "0.00458635110437\n",
        "0.00458390329681\n",
        "0.00458203910141"
       ]
      },
      {
       "output_type": "stream",
       "stream": "stdout",
       "text": [
        "\n",
        "0.0045807496156\n",
        "0.00457997668337\n",
        "0.00457951951395\n",
        "0.00457936985361"
       ]
      },
      {
       "output_type": "stream",
       "stream": "stdout",
       "text": [
        "\n",
        "0.00457936299829\n",
        "0.00457935443115\n",
        "0.00457919453137\n",
        "0.0045788875056"
       ]
      },
      {
       "output_type": "stream",
       "stream": "stdout",
       "text": [
        "\n",
        "0.00457841701407\n",
        "0.00457746933341\n",
        "0.00457580299032\n",
        "0.00457403086528"
       ]
      },
      {
       "output_type": "stream",
       "stream": "stdout",
       "text": [
        "\n",
        "0.00457169053183\n",
        "0.00456824036313\n",
        "0.00456472537824\n",
        "0.00456040691671"
       ]
      },
      {
       "output_type": "stream",
       "stream": "stdout",
       "text": [
        "\n",
        "0.0045537837708\n",
        "0.00454776833172\n",
        "0.00454128353108\n",
        "0.00453512413266"
       ]
      },
      {
       "output_type": "stream",
       "stream": "stdout",
       "text": [
        "\n",
        "0.00453022050438\n",
        "0.0045255059023\n",
        "0.00452128759639\n",
        "0.00451775721211"
       ]
      },
      {
       "output_type": "stream",
       "stream": "stdout",
       "text": [
        "\n",
        "0.00451531787302\n",
        "0.00451372484998\n",
        "0.00451259273219\n",
        "0.00451165909617"
       ]
      },
      {
       "output_type": "stream",
       "stream": "stdout",
       "text": [
        "\n",
        "0.00451126397981\n",
        "0.00451110313867\n",
        "0.0045110521398\n",
        "0.00451103476231"
       ]
      },
      {
       "output_type": "stream",
       "stream": "stdout",
       "text": [
        "\n",
        "0.00451071309455\n",
        "0.0045090206091\n",
        "0.00450598657835\n",
        "0.00450208462465"
       ]
      },
      {
       "output_type": "stream",
       "stream": "stdout",
       "text": [
        "\n",
        "0.00449600438072\n",
        "0.00448707216035\n",
        "0.00447576433669\n",
        "0.00446542470541"
       ]
      },
      {
       "output_type": "stream",
       "stream": "stdout",
       "text": [
        "\n",
        "0.00445234622494\n",
        "0.00443695287127\n",
        "0.00442193944284\n",
        "0.00440810582129"
       ]
      },
      {
       "output_type": "stream",
       "stream": "stdout",
       "text": [
        "\n",
        "0.00439470914625\n",
        "0.00438396688528\n",
        "0.00437365469936\n",
        "0.00436348526489"
       ]
      },
      {
       "output_type": "stream",
       "stream": "stdout",
       "text": [
        "\n",
        "0.00435374675152\n",
        "0.00434401470189\n",
        "0.00433636944051\n",
        "0.00432809212784"
       ]
      },
      {
       "output_type": "stream",
       "stream": "stdout",
       "text": [
        "\n",
        "0.00432105871364\n",
        "0.00431592733227\n",
        "0.00431154296721\n",
        "0.0043062450105"
       ]
      },
      {
       "output_type": "stream",
       "stream": "stdout",
       "text": [
        "\n",
        "0.00430074705645\n",
        "0.0042952763247\n",
        "0.00429122988622\n",
        "0.0042883256987"
       ]
      },
      {
       "output_type": "stream",
       "stream": "stdout",
       "text": [
        "\n",
        "0.00428628532644\n",
        "0.00428456586849\n",
        "0.00428344858278\n",
        "0.004283001623"
       ]
      },
      {
       "output_type": "stream",
       "stream": "stdout",
       "text": [
        "\n",
        "0.00428292228396\n",
        "0.00428292217747\n",
        "0.00428283476611\n",
        "0.00428219760053"
       ]
      },
      {
       "output_type": "stream",
       "stream": "stdout",
       "text": [
        "\n",
        "0.00428081119497\n",
        "0.00427904309302\n",
        "0.00427621392583\n",
        "0.00427268411688"
       ]
      },
      {
       "output_type": "stream",
       "stream": "stdout",
       "text": [
        "\n",
        "0.00426803515154\n",
        "0.00426028738064\n",
        "0.00425278687303\n",
        "0.00424389388264"
       ]
      },
      {
       "output_type": "stream",
       "stream": "stdout",
       "text": [
        "\n",
        "0.00423843428111\n",
        "0.0042340648214\n",
        "0.00422924577109\n",
        "0.00422407046641"
       ]
      },
      {
       "output_type": "stream",
       "stream": "stdout",
       "text": [
        "\n",
        "0.00422041749509\n",
        "0.00421762136754\n",
        "0.0042158840501\n",
        "0.00421491028041"
       ]
      },
      {
       "output_type": "stream",
       "stream": "stdout",
       "text": [
        "\n",
        "0.00421420079277\n",
        "0.00421351838895\n",
        "0.00421300008432\n",
        "0.00421294827925"
       ]
      },
      {
       "output_type": "stream",
       "stream": "stdout",
       "text": [
        "\n",
        "0.00421283112539\n",
        "0.00421244398201\n",
        "0.0042112373972\n",
        "0.00420915488354"
       ]
      },
      {
       "output_type": "stream",
       "stream": "stdout",
       "text": [
        "\n",
        "0.00420627858729\n",
        "0.00420274699767\n",
        "0.0041986784023\n",
        "0.00419435078479"
       ]
      },
      {
       "output_type": "stream",
       "stream": "stdout",
       "text": [
        "\n",
        "0.00418780541897\n",
        "0.00418259502703\n",
        "0.00417803129238\n",
        "0.00417409255703"
       ]
      },
      {
       "output_type": "stream",
       "stream": "stdout",
       "text": [
        "\n",
        "0.0041696070656\n",
        "0.00416612692828\n",
        "0.00416317001601\n",
        "0.0041606060913"
       ]
      },
      {
       "output_type": "stream",
       "stream": "stdout",
       "text": [
        "\n",
        "0.00415829084496\n",
        "0.00415716731144\n",
        "0.00415691834042\n",
        "0.00415679452672"
       ]
      },
      {
       "output_type": "stream",
       "stream": "stdout",
       "text": [
        "\n",
        "0.00415666928095\n",
        "0.0041566478919\n",
        "0.00415664497405\n",
        "0.00415651268933"
       ]
      },
      {
       "output_type": "stream",
       "stream": "stdout",
       "text": [
        "\n",
        "0.00415632441876\n",
        "0.00415619630033\n",
        "0.00415568142485\n",
        "0.00415478251502"
       ]
      },
      {
       "output_type": "stream",
       "stream": "stdout",
       "text": [
        "\n",
        "0.00415384597004\n",
        "0.00415259463683\n",
        "0.00415078767651\n",
        "0.00414799083296"
       ]
      },
      {
       "output_type": "stream",
       "stream": "stdout",
       "text": [
        "\n",
        "0.00414450107053\n",
        "0.00414145915851\n",
        "0.00413818508347\n",
        "0.00413436955514"
       ]
      },
      {
       "output_type": "stream",
       "stream": "stdout",
       "text": [
        "\n",
        "0.00412972995452\n",
        "0.00412598949644\n",
        "0.00412225910448\n",
        "0.00411913176763"
       ]
      },
      {
       "output_type": "stream",
       "stream": "stdout",
       "text": [
        "\n",
        "0.00411611852872\n",
        "0.00411283647572\n",
        "0.00410921917391\n",
        "0.00410586981095"
       ]
      },
      {
       "output_type": "stream",
       "stream": "stdout",
       "text": [
        "\n",
        "0.00410280801537\n",
        "0.00409935985076\n",
        "0.00409613050764\n",
        "0.00409399913985"
       ]
      },
      {
       "output_type": "stream",
       "stream": "stdout",
       "text": [
        "\n",
        "0.00409294780355\n",
        "0.00409209841342\n",
        "0.00409146713095\n",
        "0.00409126849147"
       ]
      },
      {
       "output_type": "stream",
       "stream": "stdout",
       "text": [
        "\n",
        "0.00409124636232\n",
        "0.00409124092525\n",
        "0.00409104543295\n",
        "0.00408968994264"
       ]
      },
      {
       "output_type": "stream",
       "stream": "stdout",
       "text": [
        "\n",
        "0.00408678791229\n",
        "0.00408338824579\n",
        "0.00408061820928\n",
        "0.00407726002189"
       ]
      },
      {
       "output_type": "stream",
       "stream": "stdout",
       "text": [
        "\n",
        "0.00407245939244\n",
        "0.00406842951141\n",
        "0.00406337412953\n",
        "0.00405779474749"
       ]
      },
      {
       "output_type": "stream",
       "stream": "stdout",
       "text": [
        "\n",
        "0.00405333570149\n",
        "0.00404892644047\n",
        "0.00404430475126\n",
        "0.00404053209239"
       ]
      },
      {
       "output_type": "stream",
       "stream": "stdout",
       "text": [
        "\n",
        "0.00403763520989\n",
        "0.00403522559783\n",
        "0.00403294009585\n",
        "0.00403010159915"
       ]
      },
      {
       "output_type": "stream",
       "stream": "stdout",
       "text": [
        "\n",
        "0.0040279453501\n",
        "0.00402576404114\n",
        "0.00402457604216\n",
        "0.00402409300136"
       ]
      },
      {
       "output_type": "stream",
       "stream": "stdout",
       "text": [
        "\n",
        "0.00402396242676\n",
        "0.00402383123979\n",
        "0.00402377507705\n",
        "0.0040237610902"
       ]
      },
      {
       "output_type": "stream",
       "stream": "stdout",
       "text": [
        "\n",
        "0.00402374353706\n",
        "0.00402374346283\n",
        "0.00402358008161\n",
        "0.00402306185034"
       ]
      },
      {
       "output_type": "stream",
       "stream": "stdout",
       "text": [
        "\n",
        "0.00402243651623\n",
        "0.00402127832548\n",
        "0.00401885621712\n",
        "0.00401486158597"
       ]
      },
      {
       "output_type": "stream",
       "stream": "stdout",
       "text": [
        "\n",
        "0.00400962603497\n",
        "0.00400185713968\n",
        "0.00399417884946\n",
        "0.00398415659927"
       ]
      },
      {
       "output_type": "stream",
       "stream": "stdout",
       "text": [
        "\n",
        "0.00397136012894\n",
        "0.00395316170019\n",
        "0.00393640215249\n",
        "0.00391872805202"
       ]
      },
      {
       "output_type": "stream",
       "stream": "stdout",
       "text": [
        "\n",
        "0.00389928258842\n",
        "0.00388041638068\n",
        "0.00386095863425\n",
        "0.00384500747531"
       ]
      },
      {
       "output_type": "stream",
       "stream": "stdout",
       "text": [
        "\n",
        "0.00382940502579\n",
        "0.00381676895239\n",
        "0.00380606276997\n",
        "0.00379884964024"
       ]
      },
      {
       "output_type": "stream",
       "stream": "stdout",
       "text": [
        "\n",
        "0.00379123722913\n",
        "0.00378410259171\n",
        "0.00377982902957\n",
        "0.00377785339564"
       ]
      },
      {
       "output_type": "stream",
       "stream": "stdout",
       "text": [
        "\n",
        "0.00377713580295\n",
        "0.0037769846513\n",
        "0.00377698076922\n",
        "0.00377678760022"
       ]
      },
      {
       "output_type": "stream",
       "stream": "stdout",
       "text": [
        "\n",
        "0.00377581363448\n",
        "0.00377375730345\n",
        "0.00376986838964\n",
        "0.00376479190615"
       ]
      },
      {
       "output_type": "stream",
       "stream": "stdout",
       "text": [
        "\n",
        "0.00375725558007\n",
        "0.00374601065193\n",
        "0.00373034008428\n",
        "0.00371601803521"
       ]
      },
      {
       "output_type": "stream",
       "stream": "stdout",
       "text": [
        "\n",
        "0.00369913621372\n",
        "0.00368569458427\n",
        "0.00367385800202\n",
        "0.00366196718707"
       ]
      },
      {
       "output_type": "stream",
       "stream": "stdout",
       "text": [
        "\n",
        "0.00365021222662\n",
        "0.0036387055532\n",
        "0.00362865718258\n",
        "0.00361783276881"
       ]
      },
      {
       "output_type": "stream",
       "stream": "stdout",
       "text": [
        "\n",
        "0.00360769743646\n",
        "0.00360009560289\n",
        "0.00359472816613\n",
        "0.00359089711546"
       ]
      },
      {
       "output_type": "stream",
       "stream": "stdout",
       "text": [
        "\n",
        "0.0035875741456\n",
        "0.00358596386384\n",
        "0.00358558298894\n",
        "0.00358547738329"
       ]
      },
      {
       "output_type": "stream",
       "stream": "stdout",
       "text": [
        "\n",
        "0.00358547048887\n",
        "0.00358474020388\n",
        "0.00358341591213\n",
        "0.00358180174435"
       ]
      },
      {
       "output_type": "stream",
       "stream": "stdout",
       "text": [
        "\n",
        "0.0035790302416\n",
        "0.00357566979273\n",
        "0.00356958543295\n",
        "0.00356168792617"
       ]
      },
      {
       "output_type": "stream",
       "stream": "stdout",
       "text": [
        "\n",
        "0.00355419873447\n",
        "0.00354615961607\n",
        "0.00353559415056\n",
        "0.0035223929256"
       ]
      },
      {
       "output_type": "stream",
       "stream": "stdout",
       "text": [
        "\n",
        "0.00350768206101\n",
        "0.00349585492372\n",
        "0.00348341423776\n",
        "0.00346734254346"
       ]
      },
      {
       "output_type": "stream",
       "stream": "stdout",
       "text": [
        "\n",
        "0.00345228363641\n",
        "0.00343522190097\n",
        "0.00341842630744\n",
        "0.00339806487108"
       ]
      },
      {
       "output_type": "stream",
       "stream": "stdout",
       "text": [
        "\n",
        "0.00337584317647\n",
        "0.00335624315065\n",
        "0.00333703550782\n",
        "0.00332247722812"
       ]
      },
      {
       "output_type": "stream",
       "stream": "stdout",
       "text": [
        "\n",
        "0.00331186042876\n",
        "0.00330054354016\n",
        "0.00329110311892\n",
        "0.00328437996154"
       ]
      },
      {
       "output_type": "stream",
       "stream": "stdout",
       "text": [
        "\n",
        "0.0032796092093\n",
        "0.00327410648558\n",
        "0.00327086791098\n",
        "0.00326825990607"
       ]
      },
      {
       "output_type": "stream",
       "stream": "stdout",
       "text": [
        "\n",
        "0.00326680744228\n",
        "0.00326633024501\n",
        "0.00326620061968\n",
        "0.00326619894819"
       ]
      },
      {
       "output_type": "stream",
       "stream": "stdout",
       "text": [
        "\n",
        "0.00326596192846\n",
        "0.00326511347619\n",
        "0.00326307191285\n",
        "0.00325984506734"
       ]
      },
      {
       "output_type": "stream",
       "stream": "stdout",
       "text": [
        "\n",
        "0.0032559834877\n",
        "0.00325181450862\n",
        "0.00324570474359\n",
        "0.00323812831526"
       ]
      },
      {
       "output_type": "stream",
       "stream": "stdout",
       "text": [
        "\n",
        "0.00322916366\n",
        "0.0032225530833\n",
        "0.00321424594594\n",
        "0.00320687790052"
       ]
      },
      {
       "output_type": "stream",
       "stream": "stdout",
       "text": [
        "\n",
        "0.00320018345051\n",
        "0.00319426998623\n",
        "0.00318804211274\n",
        "0.00318209475359"
       ]
      },
      {
       "output_type": "stream",
       "stream": "stdout",
       "text": [
        "\n",
        "0.00317665360459\n",
        "0.00317092453363\n",
        "0.00316530600034\n",
        "0.00316036668668"
       ]
      },
      {
       "output_type": "stream",
       "stream": "stdout",
       "text": [
        "\n",
        "0.00315550245666\n",
        "0.00315160563907\n",
        "0.00314700048329\n",
        "0.0031425210436"
       ]
      },
      {
       "output_type": "stream",
       "stream": "stdout",
       "text": [
        "\n",
        "0.00313953142109\n",
        "0.00313630539226\n",
        "0.00313364933078\n",
        "0.00312997886854"
       ]
      },
      {
       "output_type": "stream",
       "stream": "stdout",
       "text": [
        "\n",
        "0.00312639860113\n",
        "0.00312341896577\n",
        "0.00312069323889\n",
        "0.00311835660089"
       ]
      },
      {
       "output_type": "stream",
       "stream": "stdout",
       "text": [
        "\n",
        "0.00311630706079\n",
        "0.00311522761978\n",
        "0.00311497860748\n",
        "0.00311492042642"
       ]
      },
      {
       "output_type": "stream",
       "stream": "stdout",
       "text": [
        "\n",
        "0.00311490112529\n",
        "0.00311479408944\n",
        "0.00311387246109\n",
        "0.00311250202499"
       ]
      },
      {
       "output_type": "stream",
       "stream": "stdout",
       "text": [
        "\n",
        "0.00311089192477\n",
        "0.00310813159798\n",
        "0.00310272506805\n",
        "0.00309598759998"
       ]
      },
      {
       "output_type": "stream",
       "stream": "stdout",
       "text": [
        "\n",
        "0.00308980953193\n",
        "0.00308347969648\n",
        "0.003077447478\n",
        "0.00307061438073"
       ]
      },
      {
       "output_type": "stream",
       "stream": "stdout",
       "text": [
        "\n",
        "0.00306493142074\n",
        "0.00305969123235\n",
        "0.00305621003131\n",
        "0.00305390645208"
       ]
      },
      {
       "output_type": "stream",
       "stream": "stdout",
       "text": [
        "\n",
        "0.00305217231535\n",
        "0.00305074631577\n",
        "0.00305004653275\n",
        "0.00304975660754"
       ]
      },
      {
       "output_type": "stream",
       "stream": "stdout",
       "text": [
        "\n",
        "0.00304970888992\n",
        "0.00304970833073\n",
        "0.00304966713225\n",
        "0.00304961569411"
       ]
      },
      {
       "output_type": "stream",
       "stream": "stdout",
       "text": [
        "\n",
        "0.00304936958727\n",
        "0.00304909312149\n",
        "0.00304870077913\n",
        "0.00304807755593"
       ]
      },
      {
       "output_type": "stream",
       "stream": "stdout",
       "text": [
        "\n",
        "0.00304703239792\n",
        "0.00304549759069\n",
        "0.00304410709064\n",
        "0.00304223797655"
       ]
      },
      {
       "output_type": "stream",
       "stream": "stdout",
       "text": [
        "\n",
        "0.00303987319126\n",
        "0.00303807246033\n",
        "0.00303625211576\n",
        "0.00303432141823"
       ]
      },
      {
       "output_type": "stream",
       "stream": "stdout",
       "text": [
        "\n",
        "0.00303219354657\n",
        "0.00302987451443\n",
        "0.00302743464145\n",
        "0.0030246916103"
       ]
      },
      {
       "output_type": "stream",
       "stream": "stdout",
       "text": [
        "\n",
        "0.00302179589491\n",
        "0.00301896036488\n",
        "0.00301629274936\n",
        "0.00301460306258"
       ]
      },
      {
       "output_type": "stream",
       "stream": "stdout",
       "text": [
        "\n",
        "0.00301243682959\n",
        "0.00301033414666\n",
        "0.00300847262311\n",
        "0.0030063096343"
       ]
      },
      {
       "output_type": "stream",
       "stream": "stdout",
       "text": [
        "\n",
        "0.00300424839367\n",
        "0.00300182714358\n",
        "0.00299980670253\n",
        "0.00299749821033"
       ]
      },
      {
       "output_type": "stream",
       "stream": "stdout",
       "text": [
        "\n",
        "0.00299527619953\n",
        "0.00299305969051\n",
        "0.0029906898701\n",
        "0.00298881517758"
       ]
      },
      {
       "output_type": "stream",
       "stream": "stdout",
       "text": [
        "\n",
        "0.00298735869036\n",
        "0.00298682601275\n",
        "0.00298673653215\n",
        "0.00298670755347"
       ]
      },
      {
       "output_type": "stream",
       "stream": "stdout",
       "text": [
        "\n",
        "0.0029867071321\n",
        "0.00298666107239\n",
        "0.00298650739388\n",
        "0.00298625135909"
       ]
      },
      {
       "output_type": "stream",
       "stream": "stdout",
       "text": [
        "\n",
        "0.00298580578554\n",
        "0.00298492312589\n",
        "0.00298381806673\n",
        "0.00298248704412"
       ]
      },
      {
       "output_type": "stream",
       "stream": "stdout",
       "text": [
        "\n",
        "0.0029814682515\n",
        "0.00298043155071\n",
        "0.00297934306429\n",
        "0.00297806235331"
       ]
      },
      {
       "output_type": "stream",
       "stream": "stdout",
       "text": [
        "\n",
        "0.00297682793256\n",
        "0.00297535332942\n",
        "0.00297412348575\n",
        "0.00297314877433"
       ]
      },
      {
       "output_type": "stream",
       "stream": "stdout",
       "text": [
        "\n",
        "0.00297271788896\n",
        "0.00297263752499\n",
        "0.00297240327599\n",
        "0.00297183023159"
       ]
      },
      {
       "output_type": "stream",
       "stream": "stdout",
       "text": [
        "\n",
        "0.00297121487864\n",
        "0.00297066538094\n",
        "0.00297005768836\n",
        "0.0029697018669"
       ]
      },
      {
       "output_type": "stream",
       "stream": "stdout",
       "text": [
        "\n",
        "0.00296945468324\n",
        "0.00296940284873\n",
        "0.00296939545388\n",
        "0.0029693837781"
       ]
      },
      {
       "output_type": "stream",
       "stream": "stdout",
       "text": [
        "\n",
        "0.00296931363482\n",
        "0.00296920084673\n",
        "0.0029687666167\n",
        "0.00296810583211"
       ]
      },
      {
       "output_type": "stream",
       "stream": "stdout",
       "text": [
        "\n",
        "0.00296693840272\n",
        "0.00296613195491\n",
        "0.00296515995165\n",
        "0.00296344942367"
       ]
      },
      {
       "output_type": "stream",
       "stream": "stdout",
       "text": [
        "\n",
        "0.00296204591898\n",
        "0.00296064403348\n",
        "0.00295845512643\n",
        "0.00295585007417"
       ]
      },
      {
       "output_type": "stream",
       "stream": "stdout",
       "text": [
        "\n",
        "0.00295417692979\n",
        "0.00295313568948\n",
        "0.00295192826684\n",
        "0.00295079948004"
       ]
      },
      {
       "output_type": "stream",
       "stream": "stdout",
       "text": [
        "\n",
        "0.00294972475949\n",
        "0.00294827926896\n",
        "0.00294730127581\n",
        "0.00294617286221"
       ]
      },
      {
       "output_type": "stream",
       "stream": "stdout",
       "text": [
        "\n",
        "0.00294509707746\n",
        "0.002944593105\n",
        "0.00294433439878\n",
        "0.00294412491333"
       ]
      },
      {
       "output_type": "stream",
       "stream": "stdout",
       "text": [
        "\n",
        "0.00294402516801\n",
        "0.00294399349398\n",
        "0.00294381797288\n",
        "0.00294339686565"
       ]
      },
      {
       "output_type": "stream",
       "stream": "stdout",
       "text": [
        "\n",
        "0.00294291873895\n",
        "0.00294230239508\n",
        "0.00294123620441\n",
        "0.00294023640199"
       ]
      },
      {
       "output_type": "stream",
       "stream": "stdout",
       "text": [
        "\n",
        "0.00293927792484\n",
        "0.00293834423677\n",
        "0.00293666587838\n",
        "0.00293363056451"
       ]
      },
      {
       "output_type": "stream",
       "stream": "stdout",
       "text": [
        "\n",
        "0.00293097176461\n",
        "0.00292795261514\n",
        "0.00292490122632\n",
        "0.00292090048045"
       ]
      },
      {
       "output_type": "stream",
       "stream": "stdout",
       "text": [
        "\n",
        "0.00291725653531\n",
        "0.00291355845165\n",
        "0.00290987233475\n",
        "0.00290608881358"
       ]
      },
      {
       "output_type": "stream",
       "stream": "stdout",
       "text": [
        "\n",
        "0.00290259904681\n",
        "0.0028994791796\n",
        "0.00289693829859\n",
        "0.00289538109723"
       ]
      },
      {
       "output_type": "stream",
       "stream": "stdout",
       "text": [
        "\n",
        "0.00289376184085\n",
        "0.00289246460368\n",
        "0.00289179628262\n",
        "0.00289144581221"
       ]
      },
      {
       "output_type": "stream",
       "stream": "stdout",
       "text": [
        "\n",
        "0.00289131829599\n",
        "0.0028913182957\n",
        "0.002891272226\n",
        "0.00289124771591"
       ]
      },
      {
       "output_type": "stream",
       "stream": "stdout",
       "text": [
        "\n",
        "0.00289122970474\n",
        "0.00289118726834\n",
        "0.00289100046373\n",
        "0.0028907383808"
       ]
      },
      {
       "output_type": "stream",
       "stream": "stdout",
       "text": [
        "\n",
        "0.00289023700264\n",
        "0.00288966501393\n",
        "0.00288918059624\n",
        "0.00288894395884"
       ]
      },
      {
       "output_type": "stream",
       "stream": "stdout",
       "text": [
        "\n",
        "0.00288862480164\n",
        "0.0028882508041\n",
        "0.00288774041791\n",
        "0.00288734274287"
       ]
      },
      {
       "output_type": "stream",
       "stream": "stdout",
       "text": [
        "\n",
        "0.00288692442579\n",
        "0.00288641503745\n",
        "0.00288585347145\n",
        "0.00288527755236"
       ]
      },
      {
       "output_type": "stream",
       "stream": "stdout",
       "text": [
        "\n",
        "0.00288487116632\n",
        "0.00288456329836\n",
        "0.00288432493713\n",
        "0.00288408592558"
       ]
      },
      {
       "output_type": "stream",
       "stream": "stdout",
       "text": [
        "\n",
        "0.00288387774394\n",
        "0.0028837923345\n",
        "0.00288374010541\n",
        "0.00288373932879"
       ]
      },
      {
       "output_type": "stream",
       "stream": "stdout",
       "text": [
        "\n",
        "0.00288373646561\n",
        "0.00288373645785\n",
        "0.00288373255085\n",
        "0.00288372949932"
       ]
      },
      {
       "output_type": "stream",
       "stream": "stdout",
       "text": [
        "\n",
        "0.00288365304988\n",
        "0.00288362952803\n",
        "0.00288362952487\n",
        "0.00288362908116"
       ]
      },
      {
       "output_type": "stream",
       "stream": "stdout",
       "text": [
        "\n",
        "0.00288362089482\n",
        "0.00288356929893\n",
        "0.00288332041086\n",
        "0.00288294637033"
       ]
      },
      {
       "output_type": "stream",
       "stream": "stdout",
       "text": [
        "\n",
        "0.0028824976924\n",
        "0.00288190251335\n",
        "0.00288125999279\n",
        "0.0028805705847"
       ]
      },
      {
       "output_type": "stream",
       "stream": "stdout",
       "text": [
        "\n",
        "0.00288006565217\n",
        "0.00287954225904\n",
        "0.00287916730728\n",
        "0.00287904810175"
       ]
      },
      {
       "output_type": "stream",
       "stream": "stdout",
       "text": [
        "\n",
        "0.00287887502208\n",
        "0.00287864817524\n",
        "0.00287849938904\n",
        "0.002878437901"
       ]
      },
      {
       "output_type": "stream",
       "stream": "stdout",
       "text": [
        "\n",
        "0.00287841825914\n",
        "0.00287824953236\n",
        "0.00287821715856\n",
        "0.00287820319167"
       ]
      },
      {
       "output_type": "stream",
       "stream": "stdout",
       "text": [
        "\n",
        "0.00287813031778\n",
        "0.00287800026227\n",
        "0.00287788930474\n",
        "0.00287783878771"
       ]
      },
      {
       "output_type": "stream",
       "stream": "stdout",
       "text": [
        "\n",
        "0.00287777210667\n",
        "0.00287759990916\n",
        "0.00287757080457\n",
        "0.0028775401551"
       ]
      },
      {
       "output_type": "stream",
       "stream": "stdout",
       "text": [
        "\n",
        "0.00287752638769\n",
        "0.00287752581202\n",
        "0.00287747285638\n",
        "0.00287724614056"
       ]
      },
      {
       "output_type": "stream",
       "stream": "stdout",
       "text": [
        "\n",
        "0.00287682683175\n",
        "0.00287664821729\n",
        "0.00287623227341\n",
        "0.00287525226213"
       ]
      },
      {
       "output_type": "stream",
       "stream": "stdout",
       "text": [
        "\n",
        "0.00287373473696\n",
        "0.00287173854441\n",
        "0.00286993813434\n",
        "0.00286787792426"
       ]
      },
      {
       "output_type": "stream",
       "stream": "stdout",
       "text": [
        "\n",
        "0.00286642618087\n",
        "0.0028650398412\n",
        "0.00286406887286\n",
        "0.00286273018962"
       ]
      },
      {
       "output_type": "stream",
       "stream": "stdout",
       "text": [
        "\n",
        "0.00286121222746\n",
        "0.00285970748637\n",
        "0.00285795046937\n",
        "0.00285676864389"
       ]
      },
      {
       "output_type": "stream",
       "stream": "stdout",
       "text": [
        "\n",
        "0.00285568644354\n",
        "0.00285437095289\n",
        "0.00285325780993\n",
        "0.00285224158247"
       ]
      },
      {
       "output_type": "stream",
       "stream": "stdout",
       "text": [
        "\n",
        "0.00285121627249\n",
        "0.00285072331507\n",
        "0.00285024182639\n",
        "0.00284996332978"
       ]
      },
      {
       "output_type": "stream",
       "stream": "stdout",
       "text": [
        "\n",
        "0.00284995022226\n",
        "0.00284991939907\n",
        "0.00284979545607\n",
        "0.00284942849147"
       ]
      },
      {
       "output_type": "stream",
       "stream": "stdout",
       "text": [
        "\n",
        "0.00284919371486\n",
        "0.00284877739535\n",
        "0.00284794939522\n",
        "0.00284585978652"
       ]
      },
      {
       "output_type": "stream",
       "stream": "stdout",
       "text": [
        "\n",
        "0.00284394965038\n",
        "0.00284139990246\n",
        "0.00283798593705\n",
        "0.00283500943204"
       ]
      },
      {
       "output_type": "stream",
       "stream": "stdout",
       "text": [
        "\n",
        "0.00283177703615\n",
        "0.00282741343208\n",
        "0.0028218170929\n",
        "0.00281517880745"
       ]
      },
      {
       "output_type": "stream",
       "stream": "stdout",
       "text": [
        "\n",
        "0.00280876617838\n",
        "0.00280304346793\n",
        "0.00279721070111\n",
        "0.00279147245064"
       ]
      },
      {
       "output_type": "stream",
       "stream": "stdout",
       "text": [
        "\n",
        "0.00278485903417\n",
        "0.00277787942759\n",
        "0.00277311278607\n",
        "0.00276901741747"
       ]
      },
      {
       "output_type": "stream",
       "stream": "stdout",
       "text": [
        "\n",
        "0.00276546050362\n",
        "0.0027636684381\n",
        "0.00276222072183\n",
        "0.00276124931903"
       ]
      },
      {
       "output_type": "stream",
       "stream": "stdout",
       "text": [
        "\n",
        "0.00276045295361\n",
        "0.0027601312399\n",
        "0.00276007329808\n",
        "0.00276006617467"
       ]
      },
      {
       "output_type": "stream",
       "stream": "stdout",
       "text": [
        "\n",
        "0.00276006357124\n",
        "0.00276004443358\n",
        "0.00276001553758\n",
        "0.00275999452791"
       ]
      },
      {
       "output_type": "stream",
       "stream": "stdout",
       "text": [
        "\n",
        "0.00275990239051\n",
        "0.00275957600842\n",
        "0.00275916940733\n",
        "0.00275867277353"
       ]
      },
      {
       "output_type": "stream",
       "stream": "stdout",
       "text": [
        "\n",
        "0.00275815616206\n",
        "0.0027572361933\n",
        "0.00275661286011\n",
        "0.00275630073869"
       ]
      },
      {
       "output_type": "stream",
       "stream": "stdout",
       "text": [
        "\n",
        "0.0027560840092\n",
        "0.00275565100296\n",
        "0.00275519349536\n",
        "0.00275454287331"
       ]
      },
      {
       "output_type": "stream",
       "stream": "stdout",
       "text": [
        "\n",
        "0.00275403723837\n",
        "0.00275357542879\n",
        "0.00275313088018\n",
        "0.00275277776884"
       ]
      },
      {
       "output_type": "stream",
       "stream": "stdout",
       "text": [
        "\n",
        "0.00275213816346\n",
        "0.00275112583334\n",
        "0.00275012411291\n",
        "0.00274867680762"
       ]
      },
      {
       "output_type": "stream",
       "stream": "stdout",
       "text": [
        "\n",
        "0.00274703747511\n",
        "0.00274555001695\n",
        "0.00274389837774\n",
        "0.0027420549772"
       ]
      },
      {
       "output_type": "stream",
       "stream": "stdout",
       "text": [
        "\n",
        "0.00274036507542\n",
        "0.00273940985107\n",
        "0.0027389121019\n",
        "0.00273814231002"
       ]
      },
      {
       "output_type": "stream",
       "stream": "stdout",
       "text": [
        "\n",
        "0.00273745870856\n",
        "0.00273696612367\n",
        "0.00273692221074\n",
        "0.00273692178043"
       ]
      },
      {
       "output_type": "stream",
       "stream": "stdout",
       "text": [
        "\n",
        "0.00273691481777\n",
        "0.00273685827155\n",
        "0.00273649337235\n",
        "0.0027357930482"
       ]
      },
      {
       "output_type": "stream",
       "stream": "stdout",
       "text": [
        "\n",
        "0.00273453337412\n",
        "0.00273232900479\n",
        "0.00272989070946\n",
        "0.00272727315793"
       ]
      },
      {
       "output_type": "stream",
       "stream": "stdout",
       "text": [
        "\n",
        "0.00272338089758\n",
        "0.00271894672261\n",
        "0.00271520347888\n",
        "0.00271124763837"
       ]
      },
      {
       "output_type": "stream",
       "stream": "stdout",
       "text": [
        "\n",
        "0.00270634447442\n",
        "0.00270084978917\n",
        "0.00269611962896\n",
        "0.00269104260632"
       ]
      },
      {
       "output_type": "stream",
       "stream": "stdout",
       "text": [
        "\n",
        "0.00268632443029\n",
        "0.00268182795799\n",
        "0.00267706670335\n",
        "0.00267208042875"
       ]
      },
      {
       "output_type": "stream",
       "stream": "stdout",
       "text": [
        "\n",
        "0.00266758781235\n",
        "0.00266394252396\n",
        "0.00266127341884\n",
        "0.00265960919688"
       ]
      },
      {
       "output_type": "stream",
       "stream": "stdout",
       "text": [
        "\n",
        "0.00265780506684\n",
        "0.0026564837909\n",
        "0.00265561606603\n",
        "0.00265509385708"
       ]
      },
      {
       "output_type": "stream",
       "stream": "stdout",
       "text": [
        "\n",
        "0.00265475287383\n",
        "0.00265470756309\n",
        "0.00265468193747\n",
        "0.0026546553473"
       ]
      },
      {
       "output_type": "stream",
       "stream": "stdout",
       "text": [
        "\n",
        "0.00265464277188\n",
        "0.00265437311624\n",
        "0.00265392412988\n",
        "0.00265330925105"
       ]
      },
      {
       "output_type": "stream",
       "stream": "stdout",
       "text": [
        "\n",
        "0.00265260222236\n",
        "0.00265178059635\n",
        "0.00265063510448\n",
        "0.00264938563028"
       ]
      },
      {
       "output_type": "stream",
       "stream": "stdout",
       "text": [
        "\n",
        "0.00264759419244\n",
        "0.00264498624556\n",
        "0.00264218256389\n",
        "0.00263948491219"
       ]
      },
      {
       "output_type": "stream",
       "stream": "stdout",
       "text": [
        "\n",
        "0.00263559785481\n",
        "0.00263108835073\n",
        "0.00262588294402\n",
        "0.00262062989923"
       ]
      },
      {
       "output_type": "stream",
       "stream": "stdout",
       "text": [
        "\n",
        "0.00261560459269\n",
        "0.00261140794981\n",
        "0.00260834233591\n",
        "0.00260560523516"
       ]
      },
      {
       "output_type": "stream",
       "stream": "stdout",
       "text": [
        "\n",
        "0.00260356160124\n",
        "0.00260173130432\n",
        "0.00260044504812\n",
        "0.00259939933409"
       ]
      },
      {
       "output_type": "stream",
       "stream": "stdout",
       "text": [
        "\n",
        "0.00259891472053\n",
        "0.00259864337421\n",
        "0.00259856589471\n",
        "0.00259855161271"
       ]
      },
      {
       "output_type": "stream",
       "stream": "stdout",
       "text": [
        "\n",
        "0.00259854607837\n",
        "0.00259854150239\n",
        "0.00259853309357\n",
        "0.0025985164498"
       ]
      },
      {
       "output_type": "stream",
       "stream": "stdout",
       "text": [
        "\n",
        "0.00259850260624\n",
        "0.00259839286244\n",
        "0.00259791567639\n",
        "0.00259711866937"
       ]
      },
      {
       "output_type": "stream",
       "stream": "stdout",
       "text": [
        "\n",
        "0.00259552969217\n",
        "0.00259347238791\n",
        "0.00259069547128\n",
        "0.00258646490094"
       ]
      },
      {
       "output_type": "stream",
       "stream": "stdout",
       "text": [
        "\n",
        "0.00258261703739\n",
        "0.00257886073772\n",
        "0.00257634241668\n",
        "0.00257423859738"
       ]
      },
      {
       "output_type": "stream",
       "stream": "stdout",
       "text": [
        "\n",
        "0.00257178949656\n",
        "0.0025694712529\n",
        "0.00256611875322\n",
        "0.00256283058366"
       ]
      },
      {
       "output_type": "stream",
       "stream": "stdout",
       "text": [
        "\n",
        "0.00255994314279\n",
        "0.00255669688382\n",
        "0.00255306338043\n",
        "0.00255031561452"
       ]
      },
      {
       "output_type": "stream",
       "stream": "stdout",
       "text": [
        "\n",
        "0.0025469802854\n",
        "0.00254302418042\n",
        "0.0025388693901\n",
        "0.00253541869878"
       ]
      },
      {
       "output_type": "stream",
       "stream": "stdout",
       "text": [
        "\n",
        "0.00253213147076\n",
        "0.00252869042073\n",
        "0.00252610484583\n",
        "0.00252435505827"
       ]
      },
      {
       "output_type": "stream",
       "stream": "stdout",
       "text": [
        "\n",
        "0.00252353087477\n",
        "0.00252323114303\n",
        "0.00252304628766"
       ]
      },
      {
       "output_type": "stream",
       "stream": "stdout",
       "text": [
        "\n",
        "0.0025230006321\n",
        "0.00252298846547\n",
        "0.00252290768934"
       ]
      },
      {
       "output_type": "stream",
       "stream": "stdout",
       "text": [
        "\n",
        "0.00252272553786\n",
        "0.00252261130455\n",
        "0.0025222612495"
       ]
      },
      {
       "output_type": "stream",
       "stream": "stdout",
       "text": [
        "\n",
        "0.00252179350862\n",
        "0.00252105768419\n",
        "0.00251979073198\n",
        "0.00251758849679"
       ]
      },
      {
       "output_type": "stream",
       "stream": "stdout",
       "text": [
        "\n",
        "0.00251507002633\n",
        "0.00251103837577\n",
        "0.00250661244207"
       ]
      },
      {
       "output_type": "stream",
       "stream": "stdout",
       "text": [
        "\n",
        "0.00250180925722\n",
        "0.00249731195874\n",
        "0.00249194253594\n",
        "0.00248427333561"
       ]
      },
      {
       "output_type": "stream",
       "stream": "stdout",
       "text": [
        "\n",
        "0.00247650873462\n",
        "0.00246894423514\n",
        "0.00246068104069\n",
        "0.00245277631714"
       ]
      },
      {
       "output_type": "stream",
       "stream": "stdout",
       "text": [
        "\n",
        "0.00244414465504\n",
        "0.00243714387864\n",
        "0.00243022014024"
       ]
      },
      {
       "output_type": "stream",
       "stream": "stdout",
       "text": [
        "\n",
        "0.00242562007273\n",
        "0.00242186951739\n",
        "0.00241703228398\n",
        "0.00241276041055"
       ]
      },
      {
       "output_type": "stream",
       "stream": "stdout",
       "text": [
        "\n",
        "0.00240944154903\n",
        "0.00240549261818\n",
        "0.00240159224295"
       ]
      },
      {
       "output_type": "stream",
       "stream": "stdout",
       "text": [
        "\n",
        "0.00239845248132\n",
        "0.00239581578283\n",
        "0.00239392810997"
       ]
      },
      {
       "output_type": "stream",
       "stream": "stdout",
       "text": [
        "\n",
        "0.00239214318943\n",
        "0.00238987109988\n",
        "0.0023871716415"
       ]
      },
      {
       "output_type": "stream",
       "stream": "stdout",
       "text": [
        "\n",
        "0.00238465338551\n",
        "0.0023827635229\n",
        "0.00238042752025"
       ]
      },
      {
       "output_type": "stream",
       "stream": "stdout",
       "text": [
        "\n",
        "0.00237893440128\n",
        "0.00237788338696\n",
        "0.00237727567126"
       ]
      },
      {
       "output_type": "stream",
       "stream": "stdout",
       "text": [
        "\n",
        "0.00237685030579\n",
        "0.0023766471107\n",
        "0.00237660614509"
       ]
      },
      {
       "output_type": "stream",
       "stream": "stdout",
       "text": [
        "\n",
        "0.00237658768911\n",
        "0.00237658585032\n",
        "0.00237654194167"
       ]
      },
      {
       "output_type": "stream",
       "stream": "stdout",
       "text": [
        "\n",
        "0.00237627829217\n",
        "0.00237584119106\n",
        "0.00237483023189"
       ]
      },
      {
       "output_type": "stream",
       "stream": "stdout",
       "text": [
        "\n",
        "0.00237350019391\n",
        "0.00237238078303\n",
        "0.00237073511923"
       ]
      },
      {
       "output_type": "stream",
       "stream": "stdout",
       "text": [
        "\n",
        "0.00236827511955\n",
        "0.0023659170734\n",
        "0.0023630161636"
       ]
      },
      {
       "output_type": "stream",
       "stream": "stdout",
       "text": [
        "\n",
        "0.00235950057791\n",
        "0.0023549307143\n",
        "0.00235020646049"
       ]
      },
      {
       "output_type": "stream",
       "stream": "stdout",
       "text": [
        "\n",
        "0.00234567359465\n",
        "0.00234158314592\n",
        "0.00233610660342"
       ]
      },
      {
       "output_type": "stream",
       "stream": "stdout",
       "text": [
        "\n",
        "0.00232852487864\n",
        "0.00232025729844\n",
        "0.00231327667"
       ]
      },
      {
       "output_type": "stream",
       "stream": "stdout",
       "text": [
        "\n",
        "0.00230668432023\n",
        "0.00229913634871\n",
        "0.00229302030575"
       ]
      },
      {
       "output_type": "stream",
       "stream": "stdout",
       "text": [
        "\n",
        "0.00228863890092\n",
        "0.00228356001325\n",
        "0.00227650817609"
       ]
      },
      {
       "output_type": "stream",
       "stream": "stdout",
       "text": [
        "\n",
        "0.00227028703143\n",
        "0.00226541619584\n",
        "0.00226073687845"
       ]
      },
      {
       "output_type": "stream",
       "stream": "stdout",
       "text": [
        "\n",
        "0.00225654775174\n",
        "0.00225301307055\n",
        "0.00225121634047"
       ]
      },
      {
       "output_type": "stream",
       "stream": "stdout",
       "text": [
        "\n",
        "0.00224966655979\n",
        "0.00224824010468\n",
        "0.00224678700155"
       ]
      },
      {
       "output_type": "stream",
       "stream": "stdout",
       "text": [
        "\n",
        "0.00224554592216\n",
        "0.00224487480395\n",
        "0.00224421039051"
       ]
      },
      {
       "output_type": "stream",
       "stream": "stdout",
       "text": [
        "\n",
        "0.00224367533187\n",
        "0.00224325789905\n",
        "0.0022431587226"
       ]
      },
      {
       "output_type": "stream",
       "stream": "stdout",
       "text": [
        "\n",
        "0.00224304163216\n",
        "0.00224295702925\n",
        "0.0022429441756"
       ]
      },
      {
       "output_type": "stream",
       "stream": "stdout",
       "text": [
        "\n",
        "0.00224276777076\n",
        "0.0022425095112\n",
        "0.00224227722968"
       ]
      },
      {
       "output_type": "stream",
       "stream": "stdout",
       "text": [
        "\n",
        "0.00224210422564\n",
        "0.0022414018812\n",
        "0.00224051437614"
       ]
      },
      {
       "output_type": "stream",
       "stream": "stdout",
       "text": [
        "\n",
        "0.00223931953851\n",
        "0.00223747348942\n",
        "0.0022350603018"
       ]
      },
      {
       "output_type": "stream",
       "stream": "stdout",
       "text": [
        "\n",
        "0.00223105556316\n",
        "0.00222677130016\n",
        "0.00222125204685"
       ]
      },
      {
       "output_type": "stream",
       "stream": "stdout",
       "text": [
        "\n",
        "0.00221600715342\n",
        "0.00221122484394\n",
        "0.00220607399215"
       ]
      },
      {
       "output_type": "stream",
       "stream": "stdout",
       "text": [
        "\n",
        "0.00220038838092\n",
        "0.00219508959646\n",
        "0.00218903340834"
       ]
      },
      {
       "output_type": "stream",
       "stream": "stdout",
       "text": [
        "\n",
        "0.00218521914113\n",
        "0.00218069860226\n",
        "0.00217719867721"
       ]
      },
      {
       "output_type": "stream",
       "stream": "stdout",
       "text": [
        "\n",
        "0.00217436165434\n",
        "0.00217031509437\n",
        "0.00216693844972"
       ]
      },
      {
       "output_type": "stream",
       "stream": "stdout",
       "text": [
        "\n",
        "0.00216428265086\n",
        "0.00216226155502\n",
        "0.00215999119538"
       ]
      },
      {
       "output_type": "stream",
       "stream": "stdout",
       "text": [
        "\n",
        "0.00215645509008\n",
        "0.00215324015275\n",
        "0.00215041040232"
       ]
      },
      {
       "output_type": "stream",
       "stream": "stdout",
       "text": [
        "\n",
        "0.00214868399447\n",
        "0.0021472902225\n",
        "0.00214638209125"
       ]
      },
      {
       "output_type": "stream",
       "stream": "stdout",
       "text": [
        "\n",
        "0.00214603736801\n",
        "0.00214584491119\n",
        "0.00214577576806"
       ]
      },
      {
       "output_type": "stream",
       "stream": "stdout",
       "text": [
        "\n",
        "0.00214577297906\n",
        "0.00214565764035\n",
        "0.00214537073566"
       ]
      },
      {
       "output_type": "stream",
       "stream": "stdout",
       "text": [
        "\n",
        "0.0021447849504\n",
        "0.00214344343824\n",
        "0.00214199074535"
       ]
      },
      {
       "output_type": "stream",
       "stream": "stdout",
       "text": [
        "\n",
        "0.00214034809638\n",
        "0.00213779109729\n",
        "0.00213488362848"
       ]
      },
      {
       "output_type": "stream",
       "stream": "stdout",
       "text": [
        "\n",
        "0.00213092641911\n",
        "0.00212556002973\n",
        "0.0021191112556"
       ]
      },
      {
       "output_type": "stream",
       "stream": "stdout",
       "text": [
        "\n",
        "0.00211273199975\n",
        "0.00210703885606\n",
        "0.00210063981122"
       ]
      },
      {
       "output_type": "stream",
       "stream": "stdout",
       "text": [
        "\n",
        "0.00209513993217\n",
        "0.0020894846338\n",
        "0.00208411664534"
       ]
      },
      {
       "output_type": "stream",
       "stream": "stdout",
       "text": [
        "\n",
        "0.00207919895392\n",
        "0.00207412997334\n",
        "0.00206866210429"
       ]
      },
      {
       "output_type": "stream",
       "stream": "stdout",
       "text": [
        "\n",
        "0.00206390792639\n",
        "0.00205976440553\n",
        "0.00205688259586"
       ]
      },
      {
       "output_type": "stream",
       "stream": "stdout",
       "text": [
        "\n",
        "0.00205506861814\n",
        "0.00205409669141\n",
        "0.00205344247496"
       ]
      },
      {
       "output_type": "stream",
       "stream": "stdout",
       "text": [
        "\n",
        "0.00205290560615\n",
        "0.00205286226768\n",
        "0.00205285529062"
       ]
      },
      {
       "output_type": "stream",
       "stream": "stdout",
       "text": [
        "\n",
        "0.00205285239938\n",
        "0.00205283708627\n",
        "0.0020527244499"
       ]
      },
      {
       "output_type": "stream",
       "stream": "stdout",
       "text": [
        "\n",
        "0.00205240381754\n",
        "0.00205221023929\n",
        "0.00205195184337"
       ]
      },
      {
       "output_type": "stream",
       "stream": "stdout",
       "text": [
        "\n",
        "0.00205177298601\n",
        "0.00205161166241\n",
        "0.00205153772571"
       ]
      },
      {
       "output_type": "stream",
       "stream": "stdout",
       "text": [
        "\n",
        "0.00205138275529\n",
        "0.00205111477134\n",
        "0.00205062799336"
       ]
      },
      {
       "output_type": "stream",
       "stream": "stdout",
       "text": [
        "\n",
        "0.00205019636931\n",
        "0.00204966105286\n",
        "0.00204917686745"
       ]
      },
      {
       "output_type": "stream",
       "stream": "stdout",
       "text": [
        "\n",
        "0.00204851538141\n",
        "0.00204750765667\n",
        "0.00204659479483"
       ]
      },
      {
       "output_type": "stream",
       "stream": "stdout",
       "text": [
        "\n",
        "0.00204527198003\n",
        "0.00204410730902\n",
        "0.00204252510836"
       ]
      },
      {
       "output_type": "stream",
       "stream": "stdout",
       "text": [
        "\n",
        "0.0020401367107\n",
        "0.00203795352207\n",
        "0.00203489035509"
       ]
      },
      {
       "output_type": "stream",
       "stream": "stdout",
       "text": [
        "\n",
        "0.00203097526736\n",
        "0.00202757479243\n",
        "0.00202447246104"
       ]
      },
      {
       "output_type": "stream",
       "stream": "stdout",
       "text": [
        "\n",
        "0.00202174667936\n",
        "0.0020198482134\n",
        "0.00201806916777"
       ]
      },
      {
       "output_type": "stream",
       "stream": "stdout",
       "text": [
        "\n",
        "0.00201683782231\n",
        "0.00201560694026\n",
        "0.00201453237242"
       ]
      },
      {
       "output_type": "stream",
       "stream": "stdout",
       "text": [
        "\n",
        "0.0020135419242\n",
        "0.00201270412419\n",
        "0.00201213498912"
       ]
      },
      {
       "output_type": "stream",
       "stream": "stdout",
       "text": [
        "\n",
        "0.00201196077414\n",
        "0.00201195553766\n",
        "0.00201195505146"
       ]
      },
      {
       "output_type": "stream",
       "stream": "stdout",
       "text": [
        "\n",
        "0.00201195287205\n",
        "0.00201192115716\n",
        "0.00201181637631"
       ]
      },
      {
       "output_type": "stream",
       "stream": "stdout",
       "text": [
        "\n",
        "0.00201167204675\n",
        "0.00201156236423\n",
        "0.0020113375387"
       ]
      },
      {
       "output_type": "stream",
       "stream": "stdout",
       "text": [
        "\n",
        "0.00201095263121\n",
        "0.00200971175386\n",
        "0.00200743468851"
       ]
      },
      {
       "output_type": "stream",
       "stream": "stdout",
       "text": [
        "\n",
        "0.00200579502166\n",
        "0.0020038620475\n",
        "0.00200093373598"
       ]
      },
      {
       "output_type": "stream",
       "stream": "stdout",
       "text": [
        "\n",
        "0.00199776574157\n",
        "0.00199385695992\n",
        "0.00198840357216"
       ]
      },
      {
       "output_type": "stream",
       "stream": "stdout",
       "text": [
        "\n",
        "0.00198272346102\n",
        "0.00197632447182\n",
        "0.00196939991077"
       ]
      },
      {
       "output_type": "stream",
       "stream": "stdout",
       "text": [
        "\n",
        "0.00196354701348\n",
        "0.00195561087854\n",
        "0.00194585923863"
       ]
      },
      {
       "output_type": "stream",
       "stream": "stdout",
       "text": [
        "\n",
        "0.00193845766856\n",
        "0.00193059157859\n",
        "0.00192513602706"
       ]
      },
      {
       "output_type": "stream",
       "stream": "stdout",
       "text": [
        "\n",
        "0.00191851880207\n",
        "0.00191512786273\n",
        "0.00191224526346"
       ]
      },
      {
       "output_type": "stream",
       "stream": "stdout",
       "text": [
        "\n",
        "0.00190932947207\n",
        "0.00190727955497\n",
        "0.00190575085622"
       ]
      },
      {
       "output_type": "stream",
       "stream": "stdout",
       "text": [
        "\n",
        "0.00190464808047\n",
        "0.00190390459687\n",
        "0.00190264007739"
       ]
      },
      {
       "output_type": "stream",
       "stream": "stdout",
       "text": [
        "\n",
        "0.00190216932939\n",
        "0.00190215553014\n",
        "0.00190208699625"
       ]
      },
      {
       "output_type": "stream",
       "stream": "stdout",
       "text": [
        "\n",
        "0.00190208328355\n",
        "0.00190207650217\n",
        "0.00190205529635"
       ]
      },
      {
       "output_type": "stream",
       "stream": "stdout",
       "text": [
        "\n",
        "0.00190204160683\n",
        "0.00190202769413\n",
        "0.00190190664882"
       ]
      },
      {
       "output_type": "stream",
       "stream": "stdout",
       "text": [
        "\n",
        "0.00190151687531\n",
        "0.00190095766762\n",
        "0.00189991339973"
       ]
      },
      {
       "output_type": "stream",
       "stream": "stdout",
       "text": [
        "\n",
        "0.00189899366097\n",
        "0.00189814369736\n",
        "0.00189724745"
       ]
      },
      {
       "output_type": "stream",
       "stream": "stdout",
       "text": [
        "\n",
        "0.00189644558277\n",
        "0.00189491228205\n",
        "0.00189346190023"
       ]
      },
      {
       "output_type": "stream",
       "stream": "stdout",
       "text": [
        "\n",
        "0.00189225420836\n",
        "0.00189050702532\n",
        "0.0018887077522"
       ]
      },
      {
       "output_type": "stream",
       "stream": "stdout",
       "text": [
        "\n",
        "0.00188652365556\n",
        "0.00188510705332\n",
        "0.00188367778318"
       ]
      },
      {
       "output_type": "stream",
       "stream": "stdout",
       "text": [
        "\n",
        "0.0018819333145\n",
        "0.00188111509818\n",
        "0.00188034145021"
       ]
      },
      {
       "output_type": "stream",
       "stream": "stdout",
       "text": [
        "\n",
        "0.00187986379626\n",
        "0.00187938416072\n",
        "0.00187862075302"
       ]
      },
      {
       "output_type": "stream",
       "stream": "stdout",
       "text": [
        "\n",
        "0.00187809080434\n",
        "0.00187772617119\n",
        "0.00187755193157"
       ]
      },
      {
       "output_type": "stream",
       "stream": "stdout",
       "text": [
        "\n",
        "0.00187747731724\n",
        "0.00187747695596\n",
        "0.00187743196307"
       ]
      },
      {
       "output_type": "stream",
       "stream": "stdout",
       "text": [
        "\n",
        "0.00187739407129\n",
        "0.00187735539377\n",
        "0.0018772938006"
       ]
      },
      {
       "output_type": "stream",
       "stream": "stdout",
       "text": [
        "\n",
        "0.00187727632802\n",
        "0.00187715844601\n",
        "0.00187712034725"
       ]
      },
      {
       "output_type": "stream",
       "stream": "stdout",
       "text": [
        "\n",
        "0.00187695137166\n",
        "0.00187675065163\n",
        "0.00187646727245"
       ]
      },
      {
       "output_type": "stream",
       "stream": "stdout",
       "text": [
        "\n",
        "0.00187555079795\n",
        "0.00187471166958\n",
        "0.00187398612534"
       ]
      },
      {
       "output_type": "stream",
       "stream": "stdout",
       "text": [
        "\n",
        "0.00187334145287\n",
        "0.00187287600758\n",
        "0.00187237680296"
       ]
      },
      {
       "output_type": "stream",
       "stream": "stdout",
       "text": [
        "\n",
        "0.00187185630636\n",
        "0.00187139206395\n",
        "0.0018709451941"
       ]
      },
      {
       "output_type": "stream",
       "stream": "stdout",
       "text": [
        "\n",
        "0.00187046271534\n",
        "0.00187011275391\n",
        "0.0018697647922"
       ]
      },
      {
       "output_type": "stream",
       "stream": "stdout",
       "text": [
        "\n",
        "0.00186963683458\n",
        "0.00186935981922\n",
        "0.00186896865422"
       ]
      },
      {
       "output_type": "stream",
       "stream": "stdout",
       "text": [
        "\n",
        "0.00186872314073\n",
        "0.0018685560507\n",
        "0.00186823654299"
       ]
      },
      {
       "output_type": "stream",
       "stream": "stdout",
       "text": [
        "\n",
        "0.00186796981954\n",
        "0.00186774079399\n",
        "0.00186751969932"
       ]
      },
      {
       "output_type": "stream",
       "stream": "stdout",
       "text": [
        "\n",
        "0.00186691085648\n",
        "0.00186657910708\n",
        "0.00186609983985"
       ]
      },
      {
       "output_type": "stream",
       "stream": "stdout",
       "text": [
        "\n",
        "0.00186560863857\n",
        "0.00186547036779\n",
        "0.00186541171488"
       ]
      },
      {
       "output_type": "stream",
       "stream": "stdout",
       "text": [
        "\n",
        "0.0018653776168\n",
        "0.00186536752857\n",
        "0.00186536343042"
       ]
      },
      {
       "output_type": "stream",
       "stream": "stdout",
       "text": [
        "\n",
        "0.00186536310658\n",
        "0.00186535804727\n",
        "0.00186534763977"
       ]
      },
      {
       "output_type": "stream",
       "stream": "stdout",
       "text": [
        "\n",
        "0.00186534628233\n",
        "0.00186534431909\n",
        "0.0018653411781"
       ]
      },
      {
       "output_type": "stream",
       "stream": "stdout",
       "text": [
        "\n",
        "0.00186533962378\n",
        "0.00186532941019\n",
        "0.00186531465557"
       ]
      },
      {
       "output_type": "stream",
       "stream": "stdout",
       "text": [
        "\n",
        "0.00186528333552\n",
        "0.00186503346197\n",
        "0.0018649299737"
       ]
      },
      {
       "output_type": "stream",
       "stream": "stdout",
       "text": [
        "\n",
        "0.00186489858675\n",
        "0.00186483072068\n",
        "0.00186470746458"
       ]
      },
      {
       "output_type": "stream",
       "stream": "stdout",
       "text": [
        "\n",
        "0.00186468643754\n",
        "0.00186467238359\n",
        "0.0018645256984"
       ]
      },
      {
       "output_type": "stream",
       "stream": "stdout",
       "text": [
        "\n",
        "0.00186439991503\n",
        "0.00186438764151\n",
        "0.00186427281148"
       ]
      },
      {
       "output_type": "stream",
       "stream": "stdout",
       "text": [
        "\n",
        "0.00186421243155\n",
        "0.00186417601995\n",
        "0.00186416040109"
       ]
      },
      {
       "output_type": "stream",
       "stream": "stdout",
       "text": [
        "\n",
        "0.00186403342855\n",
        "0.00186353850128\n",
        "0.00186326135382"
       ]
      },
      {
       "output_type": "stream",
       "stream": "stdout",
       "text": [
        "\n",
        "0.00186312120381\n",
        "0.0018630462423\n",
        "0.00186291152674"
       ]
      },
      {
       "output_type": "stream",
       "stream": "stdout",
       "text": [
        "\n",
        "0.00186266780302\n",
        "0.0018625831131\n",
        "0.00186248808422"
       ]
      },
      {
       "output_type": "stream",
       "stream": "stdout",
       "text": [
        "\n",
        "0.00186248195444\n",
        "0.00186248127228\n",
        "0.00186248124277"
       ]
      },
      {
       "output_type": "stream",
       "stream": "stdout",
       "text": [
        "\n",
        "0.00186247753203\n",
        "0.00186247601688\n",
        "0.00186244705665"
       ]
      },
      {
       "output_type": "stream",
       "stream": "stdout",
       "text": [
        "\n",
        "0.00186243980244\n",
        "0.00186243548106\n",
        "0.00186242707501"
       ]
      },
      {
       "output_type": "stream",
       "stream": "stdout",
       "text": [
        "\n",
        "0.00186234872356\n",
        "0.0018621528894\n",
        "0.00186197921272"
       ]
      },
      {
       "output_type": "stream",
       "stream": "stdout",
       "text": [
        "\n",
        "0.0018619781787\n",
        "0.00186196224717\n",
        "0.00186193507755"
       ]
      },
      {
       "output_type": "stream",
       "stream": "stdout",
       "text": [
        "\n",
        "0.00186170608005\n",
        "0.00186159228143\n",
        "0.00186153665953"
       ]
      },
      {
       "output_type": "stream",
       "stream": "stdout",
       "text": [
        "\n",
        "0.00186152699212\n",
        "0.00186148679525\n",
        "0.00186135431943"
       ]
      },
      {
       "output_type": "stream",
       "stream": "stdout",
       "text": [
        "\n",
        "0.00186097113644\n",
        "0.00186059255199\n",
        "0.00186020775267"
       ]
      },
      {
       "output_type": "stream",
       "stream": "stdout",
       "text": [
        "\n",
        "0.00185962137304\n",
        "0.00185863150104\n",
        "0.00185755688049"
       ]
      },
      {
       "output_type": "stream",
       "stream": "stdout",
       "text": [
        "\n",
        "0.00185621221401\n",
        "0.00185440634843\n",
        "0.00185240969981"
       ]
      },
      {
       "output_type": "stream",
       "stream": "stdout",
       "text": [
        "\n",
        "0.00185085905437\n",
        "0.00184947510563\n",
        "0.0018490226199"
       ]
      },
      {
       "output_type": "stream",
       "stream": "stdout",
       "text": [
        "\n",
        "0.00184877123576\n",
        "0.00184866125194\n",
        "0.00184864019644"
       ]
      },
      {
       "output_type": "stream",
       "stream": "stdout",
       "text": [
        "\n",
        "0.00184861933049\n",
        "0.00184859971891\n",
        "0.00184856891232"
       ]
      },
      {
       "output_type": "stream",
       "stream": "stdout",
       "text": [
        "\n",
        "0.00184854128162\n",
        "0.00184850399966\n",
        "0.00184830226711"
       ]
      },
      {
       "output_type": "stream",
       "stream": "stdout",
       "text": [
        "\n",
        "0.00184826217047\n",
        "0.00184811519628\n",
        "0.00184756285223"
       ]
      },
      {
       "output_type": "stream",
       "stream": "stdout",
       "text": [
        "\n",
        "0.00184712278693\n",
        "0.00184693403496\n",
        "0.00184670698247"
       ]
      },
      {
       "output_type": "stream",
       "stream": "stdout",
       "text": [
        "\n",
        "0.00184653345754\n",
        "0.00184630275131\n",
        "0.00184626938477"
       ]
      },
      {
       "output_type": "stream",
       "stream": "stdout",
       "text": [
        "\n",
        "0.00184620209794\n",
        "0.00184614992729\n",
        "0.00184614991986"
       ]
      },
      {
       "output_type": "stream",
       "stream": "stdout",
       "text": [
        "\n",
        "0.00184613877451\n",
        "0.00184613170583\n",
        "0.0018461006951"
       ]
      },
      {
       "output_type": "stream",
       "stream": "stdout",
       "text": [
        "\n",
        "0.0018461001863\n",
        "0.00184591738128\n",
        "0.00184581267431"
       ]
      },
      {
       "output_type": "stream",
       "stream": "stdout",
       "text": [
        "\n",
        "0.00184578973396\n",
        "0.00184559251937\n",
        "0.0018453937654"
       ]
      },
      {
       "output_type": "stream",
       "stream": "stdout",
       "text": [
        "\n",
        "0.00184518101942\n",
        "0.00184508395872\n",
        "0.00184499922035"
       ]
      },
      {
       "output_type": "stream",
       "stream": "stdout",
       "text": [
        "\n",
        "0.00184479262175\n",
        "0.00184475920848\n",
        "0.00184475681398"
       ]
      },
      {
       "output_type": "stream",
       "stream": "stdout",
       "text": [
        "\n",
        "0.0018447536715\n",
        "0.00184474394846\n",
        "0.00184472935905"
       ]
      },
      {
       "output_type": "stream",
       "stream": "stdout",
       "text": [
        "\n",
        "0.00184464517297\n",
        "0.00184463278021\n",
        "0.00184457765338"
       ]
      },
      {
       "output_type": "stream",
       "stream": "stdout",
       "text": [
        "\n",
        "0.00184457743959\n",
        "0.00184453717792\n",
        "0.00184441625922"
       ]
      },
      {
       "output_type": "stream",
       "stream": "stdout",
       "text": [
        "\n",
        "0.00184415208232\n",
        "0.00184384807831\n",
        "0.00184378538168"
       ]
      },
      {
       "output_type": "stream",
       "stream": "stdout",
       "text": [
        "\n",
        "0.00184372284877\n",
        "0.00184369278618\n",
        "0.00184365899228"
       ]
      },
      {
       "output_type": "stream",
       "stream": "stdout",
       "text": [
        "\n",
        "0.00184349204239\n",
        "0.0018431540686\n",
        "0.00184286906286"
       ]
      },
      {
       "output_type": "stream",
       "stream": "stdout",
       "text": [
        "\n",
        "0.00184237255443\n",
        "0.00184168507465\n",
        "0.00184135918362"
       ]
      },
      {
       "output_type": "stream",
       "stream": "stdout",
       "text": [
        "\n",
        "0.00184125074723\n",
        "0.00184116395495\n",
        "0.00184070225635"
       ]
      },
      {
       "output_type": "stream",
       "stream": "stdout",
       "text": [
        "\n",
        "0.0018403064643\n",
        "0.00184021929406\n",
        "0.00184013060207"
       ]
      },
      {
       "output_type": "stream",
       "stream": "stdout",
       "text": [
        "\n",
        "0.00184000380915\n",
        "0.0018399241996\n",
        "0.00183983514984"
       ]
      },
      {
       "output_type": "stream",
       "stream": "stdout",
       "text": [
        "\n",
        "0.00183973487749\n",
        "0.00183973461845\n",
        "0.00183973250835"
       ]
      },
      {
       "output_type": "stream",
       "stream": "stdout",
       "text": [
        "\n",
        "0.00183973069992\n",
        "0.00183969264413\n",
        "0.00183965910391"
       ]
      },
      {
       "output_type": "stream",
       "stream": "stdout",
       "text": [
        "\n",
        "0.00183964501171\n",
        "0.00183960974656\n",
        "0.00183957736864"
       ]
      },
      {
       "output_type": "stream",
       "stream": "stdout",
       "text": [
        "\n",
        "0.00183952896907\n",
        "0.00183932596051\n",
        "0.00183900808976"
       ]
      },
      {
       "output_type": "stream",
       "stream": "stdout",
       "text": [
        "\n",
        "0.00183856623015\n",
        "0.00183794512579\n",
        "0.00183744988685"
       ]
      },
      {
       "output_type": "stream",
       "stream": "stdout",
       "text": [
        "\n",
        "0.00183707193582\n",
        "0.00183699441675\n",
        "0.00183695524805"
       ]
      },
      {
       "output_type": "stream",
       "stream": "stdout",
       "text": [
        "\n",
        "0.00183682120607\n",
        "0.00183679974263\n",
        "0.00183678605227"
       ]
      },
      {
       "output_type": "stream",
       "stream": "stdout",
       "text": [
        "\n",
        "0.00183647244904\n",
        "0.00183640340232\n",
        "0.00183635691014"
       ]
      },
      {
       "output_type": "stream",
       "stream": "stdout",
       "text": [
        "\n",
        "0.00183635057983\n",
        "0.00183633942245\n",
        "0.0018362630775"
       ]
      },
      {
       "output_type": "stream",
       "stream": "stdout",
       "text": [
        "\n",
        "0.001836230798\n",
        "0.00183602812918\n",
        "0.00183591232836"
       ]
      },
      {
       "output_type": "stream",
       "stream": "stdout",
       "text": [
        "\n",
        "0.00183589685392\n",
        "0.0018357149031\n",
        "0.0018355693024"
       ]
      },
      {
       "output_type": "stream",
       "stream": "stdout",
       "text": [
        "\n",
        "0.00183552788851\n",
        "0.00183546233221\n",
        "0.00183544881148"
       ]
      },
      {
       "output_type": "stream",
       "stream": "stdout",
       "text": [
        "\n",
        "0.00183543705947\n",
        "0.00183523982929\n",
        "0.00183476230844"
       ]
      },
      {
       "output_type": "stream",
       "stream": "stdout",
       "text": [
        "\n",
        "0.00183440206426\n",
        "0.00183407869245\n",
        "0.00183305052059"
       ]
      },
      {
       "output_type": "stream",
       "stream": "stdout",
       "text": [
        "\n",
        "0.00183214641984\n",
        "0.00183133500908\n",
        "0.00183057053253"
       ]
      },
      {
       "output_type": "stream",
       "stream": "stdout",
       "text": [
        "\n",
        "0.00182962608709\n",
        "0.00182850450059\n",
        "0.00182746392606"
       ]
      },
      {
       "output_type": "stream",
       "stream": "stdout",
       "text": [
        "\n",
        "0.00182583623295\n",
        "0.0018231921548\n",
        "0.00182128273291"
       ]
      },
      {
       "output_type": "stream",
       "stream": "stdout",
       "text": [
        "\n",
        "0.00181956822564\n",
        "0.00181739531516\n",
        "0.00181544938478"
       ]
      },
      {
       "output_type": "stream",
       "stream": "stdout",
       "text": [
        "\n",
        "0.00181374739722\n",
        "0.00181169865847\n",
        "0.00180984922399"
       ]
      },
      {
       "output_type": "stream",
       "stream": "stdout",
       "text": [
        "\n",
        "0.00180826290053\n",
        "0.00180759512485\n",
        "0.00180696626548"
       ]
      },
      {
       "output_type": "stream",
       "stream": "stdout",
       "text": [
        "\n",
        "0.00180622441252\n",
        "0.00180563292467\n",
        "GMRES time: 30.3310198784\n",
        "Number of iterations for real: 2000\n"
       ]
      }
     ],
     "prompt_number": 50
    },
    {
     "cell_type": "code",
     "collapsed": false,
     "input": [
      "it_sol = tmp_s[:N] + tmp_s[N:]*1j\n",
      "print len(it_sol)"
     ],
     "language": "python",
     "metadata": {},
     "outputs": [
      {
       "output_type": "stream",
       "stream": "stdout",
       "text": [
        "1800\n"
       ]
      }
     ],
     "prompt_number": 51
    },
    {
     "cell_type": "code",
     "collapsed": false,
     "input": [
      "print np.linalg.norm(sol - it_sol) / np.linalg.norm(sol), errr"
     ],
     "language": "python",
     "metadata": {},
     "outputs": [
      {
       "output_type": "stream",
       "stream": "stdout",
       "text": [
        "1.0 2000\n"
       ]
      }
     ],
     "prompt_number": 52
    },
    {
     "cell_type": "heading",
     "level": 2,
     "metadata": {},
     "source": [
      "GMRES,  $H^2$ matvec,  ILUt(SE) preconditioner "
     ]
    },
    {
     "cell_type": "heading",
     "level": 3,
     "metadata": {},
     "source": [
      "Building Block and ILU(SE) precondinioner:"
     ]
    },
    {
     "cell_type": "code",
     "collapsed": false,
     "input": [
      "\n",
      "full_prec = sp.sparse.csc_matrix(SE)\n"
     ],
     "language": "python",
     "metadata": {},
     "outputs": [],
     "prompt_number": 53
    },
    {
     "cell_type": "code",
     "collapsed": false,
     "input": [
      "#full_prec = sp.sparse.csc_matrix(SE)\n",
      "#print sp.sparse.isspmatrix_csc(block_prec)\n",
      "print sp.sparse.isspmatrix_csc(full_prec)\n",
      "print sp.sparse.isspmatrix_csr(SE)"
     ],
     "language": "python",
     "metadata": {},
     "outputs": [
      {
       "output_type": "stream",
       "stream": "stdout",
       "text": [
        "True\n",
        "True\n"
       ]
      }
     ],
     "prompt_number": 54
    },
    {
     "cell_type": "code",
     "collapsed": false,
     "input": [
      "plt.spy(SE, markersize=2, precision=0, color = 'green')\n",
      "\n"
     ],
     "language": "python",
     "metadata": {},
     "outputs": [
      {
       "metadata": {},
       "output_type": "pyout",
       "prompt_number": 55,
       "text": [
        "<matplotlib.lines.Line2D at 0x7f668e05b290>"
       ]
      },
      {
       "metadata": {},
       "output_type": "display_data",
       "png": "[encoded data removed]",
       "text": [
        "<matplotlib.figure.Figure at 0x7f669bf1de50>"
       ]
      }
     ],
     "prompt_number": 55
    },
    {
     "cell_type": "code",
     "collapsed": false,
     "input": [
      "import scipy.io\n",
      "scipy.io.mmwrite('ILU_mat.mtx',SE)"
     ],
     "language": "python",
     "metadata": {},
     "outputs": []
    },
    {
     "cell_type": "code",
     "collapsed": false,
     "input": [
      "plt.spy(full_prec, markersize=2, precision=0, color = 'green')"
     ],
     "language": "python",
     "metadata": {},
     "outputs": [
      {
       "metadata": {},
       "output_type": "pyout",
       "prompt_number": 11,
       "text": [
        "<matplotlib.lines.Line2D at 0x7fa30a46ac50>"
       ]
      },
      {
       "metadata": {},
       "output_type": "display_data",
       "png": "[encoded data removed]",
       "text": [
        "<matplotlib.figure.Figure at 0x7fa35f9d4690>"
       ]
      }
     ],
     "prompt_number": 11
    },
    {
     "cell_type": "code",
     "collapsed": false,
     "input": [
      "t0 = time()\n",
      "prec_ILU = sp.sparse.linalg.spilu(full_prec, drop_tol=1e-4, fill_factor=10, drop_rule=None, permc_spec=None, diag_pivot_thresh=None, relax=None, panel_size=None, options=None)\n",
      "print \"ILU\", time() - t0"
     ],
     "language": "python",
     "metadata": {},
     "outputs": [
      {
       "ename": "RuntimeError",
       "evalue": "Factor is exactly singular",
       "output_type": "pyerr",
       "traceback": [
        "\u001b[1;31m---------------------------------------------------------------------------\u001b[0m\n\u001b[1;31mRuntimeError\u001b[0m                              Traceback (most recent call last)",
        "\u001b[1;32m<ipython-input-13-c2fc5fe474ae>\u001b[0m in \u001b[0;36m<module>\u001b[1;34m()\u001b[0m\n\u001b[0;32m      1\u001b[0m \u001b[0mt0\u001b[0m \u001b[1;33m=\u001b[0m \u001b[0mtime\u001b[0m\u001b[1;33m(\u001b[0m\u001b[1;33m)\u001b[0m\u001b[1;33m\u001b[0m\u001b[0m\n\u001b[1;32m----> 2\u001b[1;33m \u001b[0mprec_ILU\u001b[0m \u001b[1;33m=\u001b[0m \u001b[0msp\u001b[0m\u001b[1;33m.\u001b[0m\u001b[0msparse\u001b[0m\u001b[1;33m.\u001b[0m\u001b[0mlinalg\u001b[0m\u001b[1;33m.\u001b[0m\u001b[0mspilu\u001b[0m\u001b[1;33m(\u001b[0m\u001b[0mfull_prec\u001b[0m\u001b[1;33m,\u001b[0m \u001b[0mdrop_tol\u001b[0m\u001b[1;33m=\u001b[0m\u001b[1;36m1e-4\u001b[0m\u001b[1;33m,\u001b[0m \u001b[0mfill_factor\u001b[0m\u001b[1;33m=\u001b[0m\u001b[1;36m10\u001b[0m\u001b[1;33m,\u001b[0m \u001b[0mdrop_rule\u001b[0m\u001b[1;33m=\u001b[0m\u001b[0mNone\u001b[0m\u001b[1;33m,\u001b[0m \u001b[0mpermc_spec\u001b[0m\u001b[1;33m=\u001b[0m\u001b[0mNone\u001b[0m\u001b[1;33m,\u001b[0m \u001b[0mdiag_pivot_thresh\u001b[0m\u001b[1;33m=\u001b[0m\u001b[0mNone\u001b[0m\u001b[1;33m,\u001b[0m \u001b[0mrelax\u001b[0m\u001b[1;33m=\u001b[0m\u001b[0mNone\u001b[0m\u001b[1;33m,\u001b[0m \u001b[0mpanel_size\u001b[0m\u001b[1;33m=\u001b[0m\u001b[0mNone\u001b[0m\u001b[1;33m,\u001b[0m \u001b[0moptions\u001b[0m\u001b[1;33m=\u001b[0m\u001b[0mNone\u001b[0m\u001b[1;33m)\u001b[0m\u001b[1;33m\u001b[0m\u001b[0m\n\u001b[0m\u001b[0;32m      3\u001b[0m \u001b[1;32mprint\u001b[0m \u001b[1;34m\"ILU\"\u001b[0m\u001b[1;33m,\u001b[0m \u001b[0mtime\u001b[0m\u001b[1;33m(\u001b[0m\u001b[1;33m)\u001b[0m \u001b[1;33m-\u001b[0m \u001b[0mt0\u001b[0m\u001b[1;33m\u001b[0m\u001b[0m\n",
        "\u001b[1;32m/home/daria/anaconda/lib/python2.7/site-packages/scipy/sparse/linalg/dsolve/linsolve.pyc\u001b[0m in \u001b[0;36mspilu\u001b[1;34m(A, drop_tol, fill_factor, drop_rule, permc_spec, diag_pivot_thresh, relax, panel_size, options)\u001b[0m\n\u001b[0;32m    307\u001b[0m         \u001b[0m_options\u001b[0m\u001b[1;33m.\u001b[0m\u001b[0mupdate\u001b[0m\u001b[1;33m(\u001b[0m\u001b[0moptions\u001b[0m\u001b[1;33m)\u001b[0m\u001b[1;33m\u001b[0m\u001b[0m\n\u001b[0;32m    308\u001b[0m     return _superlu.gstrf(N, A.nnz, A.data, A.indices, A.indptr,\n\u001b[1;32m--> 309\u001b[1;33m                           ilu=True, options=_options)\n\u001b[0m\u001b[0;32m    310\u001b[0m \u001b[1;33m\u001b[0m\u001b[0m\n\u001b[0;32m    311\u001b[0m \u001b[1;33m\u001b[0m\u001b[0m\n",
        "\u001b[1;31mRuntimeError\u001b[0m: Factor is exactly singular"
       ]
      }
     ],
     "prompt_number": 13
    },
    {
     "cell_type": "code",
     "collapsed": false,
     "input": [
      "prec_ILU.solve(rh)"
     ],
     "language": "python",
     "metadata": {},
     "outputs": [
      {
       "ename": "SystemError",
       "evalue": "error return without exception set",
       "output_type": "pyerr",
       "traceback": [
        "\u001b[1;31m---------------------------------------------------------------------------\u001b[0m\n\u001b[1;31mSystemError\u001b[0m                               Traceback (most recent call last)",
        "\u001b[1;32m<ipython-input-30-83bf3343661e>\u001b[0m in \u001b[0;36m<module>\u001b[1;34m()\u001b[0m\n\u001b[1;32m----> 1\u001b[1;33m \u001b[0mprec_ILU\u001b[0m\u001b[1;33m.\u001b[0m\u001b[0msolve\u001b[0m\u001b[1;33m(\u001b[0m\u001b[0mrh\u001b[0m\u001b[1;33m)\u001b[0m\u001b[1;33m\u001b[0m\u001b[0m\n\u001b[0m",
        "\u001b[1;31mSystemError\u001b[0m: error return without exception set"
       ]
      }
     ],
     "prompt_number": 30
    },
    {
     "cell_type": "code",
     "collapsed": false,
     "input": [
      "prec_ILU = sp.sparse.linalg.spilu(block_prec, drop_tol=0.2, fill_factor=10, drop_rule=None, permc_spec=None, diag_pivot_thresh=None, relax=None, panel_size=None, options=None)\n"
     ],
     "language": "python",
     "metadata": {},
     "outputs": [],
     "prompt_number": 39
    },
    {
     "cell_type": "code",
     "collapsed": false,
     "input": [
      "from scipy.sparse.linalg.dsolve import _superlu\n",
      "A = full_prec\n",
      "\n",
      "drop_tol=None\n",
      "fill_factor=None\n",
      "drop_rule=None\n",
      "permc_spec=None\n",
      "diag_pivot_thresh=None\n",
      "relax=None\n",
      "panel_size=None\n",
      "options=None\n",
      "\n",
      "_options = dict(ILU_DropRule=drop_rule, ILU_DropTol=drop_tol,\n",
      "                    ILU_FillFactor=fill_factor,\n",
      "                    DiagPivotThresh=diag_pivot_thresh, ColPerm=permc_spec,\n",
      "                    PanelSize=panel_size, Relax=relax)\n",
      "_superlu.gstrf(N, A.nnz, A.data, A.indices, A.indptr, ilu=True, options=_options)"
     ],
     "language": "python",
     "metadata": {},
     "outputs": [
      {
       "metadata": {},
       "output_type": "pyout",
       "prompt_number": 44,
       "text": [
        "<factored_lu at 0xa8e8fd50>"
       ]
      }
     ],
     "prompt_number": 44
    },
    {
     "cell_type": "code",
     "collapsed": false,
     "input": [
      "temp_sol = sp.sparse.linalg.spsolve(full_prec,big_rh)"
     ],
     "language": "python",
     "metadata": {},
     "outputs": [],
     "prompt_number": 27
    },
    {
     "cell_type": "code",
     "collapsed": false,
     "input": [
      "print temp_sol"
     ],
     "language": "python",
     "metadata": {},
     "outputs": [
      {
       "output_type": "stream",
       "stream": "stdout",
       "text": [
        "[ 1.00000000 -4.93741743e-11j  1.00000000 +4.00329877e-11j\n",
        "  1.00000000 -5.43256490e-12j ...,  3.44028014 -1.97875418e+00j\n",
        "  6.05351319 +4.06492220e+00j  5.04614217 +5.21883479e+00j]\n"
       ]
      }
     ],
     "prompt_number": 29
    },
    {
     "cell_type": "code",
     "collapsed": false,
     "input": [
      "scipy.sparse.linalg.splu(full_prec, permc_spec=None, diag_pivot_thresh=None, drop_tol=None, relax=None, panel_size=None, options={})"
     ],
     "language": "python",
     "metadata": {},
     "outputs": [
      {
       "metadata": {},
       "output_type": "pyout",
       "prompt_number": 60,
       "text": [
        "<factored_lu at 0xa6dd40a8>"
       ]
      }
     ],
     "prompt_number": 60
    },
    {
     "cell_type": "heading",
     "level": 3,
     "metadata": {},
     "source": [
      "GMRES iterations"
     ]
    },
    {
     "cell_type": "code",
     "collapsed": false,
     "input": [
      "#\n",
      "tree = surf.factor.col_tree\n",
      "size = tree.level[-1]\n",
      "ind = tree.index\n",
      "\n",
      "res = []\n",
      "t = []\n",
      "\n",
      "it_sol = np.zeros(N)\n",
      "### For ILU(SE) ###\n",
      "#to = time()\n",
      "#full_prec = sp.sparse.csc_matrix(SE)\n",
      "#print 'CSR to CSC time:', time() - t0\n",
      "t0 = time()\n",
      "#print full_prec.nnz\n",
      "prec_ILU = sp.sparse.linalg.spilu(full_prec, drop_tol=1e-4, fill_factor=10, drop_rule=None, permc_spec=None, diag_pivot_thresh=None, relax=None, panel_size=None, options=None)\n",
      "\n",
      "\n",
      "### For Block ###\n",
      "\n",
      "#prec_ILU = sp.sparse.linalg.spilu(block_prec, drop_tol=0.2, fill_factor=10, drop_rule=None, permc_spec=None, diag_pivot_thresh=None, relax=None, panel_size=None, options=None)\n",
      "print 'ILU time:', time() - t0\n",
      "\n",
      "\n",
      "def simple_print(r):\n",
      "    print np.linalg.norm(r)\n",
      "    res.append(r)\n",
      "    t.append(time()-t0)\n",
      "    \n",
      "    \n",
      "def prec(v):\n",
      "    N = v.size / 2\n",
      "    v = v[:N] + 1j * v[N:]\n",
      "    p = 0\n",
      "    vec = copy.deepcopy(v)\n",
      "    for i in surf.row_l_list:\n",
      "        if surf.factor.row_coef[i].shape[0] == 0:\n",
      "            for j in xrange(surf.factor.row_coef[i].shape[1]):\n",
      "                vec[p] =  v[surf.factor.row_tree.index[i][j]] \n",
      "                p+=1\n",
      "        else:\n",
      "            for j in xrange(surf.factor.row_coef[i].shape[0]):\n",
      "                vec[p] =  v[surf.factor.row_tree.index[i][j]] \n",
      "                p+=1\n",
      "            \n",
      "    vec = np.concatenate((vec,np.zeros((SE.shape[0]-vec.shape[0])))) \n",
      "    \n",
      "    tmp_s = prec_ILU.solve(vec)\n",
      "   \n",
      "\n",
      "    ans = np.zeros(N,dtype = v.dtype)\n",
      "    tmp_s = tmp_s[:N]\n",
      "\n",
      "    p = 0\n",
      "    for j in xrange(size):\n",
      "                if len(tree.child[j]) is 0:\n",
      "                    tmp = tmp_s[p:p + len(ind[j])]\n",
      "                    for i in xrange(len(ind[j])):\n",
      "                        ans[ind[j][i]] = tmp[i]\n",
      "                    p += len(ind[j])\n",
      "                    \n",
      "    #print \"!!\", np.linalg.norm(ans)\n",
      "    return np.concatenate((ans.real, ans.imag))\n",
      "    \n",
      "    \n",
      "def dot_fun(v):\n",
      "    N = v.size / 2\n",
      "    v = v[:N] + 1j * v[N:]\n",
      "    ans = surf.dot(v)\n",
      "    #ans = ans[:v.shape[0]]\n",
      "    return np.concatenate((ans.real, ans.imag))\n",
      "\n",
      "lo_dot = sp.sparse.linalg.LinearOperator(( 2 * N, 2 * N ), dot_fun, dtype=float )\n",
      "lo_prec  = sp.sparse.linalg.LinearOperator((2 * N, 2 * N), prec ,dtype=float)\n",
      "\n",
      "b = rh#shuffle_rh#np.ones(rh.shape[0],dtype = complex)\n",
      "b = np.concatenate((b.real, b.imag))\n",
      "x0 = np.zeros(2 * rh.shape[0],dtype = float)\n",
      "\n",
      "t0 = time() \n",
      "\n",
      "it_sol, errr = gmres(lo_dot, b, x0, tol=1e-3, restart=5000, maxiter=2000, xtype=0, M=lo_prec, callback=simple_print)\n",
      "print \"Number of iterations:\", len(t), \"Total time:\", time() - t0\n",
      "\n",
      "### For ILU(SE) ###\n",
      "resH22 = np.array(res)\n",
      "tH22 = np.array(t)\n",
      "\n",
      "\n",
      "### For Block ###\n",
      "#resH21 = np.array(res)\n",
      "#tH21 = np.array(t)"
     ],
     "language": "python",
     "metadata": {
      "code_folding": [
       0
      ]
     },
     "outputs": [
      {
       "output_type": "stream",
       "stream": "stdout",
       "text": [
        "ILU time: 2.7148900032\n",
        "0.273103599786"
       ]
      },
      {
       "output_type": "stream",
       "stream": "stdout",
       "text": [
        "\n",
        "0.14323961838\n",
        "0.0670095721559"
       ]
      },
      {
       "output_type": "stream",
       "stream": "stdout",
       "text": [
        "\n",
        "0.0344251849603\n",
        "0.0288074221332"
       ]
      },
      {
       "output_type": "stream",
       "stream": "stdout",
       "text": [
        "\n",
        "0.024607404564\n",
        "0.0068436263311"
       ]
      },
      {
       "output_type": "stream",
       "stream": "stdout",
       "text": [
        "\n",
        "0.000872836535043\n",
        "Number of iterations: 8 Total time: 0.231504201889\n"
       ]
      }
     ],
     "prompt_number": 56
    },
    {
     "cell_type": "code",
     "collapsed": false,
     "input": [
      "plt.spy(full_prec, markersize=2, precision=0, color = 'green')"
     ],
     "language": "python",
     "metadata": {},
     "outputs": []
    },
    {
     "cell_type": "code",
     "collapsed": false,
     "input": [
      "print np.linalg.norm(sol - it_sol) / np.linalg.norm(sol)"
     ],
     "language": "python",
     "metadata": {},
     "outputs": []
    },
    {
     "cell_type": "heading",
     "level": 2,
     "metadata": {},
     "source": [
      "GMRES, surf dot, ILUt preconditioner"
     ]
    },
    {
     "cell_type": "heading",
     "level": 3,
     "metadata": {},
     "source": [
      "Shuffle right hand side\n"
     ]
    },
    {
     "cell_type": "code",
     "collapsed": false,
     "input": [
      "p = 0\n",
      "shuffle_rh = copy.deepcopy(rh)\n",
      "for i in surf.row_l_list:\n",
      "    if surf.factor.row_coef[i].shape[0] == 0:\n",
      "        for j in xrange(surf.factor.row_coef[i].shape[1]):\n",
      "            shuffle_rh[p] =  rh[surf.factor.row_tree.index[i][j]] \n",
      "            p+=1\n",
      "    else:\n",
      "        for j in xrange(surf.factor.row_coef[i].shape[0]):\n",
      "            shuffle_rh[p] =  rh[surf.factor.row_tree.index[i][j]] \n",
      "            p+=1"
     ],
     "language": "python",
     "metadata": {},
     "outputs": [],
     "prompt_number": 25
    },
    {
     "cell_type": "heading",
     "level": 1,
     "metadata": {},
     "source": [
      "Graphs:"
     ]
    },
    {
     "cell_type": "code",
     "collapsed": false,
     "input": [
      "fig, ax = plt.subplots(1)\n",
      "\n",
      "#tH2N = itH2N \n",
      "print resH2N[100]\n",
      "print tH2N[150]\n",
      "\n",
      "ppl.plot(ax, tH2N[34] ,resH2N[34], label='Without prec', linewidth=2)\n",
      "#ppl.plot(ax, tH21 ,resH21, label='Block prec', linewidth=2)\n",
      "ppl.plot(ax, tH22 ,resH22, label='ILU(mat)', linewidth=2)\n",
      "\n",
      "\n",
      "\n",
      "ppl.legend(ax,loc='upper right')\n",
      "plt.yscale('log')"
     ],
     "language": "python",
     "metadata": {},
     "outputs": [
      {
       "output_type": "stream",
       "stream": "stdout",
       "text": [
        "0.074954095202\n",
        "1.90884685516\n"
       ]
      },
      {
       "metadata": {},
       "output_type": "display_data",
       "png": "[encoded data removed]",
       "text": [
        "<matplotlib.figure.Figure at 0x7f66887e6f10>"
       ]
      }
     ],
     "prompt_number": 60
    },
    {
     "cell_type": "code",
     "collapsed": false,
     "input": [],
     "language": "python",
     "metadata": {},
     "outputs": []
    },
    {
     "cell_type": "code",
     "collapsed": false,
     "input": [],
     "language": "python",
     "metadata": {},
     "outputs": []
    }
   ],
   "metadata": {}
  }
 ]
}