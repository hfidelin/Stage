{
 "metadata": {
  "name": "",
  "signature": "sha256:b67c79c793e59f15c24cca41f1f53aa49c5fa30c13f61fc16244e023d7c75fe1"
 },
 "nbformat": 3,
 "nbformat_minor": 0,
 "worksheets": [
  {
   "cells": [
    {
     "cell_type": "heading",
     "level": 2,
     "metadata": {},
     "source": [
      "Imports:\n"
     ]
    },
    {
     "cell_type": "code",
     "collapsed": false,
     "input": [
      "#Main imports\n",
      "import os\n",
      "os.environ['OMP_NUM_THREADS'] = '1'\n",
      "os.environ['MKL_NUM_THREADS'] = '1'\n",
      "import sys\n",
      "import numpy as np\n",
      "from time import time, sleep\n",
      "sys.path.append('../../')\n",
      "from h2py.data.triangle_surface import Data, integral_inverse_r,integral_inverse_r3\n",
      "from h2py.main import Problem\n",
      "from  h2py.core.ts import hyp\n",
      "from  h2py.core.ts import hyp_test\n",
      "from  h2py.core.ts import show_hyp\n",
      "%matplotlib inline\n",
      "import scipy as sp\n",
      "import matplotlib.pyplot as plt\n",
      "import prettyplotlib as ppl\n",
      "import copy\n",
      "import pypropack\n",
      "from scipy.sparse.linalg import gmres"
     ],
     "language": "python",
     "metadata": {
      "code_folding": []
     },
     "outputs": [],
     "prompt_number": 1
    },
    {
     "cell_type": "heading",
     "level": 2,
     "metadata": {},
     "source": [
      "Geometry:"
     ]
    },
    {
     "cell_type": "code",
     "collapsed": false,
     "input": [
      "def sq(n):\n",
      "        #v_count = n**2\n",
      "        #p_count = (n-1)**2*2\n",
      "        v = np.array([[],[],[]])\n",
      "        p = np.array([],dtype = np.int32)\n",
      "        for i_v in xrange(n):\n",
      "            for j_v in xrange(n):\n",
      "                v = np.concatenate((v,[[float(i_v)/n],[float(j_v)/n],[0]]),axis = 1)\n",
      "        for i_p in xrange(n-1):\n",
      "            for j_p in xrange(n-1):\n",
      "            \tp = np.concatenate((p,[3,i_p*n+j_p,(i_p+1)*n+j_p,i_p*n+j_p+1]),axis = 0)\n",
      "                p = np.concatenate((p,[3,(i_p+1)*n+j_p+1,(i_p+1)*n+j_p,i_p*n+j_p+1]),axis = 0)\n",
      "        #p = np.array(p,dtype = np.int)\n",
      "        #import ipdb; ipdb.set_trace()\n",
      "        problem = Data(v, p)\n",
      "        problem.dim = 3\n",
      "        return problem"
     ],
     "language": "python",
     "metadata": {
      "code_folding": [
       0
      ]
     },
     "outputs": [],
     "prompt_number": 2
    },
    {
     "cell_type": "code",
     "collapsed": false,
     "input": [
      "problem = sq(45)"
     ],
     "language": "python",
     "metadata": {},
     "outputs": [],
     "prompt_number": 3
    },
    {
     "cell_type": "heading",
     "level": 2,
     "metadata": {},
     "source": [
      "Function:"
     ]
    },
    {
     "cell_type": "code",
     "collapsed": false,
     "input": [
      "func0 = integral_inverse_r3"
     ],
     "language": "python",
     "metadata": {},
     "outputs": [],
     "prompt_number": 4
    },
    {
     "cell_type": "heading",
     "level": 2,
     "metadata": {},
     "source": [
      "Building tree:"
     ]
    },
    {
     "cell_type": "code",
     "collapsed": false,
     "input": [
      "surf = Problem(func0, problem, block_size = 50,tol = 0)"
     ],
     "language": "python",
     "metadata": {},
     "outputs": [],
     "prompt_number": 5
    },
    {
     "cell_type": "heading",
     "level": 2,
     "metadata": {},
     "source": [
      "Original solution:"
     ]
    },
    {
     "cell_type": "code",
     "collapsed": false,
     "input": [
      "#\n",
      "t0 = time()\n",
      "surf.gen_queue(symmetric = False)\n",
      "surf.factorize('h2', tau = 1e-6, iters = 1)\n",
      "print  surf.diffnorm2()\n",
      "print 'Original solving', time() - t0"
     ],
     "language": "python",
     "metadata": {
      "code_folding": []
     },
     "outputs": [
      {
       "output_type": "stream",
       "stream": "stdout",
       "text": [
        "3.20211675152e-06\n",
        "Original solving 176.169185162\n"
       ]
      }
     ],
     "prompt_number": 6
    },
    {
     "cell_type": "heading",
     "level": 2,
     "metadata": {},
     "source": [
      "Building sparse extended matrix:"
     ]
    },
    {
     "cell_type": "code",
     "collapsed": false,
     "input": [
      "N_SE, N =  hyp(surf)"
     ],
     "language": "python",
     "metadata": {},
     "outputs": [
      {
       "output_type": "stream",
       "stream": "stdout",
       "text": [
        "Size of original matrix:  (10604, 10604)\n",
        "Size of SE matrix:  (48765, 48765)\n",
        "B time"
       ]
      },
      {
       "output_type": "stream",
       "stream": "stdout",
       "text": [
        " 0.201056003571\n",
        "I time"
       ]
      },
      {
       "output_type": "stream",
       "stream": "stdout",
       "text": [
        " 0.0762760639191\n",
        "A time"
       ]
      },
      {
       "output_type": "stream",
       "stream": "stdout",
       "text": [
        " 0.258929014206\n",
        "C time"
       ]
      },
      {
       "output_type": "stream",
       "stream": "stdout",
       "text": [
        " 1.36264586449\n",
        "I time 0.03422498703\n",
        "E time"
       ]
      },
      {
       "output_type": "stream",
       "stream": "stdout",
       "text": [
        " 0.0487730503082\n",
        "CL time"
       ]
      },
      {
       "output_type": "stream",
       "stream": "stdout",
       "text": [
        " 0.982400178909\n",
        "D time"
       ]
      },
      {
       "output_type": "stream",
       "stream": "stdout",
       "text": [
        " 0.0812120437622\n",
        "Total time 3.04566788673\n"
       ]
      }
     ],
     "prompt_number": 7
    },
    {
     "cell_type": "code",
     "collapsed": false,
     "input": [
      "show_hyp(surf)"
     ],
     "language": "python",
     "metadata": {},
     "outputs": [
      {
       "metadata": {},
       "output_type": "display_data",
       "png": "[encoded data removed]",
       "text": [
        "<matplotlib.figure.Figure at 0x7f1dd43d3890>"
       ]
      }
     ],
     "prompt_number": 8
    },
    {
     "cell_type": "code",
     "collapsed": false,
     "input": [
      "#sol = random\n",
      "sol = np.random.uniform(-1, 1, size=N)\n",
      "rh = surf.dot(sol, dasha_debug=1)\n",
      "hyp_test(surf, rh,sol)\n",
      "SE = sp.sparse.csr_matrix(surf.hyper.T)"
     ],
     "language": "python",
     "metadata": {
      "code_folding": [
       0
      ]
     },
     "outputs": [
      {
       "output_type": "stream",
       "stream": "stdout",
       "text": [
        "H*sol - rh =  2.8499661778e-14\n"
       ]
      }
     ],
     "prompt_number": 9
    },
    {
     "cell_type": "heading",
     "level": 2,
     "metadata": {},
     "source": [
      "Direct solver:\n"
     ]
    },
    {
     "cell_type": "heading",
     "level": 3,
     "metadata": {},
     "source": [
      "Shuffle right hand side and makin big rh"
     ]
    },
    {
     "cell_type": "code",
     "collapsed": false,
     "input": [
      "#\n",
      "p = 0\n",
      "shuffle_rh = copy.deepcopy(rh)\n",
      "for i in surf.row_l_list:\n",
      "    if surf.factor.row_coef[i].shape[0] == 0:\n",
      "        for j in xrange(surf.factor.row_coef[i].shape[1]):\n",
      "            shuffle_rh[p] =  rh[surf.factor.row_tree.index[i][j]] \n",
      "            p+=1\n",
      "    else:\n",
      "        for j in xrange(surf.factor.row_coef[i].shape[0]):\n",
      "            shuffle_rh[p] =  rh[surf.factor.row_tree.index[i][j]] \n",
      "            p+=1\n",
      "            \n",
      "big_rh = np.concatenate((shuffle_rh,np.zeros((N_SE - N)))) "
     ],
     "language": "python",
     "metadata": {
      "code_folding": [
       0
      ]
     },
     "outputs": [],
     "prompt_number": 10
    },
    {
     "cell_type": "heading",
     "level": 3,
     "metadata": {},
     "source": [
      "Solve system"
     ]
    },
    {
     "cell_type": "code",
     "collapsed": false,
     "input": [
      "#\n",
      "t0 = time()  \n",
      "temp_sol = sp.sparse.linalg.spsolve(SE,big_rh) \n",
      "print   \"Direct solver time:\",time() - t0 "
     ],
     "language": "python",
     "metadata": {
      "code_folding": [
       0
      ]
     },
     "outputs": [
      {
       "output_type": "stream",
       "stream": "stdout",
       "text": [
        "Direct solver time: 99.4401741028\n"
       ]
      }
     ],
     "prompt_number": 55
    },
    {
     "cell_type": "heading",
     "level": 3,
     "metadata": {},
     "source": [
      "Reshuffle solution"
     ]
    },
    {
     "cell_type": "code",
     "collapsed": false,
     "input": [
      "#\n",
      "tree = surf.factor.col_tree\n",
      "size = tree.level[-1]\n",
      "ind = tree.index\n",
      "\n",
      "temp_sol = temp_sol[:N]\n",
      "dir_sol = np.zeros(N,dtype = temp_sol.dtype)\n",
      "\n",
      "p = 0\n",
      "for j in xrange(size):\n",
      "            if len(tree.child[j]) is 0:\n",
      "                tmp = temp_sol[p:p + len(ind[j])]\n",
      "                for i in xrange(len(ind[j])):\n",
      "                    dir_sol[ind[j][i]] = tmp[i]\n",
      "                p += len(ind[j])"
     ],
     "language": "python",
     "metadata": {
      "code_folding": [
       0
      ]
     },
     "outputs": [],
     "prompt_number": 56
    },
    {
     "cell_type": "code",
     "collapsed": false,
     "input": [
      "print np.linalg.norm(sol - dir_sol[:N])"
     ],
     "language": "python",
     "metadata": {},
     "outputs": [
      {
       "output_type": "stream",
       "stream": "stdout",
       "text": [
        "1167.59043704\n"
       ]
      }
     ],
     "prompt_number": 57
    },
    {
     "cell_type": "heading",
     "level": 2,
     "metadata": {},
     "source": [
      "GMRES without preconditioner, $H^2$ matvec:"
     ]
    },
    {
     "cell_type": "code",
     "collapsed": false,
     "input": [
      "#\n",
      "res = []\n",
      "t = []\n",
      "\n",
      "it_sol = np.zeros(N)\n",
      "\n",
      "def simple_print(r):\n",
      "    print np.linalg.norm(r)\n",
      "    res.append(r)\n",
      "    t.append(time()-t0)\n",
      "\n",
      "def dot_fun(v):\n",
      "     return surf.dot(v)\n",
      "\n",
      "lo_dot = sp.sparse.linalg.LinearOperator((N,N), dot_fun, dtype=float )\n",
      "\n",
      "\n",
      "b = rh\n",
      "x0 = np.zeros(N, dtype=float)\n",
      "\n",
      "t0 = time() \n",
      "\n",
      "#import ipdb; ipdb.set_trace()\n",
      "it_sol, errr = gmres(lo_dot, b, x0, tol=1e-6, restart=5000, maxiter=1000, xtype=0, M=None, callback=simple_print)\n",
      "print \"Number of iterations:\", len(t), \"Total time:\", time() - t0\n",
      "\n",
      "resH2N = np.array(res)\n",
      "tH2N = np.array(t)"
     ],
     "language": "python",
     "metadata": {
      "code_folding": []
     },
     "outputs": [
      {
       "output_type": "stream",
       "stream": "stdout",
       "text": [
        "0.298605844949\n",
        "0.12681004676"
       ]
      },
      {
       "output_type": "stream",
       "stream": "stdout",
       "text": [
        "\n",
        "0.0613565297999"
       ]
      },
      {
       "output_type": "stream",
       "stream": "stdout",
       "text": [
        "\n",
        "0.0346291241139"
       ]
      },
      {
       "output_type": "stream",
       "stream": "stdout",
       "text": [
        "\n",
        "0.0215087602868"
       ]
      },
      {
       "output_type": "stream",
       "stream": "stdout",
       "text": [
        "\n",
        "0.014104410821"
       ]
      },
      {
       "output_type": "stream",
       "stream": "stdout",
       "text": [
        "\n",
        "0.00973413818119"
       ]
      },
      {
       "output_type": "stream",
       "stream": "stdout",
       "text": [
        "\n",
        "0.00704042568919"
       ]
      },
      {
       "output_type": "stream",
       "stream": "stdout",
       "text": [
        "\n",
        "0.0052174170852"
       ]
      },
      {
       "output_type": "stream",
       "stream": "stdout",
       "text": [
        "\n",
        "0.00398977885704"
       ]
      },
      {
       "output_type": "stream",
       "stream": "stdout",
       "text": [
        "\n",
        "0.00311722849019"
       ]
      },
      {
       "output_type": "stream",
       "stream": "stdout",
       "text": [
        "\n",
        "0.00250342840615"
       ]
      },
      {
       "output_type": "stream",
       "stream": "stdout",
       "text": [
        "\n",
        "0.0020454785883"
       ]
      },
      {
       "output_type": "stream",
       "stream": "stdout",
       "text": [
        "\n",
        "0.00168440932743"
       ]
      },
      {
       "output_type": "stream",
       "stream": "stdout",
       "text": [
        "\n",
        "0.00139158840191"
       ]
      },
      {
       "output_type": "stream",
       "stream": "stdout",
       "text": [
        "\n",
        "0.00116113175808"
       ]
      },
      {
       "output_type": "stream",
       "stream": "stdout",
       "text": [
        "\n",
        "0.000975393760534"
       ]
      },
      {
       "output_type": "stream",
       "stream": "stdout",
       "text": [
        "\n",
        "0.000823437643889"
       ]
      },
      {
       "output_type": "stream",
       "stream": "stdout",
       "text": [
        "\n",
        "0.000704363013812"
       ]
      },
      {
       "output_type": "stream",
       "stream": "stdout",
       "text": [
        "\n",
        "0.00060626077156"
       ]
      },
      {
       "output_type": "stream",
       "stream": "stdout",
       "text": [
        "\n",
        "0.000523207915246"
       ]
      },
      {
       "output_type": "stream",
       "stream": "stdout",
       "text": [
        "\n",
        "0.000454605723358"
       ]
      },
      {
       "output_type": "stream",
       "stream": "stdout",
       "text": [
        "\n",
        "0.000399208562422"
       ]
      },
      {
       "output_type": "stream",
       "stream": "stdout",
       "text": [
        "\n",
        "0.000351352581941"
       ]
      },
      {
       "output_type": "stream",
       "stream": "stdout",
       "text": [
        "\n",
        "0.000311291337553"
       ]
      },
      {
       "output_type": "stream",
       "stream": "stdout",
       "text": [
        "\n",
        "0.000276335549799"
       ]
      },
      {
       "output_type": "stream",
       "stream": "stdout",
       "text": [
        "\n",
        "0.000246151998606"
       ]
      },
      {
       "output_type": "stream",
       "stream": "stdout",
       "text": [
        "\n",
        "0.00022023153126"
       ]
      },
      {
       "output_type": "stream",
       "stream": "stdout",
       "text": [
        "\n",
        "0.000198324696146"
       ]
      },
      {
       "output_type": "stream",
       "stream": "stdout",
       "text": [
        "\n",
        "0.000178645062435"
       ]
      },
      {
       "output_type": "stream",
       "stream": "stdout",
       "text": [
        "\n",
        "0.000162532865856"
       ]
      },
      {
       "output_type": "stream",
       "stream": "stdout",
       "text": [
        "\n",
        "0.000147813580422"
       ]
      },
      {
       "output_type": "stream",
       "stream": "stdout",
       "text": [
        "\n",
        "0.000135473222715"
       ]
      },
      {
       "output_type": "stream",
       "stream": "stdout",
       "text": [
        "\n",
        "0.000124108088089"
       ]
      },
      {
       "output_type": "stream",
       "stream": "stdout",
       "text": [
        "\n",
        "0.000114751209615"
       ]
      },
      {
       "output_type": "stream",
       "stream": "stdout",
       "text": [
        "\n",
        "0.000105774581506"
       ]
      },
      {
       "output_type": "stream",
       "stream": "stdout",
       "text": [
        "\n",
        "9.80110465815e-05"
       ]
      },
      {
       "output_type": "stream",
       "stream": "stdout",
       "text": [
        "\n",
        "9.01910412381e-05"
       ]
      },
      {
       "output_type": "stream",
       "stream": "stdout",
       "text": [
        "\n",
        "8.35135399626e-05"
       ]
      },
      {
       "output_type": "stream",
       "stream": "stdout",
       "text": [
        "\n",
        "7.66005071543e-05"
       ]
      },
      {
       "output_type": "stream",
       "stream": "stdout",
       "text": [
        "\n",
        "7.095122777e-05"
       ]
      },
      {
       "output_type": "stream",
       "stream": "stdout",
       "text": [
        "\n",
        "6.53822632463e-05"
       ]
      },
      {
       "output_type": "stream",
       "stream": "stdout",
       "text": [
        "\n",
        "6.07390176307e-05"
       ]
      },
      {
       "output_type": "stream",
       "stream": "stdout",
       "text": [
        "\n",
        "5.59502305613e-05"
       ]
      },
      {
       "output_type": "stream",
       "stream": "stdout",
       "text": [
        "\n",
        "5.20369848296e-05"
       ]
      },
      {
       "output_type": "stream",
       "stream": "stdout",
       "text": [
        "\n",
        "4.80527223275e-05"
       ]
      },
      {
       "output_type": "stream",
       "stream": "stdout",
       "text": [
        "\n",
        "4.4775391398e-05"
       ]
      },
      {
       "output_type": "stream",
       "stream": "stdout",
       "text": [
        "\n",
        "4.15027023279e-05"
       ]
      },
      {
       "output_type": "stream",
       "stream": "stdout",
       "text": [
        "\n",
        "3.87030894959e-05"
       ]
      },
      {
       "output_type": "stream",
       "stream": "stdout",
       "text": [
        "\n",
        "3.58932572059e-05"
       ]
      },
      {
       "output_type": "stream",
       "stream": "stdout",
       "text": [
        "\n",
        "3.36625245845e-05"
       ]
      },
      {
       "output_type": "stream",
       "stream": "stdout",
       "text": [
        "\n",
        "3.15089179415e-05"
       ]
      },
      {
       "output_type": "stream",
       "stream": "stdout",
       "text": [
        "\n",
        "2.9615695717e-05"
       ]
      },
      {
       "output_type": "stream",
       "stream": "stdout",
       "text": [
        "\n",
        "2.76534693734e-05"
       ]
      },
      {
       "output_type": "stream",
       "stream": "stdout",
       "text": [
        "\n",
        "2.60026692055e-05"
       ]
      },
      {
       "output_type": "stream",
       "stream": "stdout",
       "text": [
        "\n",
        "2.44521002623e-05"
       ]
      },
      {
       "output_type": "stream",
       "stream": "stdout",
       "text": [
        "\n",
        "2.32267725623e-05"
       ]
      },
      {
       "output_type": "stream",
       "stream": "stdout",
       "text": [
        "\n",
        "2.20035471801e-05"
       ]
      },
      {
       "output_type": "stream",
       "stream": "stdout",
       "text": [
        "\n",
        "2.08763904892e-05"
       ]
      },
      {
       "output_type": "stream",
       "stream": "stdout",
       "text": [
        "\n",
        "1.96918767979e-05"
       ]
      },
      {
       "output_type": "stream",
       "stream": "stdout",
       "text": [
        "\n",
        "1.85493254643e-05"
       ]
      },
      {
       "output_type": "stream",
       "stream": "stdout",
       "text": [
        "\n",
        "1.7469462263e-05"
       ]
      },
      {
       "output_type": "stream",
       "stream": "stdout",
       "text": [
        "\n",
        "1.65601618075e-05"
       ]
      },
      {
       "output_type": "stream",
       "stream": "stdout",
       "text": [
        "\n",
        "1.56662021256e-05"
       ]
      },
      {
       "output_type": "stream",
       "stream": "stdout",
       "text": [
        "\n",
        "1.49089788712e-05"
       ]
      },
      {
       "output_type": "stream",
       "stream": "stdout",
       "text": [
        "\n",
        "1.41515600127e-05"
       ]
      },
      {
       "output_type": "stream",
       "stream": "stdout",
       "text": [
        "\n",
        "1.35006448159e-05"
       ]
      },
      {
       "output_type": "stream",
       "stream": "stdout",
       "text": [
        "\n",
        "1.28710216551e-05"
       ]
      },
      {
       "output_type": "stream",
       "stream": "stdout",
       "text": [
        "\n",
        "1.23144594325e-05"
       ]
      },
      {
       "output_type": "stream",
       "stream": "stdout",
       "text": [
        "\n",
        "1.17979795119e-05"
       ]
      },
      {
       "output_type": "stream",
       "stream": "stdout",
       "text": [
        "\n",
        "1.13064489754e-05"
       ]
      },
      {
       "output_type": "stream",
       "stream": "stdout",
       "text": [
        "\n",
        "1.08466030889e-05"
       ]
      },
      {
       "output_type": "stream",
       "stream": "stdout",
       "text": [
        "\n",
        "1.04653994615e-05"
       ]
      },
      {
       "output_type": "stream",
       "stream": "stdout",
       "text": [
        "\n",
        "1.00700993719e-05"
       ]
      },
      {
       "output_type": "stream",
       "stream": "stdout",
       "text": [
        "\n",
        "9.70196299072e-06"
       ]
      },
      {
       "output_type": "stream",
       "stream": "stdout",
       "text": [
        "\n",
        "9.31418883742e-06"
       ]
      },
      {
       "output_type": "stream",
       "stream": "stdout",
       "text": [
        "\n",
        "8.94408571701e-06"
       ]
      },
      {
       "output_type": "stream",
       "stream": "stdout",
       "text": [
        "\n",
        "8.59098307834e-06"
       ]
      },
      {
       "output_type": "stream",
       "stream": "stdout",
       "text": [
        "\n",
        "8.27227935601e-06"
       ]
      },
      {
       "output_type": "stream",
       "stream": "stdout",
       "text": [
        "\n",
        "7.98389441782e-06"
       ]
      },
      {
       "output_type": "stream",
       "stream": "stdout",
       "text": [
        "\n",
        "7.74320024183e-06"
       ]
      },
      {
       "output_type": "stream",
       "stream": "stdout",
       "text": [
        "\n",
        "7.51762569278e-06"
       ]
      },
      {
       "output_type": "stream",
       "stream": "stdout",
       "text": [
        "\n",
        "7.31872204643e-06"
       ]
      },
      {
       "output_type": "stream",
       "stream": "stdout",
       "text": [
        "\n",
        "7.11484316547e-06"
       ]
      },
      {
       "output_type": "stream",
       "stream": "stdout",
       "text": [
        "\n",
        "6.93834349122e-06"
       ]
      },
      {
       "output_type": "stream",
       "stream": "stdout",
       "text": [
        "\n",
        "6.75314008317e-06"
       ]
      },
      {
       "output_type": "stream",
       "stream": "stdout",
       "text": [
        "\n",
        "6.57102930134e-06"
       ]
      },
      {
       "output_type": "stream",
       "stream": "stdout",
       "text": [
        "\n",
        "6.38807474128e-06"
       ]
      },
      {
       "output_type": "stream",
       "stream": "stdout",
       "text": [
        "\n",
        "6.23020970311e-06"
       ]
      },
      {
       "output_type": "stream",
       "stream": "stdout",
       "text": [
        "\n",
        "6.06895571729e-06"
       ]
      },
      {
       "output_type": "stream",
       "stream": "stdout",
       "text": [
        "\n",
        "5.91864933889e-06"
       ]
      },
      {
       "output_type": "stream",
       "stream": "stdout",
       "text": [
        "\n",
        "5.75966913096e-06"
       ]
      },
      {
       "output_type": "stream",
       "stream": "stdout",
       "text": [
        "\n",
        "5.60501041087e-06"
       ]
      },
      {
       "output_type": "stream",
       "stream": "stdout",
       "text": [
        "\n",
        "5.43736437958e-06"
       ]
      },
      {
       "output_type": "stream",
       "stream": "stdout",
       "text": [
        "\n",
        "5.29444026657e-06"
       ]
      },
      {
       "output_type": "stream",
       "stream": "stdout",
       "text": [
        "\n",
        "5.14987520259e-06"
       ]
      },
      {
       "output_type": "stream",
       "stream": "stdout",
       "text": [
        "\n",
        "5.02729277994e-06"
       ]
      },
      {
       "output_type": "stream",
       "stream": "stdout",
       "text": [
        "\n",
        "4.91277000452e-06"
       ]
      },
      {
       "output_type": "stream",
       "stream": "stdout",
       "text": [
        "\n",
        "4.81519627647e-06"
       ]
      },
      {
       "output_type": "stream",
       "stream": "stdout",
       "text": [
        "\n",
        "4.71928613322e-06"
       ]
      },
      {
       "output_type": "stream",
       "stream": "stdout",
       "text": [
        "\n",
        "4.63760252839e-06"
       ]
      },
      {
       "output_type": "stream",
       "stream": "stdout",
       "text": [
        "\n",
        "4.55522759711e-06"
       ]
      },
      {
       "output_type": "stream",
       "stream": "stdout",
       "text": [
        "\n",
        "4.47662602695e-06"
       ]
      },
      {
       "output_type": "stream",
       "stream": "stdout",
       "text": [
        "\n",
        "4.4031018936e-06"
       ]
      },
      {
       "output_type": "stream",
       "stream": "stdout",
       "text": [
        "\n",
        "4.33247128419e-06"
       ]
      },
      {
       "output_type": "stream",
       "stream": "stdout",
       "text": [
        "\n",
        "4.25690099313e-06"
       ]
      },
      {
       "output_type": "stream",
       "stream": "stdout",
       "text": [
        "\n",
        "4.17880501225e-06"
       ]
      },
      {
       "output_type": "stream",
       "stream": "stdout",
       "text": [
        "\n",
        "4.10116248232e-06"
       ]
      },
      {
       "output_type": "stream",
       "stream": "stdout",
       "text": [
        "\n",
        "4.02923840169e-06"
       ]
      },
      {
       "output_type": "stream",
       "stream": "stdout",
       "text": [
        "\n",
        "3.96146672798e-06"
       ]
      },
      {
       "output_type": "stream",
       "stream": "stdout",
       "text": [
        "\n",
        "3.89851347073e-06"
       ]
      },
      {
       "output_type": "stream",
       "stream": "stdout",
       "text": [
        "\n",
        "3.83576143306e-06"
       ]
      },
      {
       "output_type": "stream",
       "stream": "stdout",
       "text": [
        "\n",
        "3.77531536414e-06"
       ]
      },
      {
       "output_type": "stream",
       "stream": "stdout",
       "text": [
        "\n",
        "3.71574608205e-06"
       ]
      },
      {
       "output_type": "stream",
       "stream": "stdout",
       "text": [
        "\n",
        "3.65985321248e-06"
       ]
      },
      {
       "output_type": "stream",
       "stream": "stdout",
       "text": [
        "\n",
        "3.60359263921e-06"
       ]
      },
      {
       "output_type": "stream",
       "stream": "stdout",
       "text": [
        "\n",
        "3.55179114958e-06"
       ]
      },
      {
       "output_type": "stream",
       "stream": "stdout",
       "text": [
        "\n",
        "3.49818457389e-06"
       ]
      },
      {
       "output_type": "stream",
       "stream": "stdout",
       "text": [
        "\n",
        "3.44422756944e-06"
       ]
      },
      {
       "output_type": "stream",
       "stream": "stdout",
       "text": [
        "\n",
        "3.38769918961e-06"
       ]
      },
      {
       "output_type": "stream",
       "stream": "stdout",
       "text": [
        "\n",
        "3.333955069e-06"
       ]
      },
      {
       "output_type": "stream",
       "stream": "stdout",
       "text": [
        "\n",
        "3.27435397048e-06"
       ]
      },
      {
       "output_type": "stream",
       "stream": "stdout",
       "text": [
        "\n",
        "3.21025122214e-06"
       ]
      },
      {
       "output_type": "stream",
       "stream": "stdout",
       "text": [
        "\n",
        "3.14306756989e-06"
       ]
      },
      {
       "output_type": "stream",
       "stream": "stdout",
       "text": [
        "\n",
        "3.08019897448e-06"
       ]
      },
      {
       "output_type": "stream",
       "stream": "stdout",
       "text": [
        "\n",
        "3.01340958926e-06"
       ]
      },
      {
       "output_type": "stream",
       "stream": "stdout",
       "text": [
        "\n",
        "2.94739386236e-06"
       ]
      },
      {
       "output_type": "stream",
       "stream": "stdout",
       "text": [
        "\n",
        "2.87696851797e-06"
       ]
      },
      {
       "output_type": "stream",
       "stream": "stdout",
       "text": [
        "\n",
        "2.80396008481e-06"
       ]
      },
      {
       "output_type": "stream",
       "stream": "stdout",
       "text": [
        "\n",
        "2.72758299901e-06"
       ]
      },
      {
       "output_type": "stream",
       "stream": "stdout",
       "text": [
        "\n",
        "2.64573513548e-06"
       ]
      },
      {
       "output_type": "stream",
       "stream": "stdout",
       "text": [
        "\n",
        "2.56157479468e-06"
       ]
      },
      {
       "output_type": "stream",
       "stream": "stdout",
       "text": [
        "\n",
        "2.47988282693e-06"
       ]
      },
      {
       "output_type": "stream",
       "stream": "stdout",
       "text": [
        "\n",
        "2.39686826352e-06"
       ]
      },
      {
       "output_type": "stream",
       "stream": "stdout",
       "text": [
        "\n",
        "2.31694025592e-06"
       ]
      },
      {
       "output_type": "stream",
       "stream": "stdout",
       "text": [
        "\n",
        "2.23203410107e-06"
       ]
      },
      {
       "output_type": "stream",
       "stream": "stdout",
       "text": [
        "\n",
        "2.14948553828e-06"
       ]
      },
      {
       "output_type": "stream",
       "stream": "stdout",
       "text": [
        "\n",
        "2.06397984208e-06"
       ]
      },
      {
       "output_type": "stream",
       "stream": "stdout",
       "text": [
        "\n",
        "1.98670167882e-06"
       ]
      },
      {
       "output_type": "stream",
       "stream": "stdout",
       "text": [
        "\n",
        "1.90674919614e-06"
       ]
      },
      {
       "output_type": "stream",
       "stream": "stdout",
       "text": [
        "\n",
        "1.82873767629e-06"
       ]
      },
      {
       "output_type": "stream",
       "stream": "stdout",
       "text": [
        "\n",
        "1.75514166087e-06"
       ]
      },
      {
       "output_type": "stream",
       "stream": "stdout",
       "text": [
        "\n",
        "1.68724846875e-06"
       ]
      },
      {
       "output_type": "stream",
       "stream": "stdout",
       "text": [
        "\n",
        "1.62179635146e-06"
       ]
      },
      {
       "output_type": "stream",
       "stream": "stdout",
       "text": [
        "\n",
        "1.56192647143e-06"
       ]
      },
      {
       "output_type": "stream",
       "stream": "stdout",
       "text": [
        "\n",
        "1.50226995111e-06"
       ]
      },
      {
       "output_type": "stream",
       "stream": "stdout",
       "text": [
        "\n",
        "1.45235351915e-06"
       ]
      },
      {
       "output_type": "stream",
       "stream": "stdout",
       "text": [
        "\n",
        "1.40062491118e-06"
       ]
      },
      {
       "output_type": "stream",
       "stream": "stdout",
       "text": [
        "\n",
        "1.35465847993e-06"
       ]
      },
      {
       "output_type": "stream",
       "stream": "stdout",
       "text": [
        "\n",
        "1.304033328e-06"
       ]
      },
      {
       "output_type": "stream",
       "stream": "stdout",
       "text": [
        "\n",
        "1.26220236677e-06"
       ]
      },
      {
       "output_type": "stream",
       "stream": "stdout",
       "text": [
        "\n",
        "1.22105946656e-06"
       ]
      },
      {
       "output_type": "stream",
       "stream": "stdout",
       "text": [
        "\n",
        "1.1847169252e-06"
       ]
      },
      {
       "output_type": "stream",
       "stream": "stdout",
       "text": [
        "\n",
        "1.1493893497e-06"
       ]
      },
      {
       "output_type": "stream",
       "stream": "stdout",
       "text": [
        "\n",
        "1.11987998584e-06"
       ]
      },
      {
       "output_type": "stream",
       "stream": "stdout",
       "text": [
        "\n",
        "1.093949686e-06"
       ]
      },
      {
       "output_type": "stream",
       "stream": "stdout",
       "text": [
        "\n",
        "1.07132591771e-06"
       ]
      },
      {
       "output_type": "stream",
       "stream": "stdout",
       "text": [
        "\n",
        "1.04803910213e-06"
       ]
      },
      {
       "output_type": "stream",
       "stream": "stdout",
       "text": [
        "\n",
        "1.02650163224e-06"
       ]
      },
      {
       "output_type": "stream",
       "stream": "stdout",
       "text": [
        "\n",
        "1.00464274478e-06"
       ]
      },
      {
       "output_type": "stream",
       "stream": "stdout",
       "text": [
        "\n",
        "9.83732925975e-07\n",
        "Number of iterations: 161 Total time: 10.0364928246\n"
       ]
      }
     ],
     "prompt_number": 11
    },
    {
     "cell_type": "code",
     "collapsed": false,
     "input": [
      "print np.linalg.norm(sol - it_sol) / np.linalg.norm(sol)"
     ],
     "language": "python",
     "metadata": {},
     "outputs": [
      {
       "output_type": "stream",
       "stream": "stdout",
       "text": [
        "0.00513803061148\n"
       ]
      }
     ],
     "prompt_number": 59
    },
    {
     "cell_type": "heading",
     "level": 2,
     "metadata": {},
     "source": [
      "GMRES without preconditioner, $SE$ matvec:"
     ]
    },
    {
     "cell_type": "heading",
     "level": 3,
     "metadata": {},
     "source": [
      "Shuffle right hand side"
     ]
    },
    {
     "cell_type": "code",
     "collapsed": false,
     "input": [
      "#\n",
      "p = 0\n",
      "shuffle_rh = copy.deepcopy(rh)\n",
      "for i in surf.row_l_list:\n",
      "    if surf.factor.row_coef[i].shape[0] == 0:\n",
      "        for j in xrange(surf.factor.row_coef[i].shape[1]):\n",
      "            shuffle_rh[p] =  rh[surf.factor.row_tree.index[i][j]] \n",
      "            p+=1\n",
      "    else:\n",
      "        for j in xrange(surf.factor.row_coef[i].shape[0]):\n",
      "            shuffle_rh[p] =  rh[surf.factor.row_tree.index[i][j]] \n",
      "            p+=1\n",
      "            \n",
      "big_rh = np.concatenate((shuffle_rh,np.zeros((SE.shape[0]-shuffle_rh.shape[0])))) "
     ],
     "language": "python",
     "metadata": {
      "code_folding": [
       0
      ]
     },
     "outputs": [],
     "prompt_number": 60
    },
    {
     "cell_type": "heading",
     "level": 3,
     "metadata": {},
     "source": [
      "GMRES iterations"
     ]
    },
    {
     "cell_type": "code",
     "collapsed": false,
     "input": [
      "#\n",
      "res = []\n",
      "t = []\n",
      "\n",
      "it_sol = np.zeros(N)\n",
      "\n",
      "def simple_print(r):\n",
      "    print np.linalg.norm(r)\n",
      "    res.append(r)\n",
      "    t.append(time()-t0)\n",
      "\n",
      "def dot_fun(v):\n",
      "     return SE.dot(v)\n",
      "\n",
      "lo_dot = sp.sparse.linalg.LinearOperator((N_SE,N_SE), dot_fun, dtype=float )\n",
      "\n",
      "\n",
      "b = big_rh\n",
      "x0 = np.zeros(N_SE, dtype=float)\n",
      "\n",
      "t0 = time() \n",
      "\n",
      "tmp_s, errr = gmres(lo_dot, b, x0, tol=1e-6, restart=5000, maxiter=1000, xtype=0, M=None, callback=simple_print)\n",
      "print \"Number of iterations:\", len(t), \"Total time:\", time() - t0\n",
      "\n",
      "resSEN = np.array(res)\n",
      "tSEN = np.array(t)\n"
     ],
     "language": "python",
     "metadata": {
      "code_folding": [
       0
      ]
     },
     "outputs": [
      {
       "output_type": "stream",
       "stream": "stdout",
       "text": [
        "0.980964828302\n",
        "0.980607250297\n",
        "0.980607131506\n",
        "0.980595452521\n",
        "0.980594873122\n",
        "0.980594000417\n",
        "0.980592601845"
       ]
      },
      {
       "output_type": "stream",
       "stream": "stdout",
       "text": [
        "\n",
        "0.980591352427\n",
        "0.980589724292\n",
        "0.980589522785\n",
        "0.980584161855\n",
        "0.980576749689"
       ]
      },
      {
       "output_type": "stream",
       "stream": "stdout",
       "text": [
        "\n",
        "0.98057655511\n",
        "0.980549931539\n",
        "0.980549927939\n",
        "0.980549923572\n",
        "0.98054989677"
       ]
      },
      {
       "output_type": "stream",
       "stream": "stdout",
       "text": [
        "\n",
        "0.980516656495\n",
        "0.980513815114\n",
        "0.980474789657\n",
        "0.980470227288\n",
        "0.980430517904"
       ]
      },
      {
       "output_type": "stream",
       "stream": "stdout",
       "text": [
        "\n",
        "0.980430507309\n",
        "0.98041030086\n",
        "0.980406958327\n",
        "0.980394873542\n",
        "0.980394872127"
       ]
      },
      {
       "output_type": "stream",
       "stream": "stdout",
       "text": [
        "\n",
        "0.980394823039\n",
        "0.980394271378\n",
        "0.980385117481\n",
        "0.980384405684\n",
        "0.980383388553"
       ]
      },
      {
       "output_type": "stream",
       "stream": "stdout",
       "text": [
        "\n",
        "0.980380936017\n",
        "0.980373238387\n",
        "0.980369125849\n",
        "0.980366165008\n",
        "0.980365960007"
       ]
      },
      {
       "output_type": "stream",
       "stream": "stdout",
       "text": [
        "\n",
        "0.980356827215\n",
        "0.980356275838\n",
        "0.98035545222\n",
        "0.980353910537\n",
        "0.980353830379"
       ]
      },
      {
       "output_type": "stream",
       "stream": "stdout",
       "text": [
        "\n",
        "0.98035339135\n",
        "0.980352932215\n",
        "0.980352899059\n",
        "0.980349674864\n",
        "0.980345366047"
       ]
      },
      {
       "output_type": "stream",
       "stream": "stdout",
       "text": [
        "\n",
        "0.980342275973\n",
        "0.980341103631\n",
        "0.980337286775\n",
        "0.980337108359"
       ]
      },
      {
       "output_type": "stream",
       "stream": "stdout",
       "text": [
        "\n",
        "0.980334185293\n",
        "0.98033320871\n",
        "0.980324532116\n",
        "0.980322801409"
       ]
      },
      {
       "output_type": "stream",
       "stream": "stdout",
       "text": [
        "\n",
        "0.980315174642\n",
        "0.98031515507\n",
        "0.980314263937\n",
        "0.9803138363"
       ]
      },
      {
       "output_type": "stream",
       "stream": "stdout",
       "text": [
        "\n",
        "0.980308888547\n",
        "0.980305650739\n",
        "0.980298970483\n",
        "0.980295947121\n",
        "0.980295432475"
       ]
      },
      {
       "output_type": "stream",
       "stream": "stdout",
       "text": [
        "\n",
        "0.980294676111\n",
        "0.980293081687\n",
        "0.980292329128\n",
        "0.980292226512"
       ]
      },
      {
       "output_type": "stream",
       "stream": "stdout",
       "text": [
        "\n",
        "0.980292226407\n",
        "0.980291271852\n",
        "0.980291164723\n",
        "0.980288857228"
       ]
      },
      {
       "output_type": "stream",
       "stream": "stdout",
       "text": [
        "\n",
        "0.980288766756\n",
        "0.980286325107\n",
        "0.980284406745\n",
        "0.980284402573"
       ]
      },
      {
       "output_type": "stream",
       "stream": "stdout",
       "text": [
        "\n",
        "0.98028265773\n",
        "0.980282283313\n",
        "0.980282270948\n",
        "0.980280346645"
       ]
      },
      {
       "output_type": "stream",
       "stream": "stdout",
       "text": [
        "\n",
        "0.980279772789\n",
        "0.980279641862\n",
        "0.980255997818\n",
        "0.980254490516"
       ]
      },
      {
       "output_type": "stream",
       "stream": "stdout",
       "text": [
        "\n",
        "0.980254382325\n",
        "0.980237166209\n",
        "0.980236256333\n",
        "0.980235496384"
       ]
      },
      {
       "output_type": "stream",
       "stream": "stdout",
       "text": [
        "\n",
        "0.980230599283\n",
        "0.980230587375\n",
        "0.980229872872\n",
        "0.980225942177"
       ]
      },
      {
       "output_type": "stream",
       "stream": "stdout",
       "text": [
        "\n",
        "0.980220385228\n",
        "0.980218601137\n",
        "0.980212410468\n",
        "0.980211363128"
       ]
      },
      {
       "output_type": "stream",
       "stream": "stdout",
       "text": [
        "\n",
        "0.980211269034\n",
        "0.980202683646\n",
        "0.980180316114\n",
        "0.980180225398"
       ]
      },
      {
       "output_type": "stream",
       "stream": "stdout",
       "text": [
        "\n",
        "0.980175706591\n",
        "0.980168153477\n",
        "0.980165923414\n",
        "0.980151374689"
       ]
      },
      {
       "output_type": "stream",
       "stream": "stdout",
       "text": [
        "\n",
        "0.980150844892\n",
        "0.980137904793\n",
        "0.980125550987\n",
        "0.980124573397"
       ]
      },
      {
       "output_type": "stream",
       "stream": "stdout",
       "text": [
        "\n",
        "0.980124164367\n",
        "0.980120600673\n",
        "0.980119619956\n",
        "0.980119309846"
       ]
      },
      {
       "output_type": "stream",
       "stream": "stdout",
       "text": [
        "\n",
        "0.980116545787\n",
        "0.980115530201\n",
        "0.980113853745\n",
        "0.980112138262"
       ]
      },
      {
       "output_type": "stream",
       "stream": "stdout",
       "text": [
        "\n",
        "0.980100632667\n",
        "0.980099634801\n",
        "0.980099375758\n",
        "0.980093324207"
       ]
      },
      {
       "output_type": "stream",
       "stream": "stdout",
       "text": [
        "\n",
        "0.980088785801\n",
        "0.980072473963\n",
        "0.980069167085\n",
        "0.980050819538"
       ]
      },
      {
       "output_type": "stream",
       "stream": "stdout",
       "text": [
        "\n",
        "0.980050666527\n",
        "0.980049929107\n",
        "0.980040720166\n",
        "0.980038954509"
       ]
      },
      {
       "output_type": "stream",
       "stream": "stdout",
       "text": [
        "\n",
        "0.980038624448\n",
        "0.980020942773\n",
        "0.980020937826\n",
        "0.980014964333"
       ]
      },
      {
       "output_type": "stream",
       "stream": "stdout",
       "text": [
        "\n",
        "0.98001296662\n",
        "0.980012847775\n",
        "0.980012653276\n",
        "0.980011457014"
       ]
      },
      {
       "output_type": "stream",
       "stream": "stdout",
       "text": [
        "\n",
        "0.980010432081\n",
        "0.980005750662\n",
        "0.980005642517\n",
        "0.980005356736"
       ]
      },
      {
       "output_type": "stream",
       "stream": "stdout",
       "text": [
        "\n",
        "0.98000172585\n",
        "0.979979422107\n",
        "0.979979402384\n",
        "0.9799720731"
       ]
      },
      {
       "output_type": "stream",
       "stream": "stdout",
       "text": [
        "\n",
        "0.979971161628\n",
        "0.979969412655\n",
        "0.979968825619\n",
        "0.979965046169"
       ]
      },
      {
       "output_type": "stream",
       "stream": "stdout",
       "text": [
        "\n",
        "0.979945252827\n",
        "0.979943127359\n",
        "0.979929672052\n",
        "0.979929670596"
       ]
      },
      {
       "output_type": "stream",
       "stream": "stdout",
       "text": [
        "\n",
        "0.979929571434\n",
        "0.979928627693\n",
        "0.979928406375\n",
        "0.979925849429"
       ]
      },
      {
       "output_type": "stream",
       "stream": "stdout",
       "text": [
        "\n",
        "0.979922325944\n",
        "0.979905717909\n",
        "0.979905646603"
       ]
      },
      {
       "output_type": "stream",
       "stream": "stdout",
       "text": [
        "\n",
        "0.97990536034\n",
        "0.979903028972\n",
        "0.979899577869"
       ]
      },
      {
       "output_type": "stream",
       "stream": "stdout",
       "text": [
        "\n",
        "0.979899460357\n",
        "0.979898344703\n",
        "0.979898265587"
       ]
      },
      {
       "output_type": "stream",
       "stream": "stdout",
       "text": [
        "\n",
        "0.979898264606\n",
        "0.979897030982\n",
        "0.979897029292"
       ]
      },
      {
       "output_type": "stream",
       "stream": "stdout",
       "text": [
        "\n",
        "0.979896076025\n",
        "0.979886275547\n",
        "0.979885006679"
       ]
      },
      {
       "output_type": "stream",
       "stream": "stdout",
       "text": [
        "\n",
        "0.979881901278\n",
        "0.979866823153\n",
        "0.97986659694"
       ]
      },
      {
       "output_type": "stream",
       "stream": "stdout",
       "text": [
        "\n",
        "0.979864929659\n",
        "0.979864299103\n",
        "0.979856721648"
       ]
      },
      {
       "output_type": "stream",
       "stream": "stdout",
       "text": [
        "\n",
        "0.979856074951\n",
        "0.979847515255\n",
        "0.97984663307"
       ]
      },
      {
       "output_type": "stream",
       "stream": "stdout",
       "text": [
        "\n",
        "0.979833590075\n",
        "0.979832240775\n",
        "0.979831785644"
       ]
      },
      {
       "output_type": "stream",
       "stream": "stdout",
       "text": [
        "\n",
        "0.979830000307\n",
        "0.979829138739\n",
        "0.979828234003"
       ]
      },
      {
       "output_type": "stream",
       "stream": "stdout",
       "text": [
        "\n",
        "0.979827544611\n",
        "0.979824988691\n",
        "0.979824987729"
       ]
      },
      {
       "output_type": "stream",
       "stream": "stdout",
       "text": [
        "\n",
        "0.979824866504\n",
        "0.979810056385\n",
        "0.979800158756"
       ]
      },
      {
       "output_type": "stream",
       "stream": "stdout",
       "text": [
        "\n",
        "0.979800124333\n",
        "0.979798456822\n",
        "0.979798183744"
       ]
      },
      {
       "output_type": "stream",
       "stream": "stdout",
       "text": [
        "\n",
        "0.979797756372\n",
        "0.979778583629\n",
        "0.979777943969"
       ]
      },
      {
       "output_type": "stream",
       "stream": "stdout",
       "text": [
        "\n",
        "0.979774650982\n",
        "0.979773510812\n",
        "0.979772373828"
       ]
      },
      {
       "output_type": "stream",
       "stream": "stdout",
       "text": [
        "\n",
        "0.979771756032\n",
        "0.979770595891\n",
        "0.979746130126"
       ]
      },
      {
       "output_type": "stream",
       "stream": "stdout",
       "text": [
        "\n",
        "0.97974366356\n",
        "0.979743310845\n",
        "0.979732268676"
       ]
      },
      {
       "output_type": "stream",
       "stream": "stdout",
       "text": [
        "\n",
        "0.979728902385\n",
        "0.979727872855\n",
        "0.979727048372"
       ]
      },
      {
       "output_type": "stream",
       "stream": "stdout",
       "text": [
        "\n",
        "0.979716791409\n",
        "0.97971632741\n",
        "0.979716318519"
       ]
      },
      {
       "output_type": "stream",
       "stream": "stdout",
       "text": [
        "\n",
        "0.979714803916\n",
        "0.979714771193\n",
        "0.979714292382"
       ]
      },
      {
       "output_type": "stream",
       "stream": "stdout",
       "text": [
        "\n",
        "0.979712171559\n",
        "0.979709562518\n",
        "0.979709460398"
       ]
      },
      {
       "output_type": "stream",
       "stream": "stdout",
       "text": [
        "\n",
        "0.979705501273\n",
        "0.97970025752\n",
        "0.979699223015"
       ]
      },
      {
       "output_type": "stream",
       "stream": "stdout",
       "text": [
        "\n",
        "0.979698468289\n",
        "0.979698022163\n",
        "0.979691601317"
       ]
      },
      {
       "output_type": "stream",
       "stream": "stdout",
       "text": [
        "\n",
        "0.979669651008\n",
        "0.979666769524\n",
        "0.979662866885"
       ]
      },
      {
       "output_type": "stream",
       "stream": "stdout",
       "text": [
        "\n",
        "0.979658679803\n",
        "0.979653636278\n",
        "0.979650549707"
       ]
      },
      {
       "output_type": "stream",
       "stream": "stdout",
       "text": [
        "\n",
        "0.979647593246\n",
        "0.979637932179\n",
        "0.97963754406"
       ]
      },
      {
       "output_type": "stream",
       "stream": "stdout",
       "text": [
        "\n",
        "0.979637367308\n",
        "0.979635880398\n",
        "0.97962972292"
       ]
      },
      {
       "output_type": "stream",
       "stream": "stdout",
       "text": [
        "\n",
        "0.979626328247\n",
        "0.979625569802\n",
        "0.97962517089"
       ]
      },
      {
       "output_type": "stream",
       "stream": "stdout",
       "text": [
        "\n",
        "0.97962499411\n",
        "0.979621998321\n",
        "0.979621889216"
       ]
      },
      {
       "output_type": "stream",
       "stream": "stdout",
       "text": [
        "\n",
        "0.979620178608\n",
        "0.979607277727"
       ]
      },
      {
       "output_type": "stream",
       "stream": "stdout",
       "text": [
        "\n",
        "0.97960722163\n",
        "0.979607203847\n",
        "0.979603704321"
       ]
      },
      {
       "output_type": "stream",
       "stream": "stdout",
       "text": [
        "\n",
        "0.979603612779\n",
        "0.979596185359\n",
        "0.97959575156"
       ]
      },
      {
       "output_type": "stream",
       "stream": "stdout",
       "text": [
        "\n",
        "0.979590764638\n",
        "0.97958881267\n",
        "0.979582954438"
       ]
      },
      {
       "output_type": "stream",
       "stream": "stdout",
       "text": [
        "\n",
        "0.97958294906\n",
        "0.979582041985"
       ]
      },
      {
       "output_type": "stream",
       "stream": "stdout",
       "text": [
        "\n",
        "0.979575480572\n",
        "0.979574139825"
       ]
      },
      {
       "output_type": "stream",
       "stream": "stdout",
       "text": [
        "\n",
        "0.97957133422\n",
        "0.979569456247\n",
        "0.979569437315"
       ]
      },
      {
       "output_type": "stream",
       "stream": "stdout",
       "text": [
        "\n",
        "0.979568880226\n",
        "0.979567375723\n",
        "0.979563900919"
       ]
      },
      {
       "output_type": "stream",
       "stream": "stdout",
       "text": [
        "\n",
        "0.979560929142\n",
        "0.979559968719\n",
        "0.979555098637"
       ]
      },
      {
       "output_type": "stream",
       "stream": "stdout",
       "text": [
        "\n",
        "0.979554499499\n",
        "0.979553386624\n",
        "0.979536108154"
       ]
      },
      {
       "output_type": "stream",
       "stream": "stdout",
       "text": [
        "\n",
        "0.979526628334\n",
        "0.979520675748\n",
        "0.97952048316"
       ]
      },
      {
       "output_type": "stream",
       "stream": "stdout",
       "text": [
        "\n",
        "0.979515691583\n",
        "0.979511966679\n",
        "0.979501754843"
       ]
      },
      {
       "output_type": "stream",
       "stream": "stdout",
       "text": [
        "\n",
        "0.979501463145\n",
        "0.979497433215\n",
        "0.979496303844"
       ]
      },
      {
       "output_type": "stream",
       "stream": "stdout",
       "text": [
        "\n",
        "0.979494001821\n",
        "0.979489802044\n",
        "0.979482523009"
       ]
      },
      {
       "output_type": "stream",
       "stream": "stdout",
       "text": [
        "\n",
        "0.979482519787\n",
        "0.979481821283\n",
        "0.979481362554"
       ]
      },
      {
       "output_type": "stream",
       "stream": "stdout",
       "text": [
        "\n",
        "0.979475860573\n",
        "0.979474230653"
       ]
      },
      {
       "output_type": "stream",
       "stream": "stdout",
       "text": [
        "\n",
        "0.979466060882\n",
        "0.979461971948"
       ]
      },
      {
       "output_type": "stream",
       "stream": "stdout",
       "text": [
        "\n",
        "0.979459979396\n",
        "0.979459458538"
       ]
      },
      {
       "output_type": "stream",
       "stream": "stdout",
       "text": [
        "\n",
        "0.979459440785\n",
        "0.979459421521\n",
        "0.979450535504"
       ]
      },
      {
       "output_type": "stream",
       "stream": "stdout",
       "text": [
        "\n",
        "0.979439428939\n",
        "0.979437711181\n",
        "0.979433493043"
       ]
      },
      {
       "output_type": "stream",
       "stream": "stdout",
       "text": [
        "\n",
        "0.979433458616\n",
        "0.979430248655\n",
        "0.979430240492"
       ]
      },
      {
       "output_type": "stream",
       "stream": "stdout",
       "text": [
        "\n",
        "0.979426581177\n",
        "0.979425547301"
       ]
      },
      {
       "output_type": "stream",
       "stream": "stdout",
       "text": [
        "\n",
        "0.979409044176\n",
        "0.979403147721"
       ]
      },
      {
       "output_type": "stream",
       "stream": "stdout",
       "text": [
        "\n",
        "0.979402348214\n",
        "0.979395165738"
       ]
      },
      {
       "output_type": "stream",
       "stream": "stdout",
       "text": [
        "\n",
        "0.979393775049\n",
        "0.979391008402\n",
        "0.979388625744"
       ]
      },
      {
       "output_type": "stream",
       "stream": "stdout",
       "text": [
        "\n",
        "0.979362181388\n",
        "0.979361972072\n",
        "0.979361422737"
       ]
      },
      {
       "output_type": "stream",
       "stream": "stdout",
       "text": [
        "\n",
        "0.979361351034\n",
        "0.979360658636\n",
        "0.979360655365"
       ]
      },
      {
       "output_type": "stream",
       "stream": "stdout",
       "text": [
        "\n",
        "0.979360310426\n",
        "0.979360254451"
       ]
      },
      {
       "output_type": "stream",
       "stream": "stdout",
       "text": [
        "\n",
        "0.979357309091\n",
        "0.979357138532\n",
        "0.979357112798"
       ]
      },
      {
       "output_type": "stream",
       "stream": "stdout",
       "text": [
        "\n",
        "0.979356808158\n",
        "0.97935374742\n",
        "0.979341433073"
       ]
      },
      {
       "output_type": "stream",
       "stream": "stdout",
       "text": [
        "\n",
        "0.979323014455\n",
        "0.979322125494"
       ]
      },
      {
       "output_type": "stream",
       "stream": "stdout",
       "text": [
        "\n",
        "0.979319644187\n",
        "0.979302276175"
       ]
      },
      {
       "output_type": "stream",
       "stream": "stdout",
       "text": [
        "\n",
        "0.979301034864\n",
        "0.979300875532"
       ]
      },
      {
       "output_type": "stream",
       "stream": "stdout",
       "text": [
        "\n",
        "0.979300676187\n",
        "0.979295744327"
       ]
      },
      {
       "output_type": "stream",
       "stream": "stdout",
       "text": [
        "\n",
        "0.97929227317\n",
        "0.979291828763\n",
        "0.979288539211"
       ]
      },
      {
       "output_type": "stream",
       "stream": "stdout",
       "text": [
        "\n",
        "0.979281123632\n",
        "0.979280597693\n",
        "0.979275914536"
       ]
      },
      {
       "output_type": "stream",
       "stream": "stdout",
       "text": [
        "\n",
        "0.979275150266\n",
        "0.979275094556\n",
        "0.979273916444"
       ]
      },
      {
       "output_type": "stream",
       "stream": "stdout",
       "text": [
        "\n",
        "0.979273822776\n",
        "0.979272037053"
       ]
      },
      {
       "output_type": "stream",
       "stream": "stdout",
       "text": [
        "\n",
        "0.979271152231\n",
        "0.979270947126"
       ]
      },
      {
       "output_type": "stream",
       "stream": "stdout",
       "text": [
        "\n",
        "0.979270528092\n",
        "0.97927052798\n",
        "0.979255675792"
       ]
      },
      {
       "output_type": "stream",
       "stream": "stdout",
       "text": [
        "\n",
        "0.979251622936\n",
        "0.979249586901"
       ]
      },
      {
       "output_type": "stream",
       "stream": "stdout",
       "text": [
        "\n",
        "0.979247288117\n",
        "0.979247269345"
       ]
      },
      {
       "output_type": "stream",
       "stream": "stdout",
       "text": [
        "\n",
        "0.97924444891\n",
        "0.979244382538"
       ]
      },
      {
       "output_type": "stream",
       "stream": "stdout",
       "text": [
        "\n",
        "0.979244321844\n",
        "0.979242529526"
       ]
      },
      {
       "output_type": "stream",
       "stream": "stdout",
       "text": [
        "\n",
        "0.979241769379\n",
        "0.979235989652"
       ]
      },
      {
       "output_type": "stream",
       "stream": "stdout",
       "text": [
        "\n",
        "0.979230294075\n",
        "0.979225834119"
       ]
      },
      {
       "output_type": "stream",
       "stream": "stdout",
       "text": [
        "\n",
        "0.979224704193\n",
        "0.979222088321"
       ]
      },
      {
       "output_type": "stream",
       "stream": "stdout",
       "text": [
        "\n",
        "0.979216823148\n",
        "0.979214139349"
       ]
      },
      {
       "output_type": "stream",
       "stream": "stdout",
       "text": [
        "\n",
        "0.979208399981\n",
        "0.979208343375"
       ]
      },
      {
       "output_type": "stream",
       "stream": "stdout",
       "text": [
        "\n",
        "0.979208073887\n",
        "0.979206871451"
       ]
      },
      {
       "output_type": "stream",
       "stream": "stdout",
       "text": [
        "\n",
        "0.979206726063\n",
        "0.979206105182"
       ]
      },
      {
       "output_type": "stream",
       "stream": "stdout",
       "text": [
        "\n",
        "0.979204242656\n",
        "0.979197694861"
       ]
      },
      {
       "output_type": "stream",
       "stream": "stdout",
       "text": [
        "\n",
        "0.979182732937\n",
        "0.979182205277"
       ]
      },
      {
       "output_type": "stream",
       "stream": "stdout",
       "text": [
        "\n",
        "0.97918217111\n",
        "0.97917444255"
       ]
      },
      {
       "output_type": "stream",
       "stream": "stdout",
       "text": [
        "\n",
        "0.979172659138\n",
        "0.979166473827"
       ]
      },
      {
       "output_type": "stream",
       "stream": "stdout",
       "text": [
        "\n",
        "0.979166460079\n",
        "0.979160932008"
       ]
      },
      {
       "output_type": "stream",
       "stream": "stdout",
       "text": [
        "\n",
        "0.979160602866\n",
        "0.979160272746"
       ]
      },
      {
       "output_type": "stream",
       "stream": "stdout",
       "text": [
        "\n",
        "0.979154216668\n",
        "0.979153839983"
       ]
      },
      {
       "output_type": "stream",
       "stream": "stdout",
       "text": [
        "\n",
        "0.979152525317\n",
        "0.979150160239"
       ]
      },
      {
       "output_type": "stream",
       "stream": "stdout",
       "text": [
        "\n",
        "0.979150093723\n",
        "0.979148814549"
       ]
      },
      {
       "output_type": "stream",
       "stream": "stdout",
       "text": [
        "\n",
        "0.979147385354\n",
        "0.979139805129"
       ]
      },
      {
       "output_type": "stream",
       "stream": "stdout",
       "text": [
        "\n",
        "0.979135291545\n",
        "0.979134709327"
       ]
      },
      {
       "output_type": "stream",
       "stream": "stdout",
       "text": [
        "\n",
        "0.979131902103\n",
        "0.979131589904"
       ]
      },
      {
       "output_type": "stream",
       "stream": "stdout",
       "text": [
        "\n",
        "0.979130528489\n",
        "0.979116962649"
       ]
      },
      {
       "output_type": "stream",
       "stream": "stdout",
       "text": [
        "\n",
        "0.979115647731\n",
        "0.979114668554"
       ]
      },
      {
       "output_type": "stream",
       "stream": "stdout",
       "text": [
        "\n",
        "0.979112857695\n",
        "0.979091650816"
       ]
      },
      {
       "output_type": "stream",
       "stream": "stdout",
       "text": [
        "\n",
        "0.979090926977\n",
        "0.979090708766"
       ]
      },
      {
       "output_type": "stream",
       "stream": "stdout",
       "text": [
        "\n",
        "0.979087053643\n",
        "0.979087053527"
       ]
      },
      {
       "output_type": "stream",
       "stream": "stdout",
       "text": [
        "\n",
        "0.979086493042\n",
        "0.979085138257"
       ]
      },
      {
       "output_type": "stream",
       "stream": "stdout",
       "text": [
        "\n",
        "0.979072938192\n",
        "0.979071896263"
       ]
      },
      {
       "output_type": "stream",
       "stream": "stdout",
       "text": [
        "\n",
        "0.979071890056\n",
        "0.979071679924"
       ]
      },
      {
       "output_type": "stream",
       "stream": "stdout",
       "text": [
        "\n",
        "0.979070835494\n",
        "0.979070774208"
       ]
      },
      {
       "output_type": "stream",
       "stream": "stdout",
       "text": [
        "\n",
        "0.979070736568\n",
        "0.979069373596"
       ]
      },
      {
       "output_type": "stream",
       "stream": "stdout",
       "text": [
        "\n",
        "0.979069074359\n",
        "0.97906608648"
       ]
      },
      {
       "output_type": "stream",
       "stream": "stdout",
       "text": [
        "\n",
        "0.979065965394\n",
        "0.979057337981"
       ]
      },
      {
       "output_type": "stream",
       "stream": "stdout",
       "text": [
        "\n",
        "0.979053916626\n",
        "0.979053779963"
       ]
      },
      {
       "output_type": "stream",
       "stream": "stdout",
       "text": [
        "\n",
        "0.979052914128\n",
        "0.979052913311"
       ]
      },
      {
       "output_type": "stream",
       "stream": "stdout",
       "text": [
        "\n",
        "0.979052332797\n",
        "0.979052080895"
       ]
      },
      {
       "output_type": "stream",
       "stream": "stdout",
       "text": [
        "\n",
        "0.9790360234\n",
        "0.979033664232"
       ]
      },
      {
       "output_type": "stream",
       "stream": "stdout",
       "text": [
        "\n",
        "0.979030345849\n",
        "0.979028986736"
       ]
      },
      {
       "output_type": "stream",
       "stream": "stdout",
       "text": [
        "\n",
        "0.97901604707\n",
        "0.979015765085"
       ]
      },
      {
       "output_type": "stream",
       "stream": "stdout",
       "text": [
        "\n",
        "0.979015237906\n",
        "0.979006853164"
       ]
      },
      {
       "output_type": "stream",
       "stream": "stdout",
       "text": [
        "\n",
        "0.979006850382\n",
        "0.979003669178"
       ]
      },
      {
       "output_type": "stream",
       "stream": "stdout",
       "text": [
        "\n",
        "0.979000420782\n",
        "0.978998286203"
       ]
      },
      {
       "output_type": "stream",
       "stream": "stdout",
       "text": [
        "\n",
        "0.978997462927\n",
        "0.978997442819"
       ]
      },
      {
       "output_type": "stream",
       "stream": "stdout",
       "text": [
        "\n",
        "0.978997439526\n",
        "0.978996650699"
       ]
      },
      {
       "output_type": "stream",
       "stream": "stdout",
       "text": [
        "\n",
        "0.978984443348\n",
        "0.978983888001"
       ]
      },
      {
       "output_type": "stream",
       "stream": "stdout",
       "text": [
        "\n",
        "0.978980442641\n",
        "0.978979745075"
       ]
      },
      {
       "output_type": "stream",
       "stream": "stdout",
       "text": [
        "\n",
        "0.978978801441\n",
        "0.978977780901"
       ]
      },
      {
       "output_type": "stream",
       "stream": "stdout",
       "text": [
        "\n",
        "0.978974656112\n",
        "0.978969084275"
       ]
      },
      {
       "output_type": "stream",
       "stream": "stdout",
       "text": [
        "\n",
        "0.978967274553\n",
        "0.978966964839"
       ]
      },
      {
       "output_type": "stream",
       "stream": "stdout",
       "text": [
        "\n",
        "0.978966824923\n",
        "0.978966798186"
       ]
      },
      {
       "output_type": "stream",
       "stream": "stdout",
       "text": [
        "\n",
        "0.978966343302\n",
        "0.978966143682"
       ]
      },
      {
       "output_type": "stream",
       "stream": "stdout",
       "text": [
        "\n",
        "0.978965434544\n",
        "0.978964724534"
       ]
      },
      {
       "output_type": "stream",
       "stream": "stdout",
       "text": [
        "\n",
        "0.978960989749\n",
        "0.978960430821"
       ]
      },
      {
       "output_type": "stream",
       "stream": "stdout",
       "text": [
        "\n",
        "0.978955583354\n",
        "0.978934921849"
       ]
      },
      {
       "output_type": "stream",
       "stream": "stdout",
       "text": [
        "\n",
        "0.978882863981\n",
        "0.978851634946"
       ]
      },
      {
       "output_type": "stream",
       "stream": "stdout",
       "text": [
        "\n",
        "0.978851608953\n",
        "0.978851558667"
       ]
      },
      {
       "output_type": "stream",
       "stream": "stdout",
       "text": [
        "\n",
        "0.978846303957\n",
        "0.978841689374"
       ]
      },
      {
       "output_type": "stream",
       "stream": "stdout",
       "text": [
        "\n",
        "0.978841685082\n",
        "0.978838000349"
       ]
      },
      {
       "output_type": "stream",
       "stream": "stdout",
       "text": [
        "\n",
        "0.978830372168\n",
        "0.978828131499"
       ]
      },
      {
       "output_type": "stream",
       "stream": "stdout",
       "text": [
        "\n",
        "0.978828095124\n",
        "0.978824098436"
       ]
      },
      {
       "output_type": "stream",
       "stream": "stdout",
       "text": [
        "\n",
        "0.978821081311\n",
        "0.978804180544"
       ]
      },
      {
       "output_type": "stream",
       "stream": "stdout",
       "text": [
        "\n",
        "0.978804172406\n",
        "0.978799140946"
       ]
      },
      {
       "output_type": "stream",
       "stream": "stdout",
       "text": [
        "\n",
        "0.978798630672\n",
        "0.978784992413"
       ]
      },
      {
       "output_type": "stream",
       "stream": "stdout",
       "text": [
        "\n",
        "0.978783786656\n",
        "0.978764634234"
       ]
      },
      {
       "output_type": "stream",
       "stream": "stdout",
       "text": [
        "\n",
        "0.978762866057\n",
        "0.978760341122"
       ]
      },
      {
       "output_type": "stream",
       "stream": "stdout",
       "text": [
        "\n",
        "0.978741306253\n",
        "0.978741306095"
       ]
      },
      {
       "output_type": "stream",
       "stream": "stdout",
       "text": [
        "\n",
        "0.978741032449\n",
        "0.978739613303"
       ]
      },
      {
       "output_type": "stream",
       "stream": "stdout",
       "text": [
        "\n",
        "0.978736732\n",
        "0.978693041119"
       ]
      },
      {
       "output_type": "stream",
       "stream": "stdout",
       "text": [
        "\n",
        "0.978690524821\n",
        "0.978690225095"
       ]
      },
      {
       "output_type": "stream",
       "stream": "stdout",
       "text": [
        "\n",
        "0.978639414921\n",
        "0.978633553726"
       ]
      },
      {
       "output_type": "stream",
       "stream": "stdout",
       "text": [
        "\n",
        "0.97863109157\n",
        "0.978631080506"
       ]
      },
      {
       "output_type": "stream",
       "stream": "stdout",
       "text": [
        "\n",
        "0.978629423556\n",
        "0.97859651826"
       ]
      },
      {
       "output_type": "stream",
       "stream": "stdout",
       "text": [
        "\n",
        "0.978593827495\n",
        "0.97858986787"
       ]
      },
      {
       "output_type": "stream",
       "stream": "stdout",
       "text": [
        "\n",
        "0.978579450579\n",
        "0.978577303514"
       ]
      },
      {
       "output_type": "stream",
       "stream": "stdout",
       "text": [
        "\n",
        "0.978577246211\n",
        "0.978575519147"
       ]
      },
      {
       "output_type": "stream",
       "stream": "stdout",
       "text": [
        "\n",
        "0.978575500293\n",
        "0.97857547808"
       ]
      },
      {
       "output_type": "stream",
       "stream": "stdout",
       "text": [
        "\n",
        "0.978575222626\n",
        "0.978574829199"
       ]
      },
      {
       "output_type": "stream",
       "stream": "stdout",
       "text": [
        "\n",
        "0.978574242226\n",
        "0.978574150106"
       ]
      },
      {
       "output_type": "stream",
       "stream": "stdout",
       "text": [
        "\n",
        "0.978573045994\n",
        "0.978565189359"
       ]
      },
      {
       "output_type": "stream",
       "stream": "stdout",
       "text": [
        "\n",
        "0.978560685912\n",
        "0.978557559502"
       ]
      },
      {
       "output_type": "stream",
       "stream": "stdout",
       "text": [
        "\n",
        "0.978556817504\n",
        "0.978552844284"
       ]
      },
      {
       "output_type": "stream",
       "stream": "stdout",
       "text": [
        "\n",
        "0.978538369178\n",
        "0.978538110236"
       ]
      },
      {
       "output_type": "stream",
       "stream": "stdout",
       "text": [
        "\n",
        "0.978535129095\n",
        "0.978534927629"
       ]
      },
      {
       "output_type": "stream",
       "stream": "stdout",
       "text": [
        "\n",
        "0.978522691989\n",
        "0.978520407098"
       ]
      },
      {
       "output_type": "stream",
       "stream": "stdout",
       "text": [
        "\n",
        "0.97851253996\n",
        "0.978504212988"
       ]
      },
      {
       "output_type": "stream",
       "stream": "stdout",
       "text": [
        "\n",
        "0.978490282579\n",
        "0.978488095994"
       ]
      },
      {
       "output_type": "stream",
       "stream": "stdout",
       "text": [
        "\n",
        "0.978488001725\n",
        "0.978484523658"
       ]
      },
      {
       "output_type": "stream",
       "stream": "stdout",
       "text": [
        "\n",
        "0.978484425765\n",
        "0.978479781642"
       ]
      },
      {
       "output_type": "stream",
       "stream": "stdout",
       "text": [
        "\n",
        "0.978479758319\n",
        "0.978479141436"
       ]
      },
      {
       "output_type": "stream",
       "stream": "stdout",
       "text": [
        "\n",
        "0.978476261349\n",
        "0.978476147259"
       ]
      },
      {
       "output_type": "stream",
       "stream": "stdout",
       "text": [
        "\n",
        "0.978475677343\n",
        "0.978475445101"
       ]
      },
      {
       "output_type": "stream",
       "stream": "stdout",
       "text": [
        "\n",
        "0.97847430217\n",
        "0.978471407217"
       ]
      },
      {
       "output_type": "stream",
       "stream": "stdout",
       "text": [
        "\n",
        "0.978469106154\n",
        "0.978467038996"
       ]
      },
      {
       "output_type": "stream",
       "stream": "stdout",
       "text": [
        "\n",
        "0.978466578768\n",
        "0.97845695924"
       ]
      },
      {
       "output_type": "stream",
       "stream": "stdout",
       "text": [
        "\n",
        "0.978445951572\n",
        "0.978439154509"
       ]
      },
      {
       "output_type": "stream",
       "stream": "stdout",
       "text": [
        "\n",
        "0.978436529094\n",
        "0.978430359075"
       ]
      },
      {
       "output_type": "stream",
       "stream": "stdout",
       "text": [
        "\n",
        "0.978427948773\n",
        "0.97842602334"
       ]
      },
      {
       "output_type": "stream",
       "stream": "stdout",
       "text": [
        "\n",
        "0.97842338611\n",
        "0.978422874385"
       ]
      },
      {
       "output_type": "stream",
       "stream": "stdout",
       "text": [
        "\n",
        "0.97842253871\n",
        "0.978420814966"
       ]
      },
      {
       "output_type": "stream",
       "stream": "stdout",
       "text": [
        "\n",
        "0.978420706048\n",
        "0.978391948451"
       ]
      },
      {
       "output_type": "stream",
       "stream": "stdout",
       "text": [
        "\n",
        "0.978383482297\n",
        "0.978383432431"
       ]
      },
      {
       "output_type": "stream",
       "stream": "stdout",
       "text": [
        "\n",
        "0.978379272627\n",
        "0.978374875039"
       ]
      },
      {
       "output_type": "stream",
       "stream": "stdout",
       "text": [
        "\n",
        "0.978374848707\n",
        "0.97836988994"
       ]
      },
      {
       "output_type": "stream",
       "stream": "stdout",
       "text": [
        "\n",
        "0.978367719225\n",
        "0.978365843518"
       ]
      },
      {
       "output_type": "stream",
       "stream": "stdout",
       "text": [
        "\n",
        "0.978365830673\n",
        "0.978365380266"
       ]
      },
      {
       "output_type": "stream",
       "stream": "stdout",
       "text": [
        "\n",
        "0.978353176174\n",
        "0.978341215952"
       ]
      },
      {
       "output_type": "stream",
       "stream": "stdout",
       "text": [
        "\n",
        "0.978337267012\n",
        "0.978337264602"
       ]
      },
      {
       "output_type": "stream",
       "stream": "stdout",
       "text": [
        "\n",
        "0.978329278925\n",
        "0.978328515764"
       ]
      },
      {
       "output_type": "stream",
       "stream": "stdout",
       "text": [
        "\n",
        "0.978328087131\n",
        "0.978324242964"
       ]
      },
      {
       "output_type": "stream",
       "stream": "stdout",
       "text": [
        "\n",
        "0.978316461552\n",
        "0.978314782963"
       ]
      },
      {
       "output_type": "stream",
       "stream": "stdout",
       "text": [
        "\n",
        "0.978314401836\n",
        "0.978314346328"
       ]
      },
      {
       "output_type": "stream",
       "stream": "stdout",
       "text": [
        "\n",
        "0.978303856451\n",
        "0.97830352317"
       ]
      },
      {
       "output_type": "stream",
       "stream": "stdout",
       "text": [
        "\n",
        "0.97830066403\n",
        "0.978296661432"
       ]
      },
      {
       "output_type": "stream",
       "stream": "stdout",
       "text": [
        "\n",
        "0.978296169899\n",
        "0.978294805188"
       ]
      },
      {
       "output_type": "stream",
       "stream": "stdout",
       "text": [
        "\n",
        "0.978288931493\n",
        "0.978280419496"
       ]
      },
      {
       "output_type": "stream",
       "stream": "stdout",
       "text": [
        "\n",
        "0.978279767401\n",
        "0.978279741494"
       ]
      },
      {
       "output_type": "stream",
       "stream": "stdout",
       "text": [
        "\n",
        "0.978275372422\n",
        "0.97826963208"
       ]
      },
      {
       "output_type": "stream",
       "stream": "stdout",
       "text": [
        "\n",
        "0.978269579677\n",
        "0.978269396701"
       ]
      },
      {
       "output_type": "stream",
       "stream": "stdout",
       "text": [
        "\n",
        "0.978252764066\n",
        "0.978251179103"
       ]
      },
      {
       "output_type": "stream",
       "stream": "stdout",
       "text": [
        "\n",
        "0.978250689476\n",
        "0.978249785693"
       ]
      },
      {
       "output_type": "stream",
       "stream": "stdout",
       "text": [
        "\n",
        "0.97824772984\n",
        "0.978241652662"
       ]
      },
      {
       "output_type": "stream",
       "stream": "stdout",
       "text": [
        "\n",
        "0.978240386182\n",
        "0.978240359063"
       ]
      },
      {
       "output_type": "stream",
       "stream": "stdout",
       "text": [
        "\n",
        "0.978230410387\n",
        "0.978226411145"
       ]
      },
      {
       "output_type": "stream",
       "stream": "stdout",
       "text": [
        "\n",
        "0.978226012706\n",
        "0.978225618636"
       ]
      },
      {
       "output_type": "stream",
       "stream": "stdout",
       "text": [
        "\n",
        "0.978224538527\n",
        "0.97821114109"
       ]
      },
      {
       "output_type": "stream",
       "stream": "stdout",
       "text": [
        "\n",
        "0.978205384816\n",
        "0.978204049175"
       ]
      },
      {
       "output_type": "stream",
       "stream": "stdout",
       "text": [
        "\n",
        "0.978195433389\n",
        "0.978195433351"
       ]
      },
      {
       "output_type": "stream",
       "stream": "stdout",
       "text": [
        "\n",
        "0.978194621616\n",
        "0.978192712503"
       ]
      },
      {
       "output_type": "stream",
       "stream": "stdout",
       "text": [
        "\n",
        "0.978189773706\n",
        "0.978186232366"
       ]
      },
      {
       "output_type": "stream",
       "stream": "stdout",
       "text": [
        "\n",
        "0.978182953137\n",
        "0.978174725503"
       ]
      },
      {
       "output_type": "stream",
       "stream": "stdout",
       "text": [
        "\n",
        "0.978174409946\n",
        "0.978173336305"
       ]
      },
      {
       "output_type": "stream",
       "stream": "stdout",
       "text": [
        "\n",
        "0.978169111232\n",
        "0.978166629108"
       ]
      },
      {
       "output_type": "stream",
       "stream": "stdout",
       "text": [
        "\n",
        "0.9781665986\n",
        "0.978165095705"
       ]
      },
      {
       "output_type": "stream",
       "stream": "stdout",
       "text": [
        "\n",
        "0.978164135786\n",
        "0.978158833582"
       ]
      },
      {
       "output_type": "stream",
       "stream": "stdout",
       "text": [
        "\n",
        "0.978152352606\n",
        "0.978150416091"
       ]
      },
      {
       "output_type": "stream",
       "stream": "stdout",
       "text": [
        "\n",
        "0.97814980335\n",
        "0.978147673389"
       ]
      },
      {
       "output_type": "stream",
       "stream": "stdout",
       "text": [
        "\n",
        "0.978147655996\n",
        "0.978144559913"
       ]
      },
      {
       "output_type": "stream",
       "stream": "stdout",
       "text": [
        "\n",
        "0.978142214287\n",
        "0.978142183733"
       ]
      },
      {
       "output_type": "stream",
       "stream": "stdout",
       "text": [
        "\n",
        "0.978134439302\n",
        "0.978125906593"
       ]
      },
      {
       "output_type": "stream",
       "stream": "stdout",
       "text": [
        "\n",
        "0.97812586927\n",
        "0.978125479507"
       ]
      },
      {
       "output_type": "stream",
       "stream": "stdout",
       "text": [
        "\n",
        "0.97812493102\n",
        "0.978122699558"
       ]
      },
      {
       "output_type": "stream",
       "stream": "stdout",
       "text": [
        "\n",
        "0.978120674316\n",
        "0.978120012499"
       ]
      },
      {
       "output_type": "stream",
       "stream": "stdout",
       "text": [
        "\n",
        "0.97812001165\n",
        "0.978116397495"
       ]
      },
      {
       "output_type": "stream",
       "stream": "stdout",
       "text": [
        "\n",
        "0.978116249659\n",
        "0.978115932896"
       ]
      },
      {
       "output_type": "stream",
       "stream": "stdout",
       "text": [
        "\n",
        "0.97811412115\n",
        "0.978113076681"
       ]
      },
      {
       "output_type": "stream",
       "stream": "stdout",
       "text": [
        "\n",
        "0.978112444749\n",
        "0.978109703958"
       ]
      },
      {
       "output_type": "stream",
       "stream": "stdout",
       "text": [
        "\n",
        "0.978106381454\n",
        "0.978104485215"
       ]
      },
      {
       "output_type": "stream",
       "stream": "stdout",
       "text": [
        "\n",
        "0.97808696236\n",
        "0.978082214098"
       ]
      },
      {
       "output_type": "stream",
       "stream": "stdout",
       "text": [
        "\n",
        "0.978076471819\n",
        "0.97807575278"
       ]
      },
      {
       "output_type": "stream",
       "stream": "stdout",
       "text": [
        "\n",
        "0.978068033341\n",
        "0.978064931654"
       ]
      },
      {
       "output_type": "stream",
       "stream": "stdout",
       "text": [
        "\n",
        "0.978062748163\n",
        "0.978062720702"
       ]
      },
      {
       "output_type": "stream",
       "stream": "stdout",
       "text": [
        "\n",
        "0.978062383726\n",
        "0.978058448855"
       ]
      },
      {
       "output_type": "stream",
       "stream": "stdout",
       "text": [
        "\n",
        "0.978050278602\n",
        "0.97804427454"
       ]
      },
      {
       "output_type": "stream",
       "stream": "stdout",
       "text": [
        "\n",
        "0.978042216464\n",
        "0.978033981742"
       ]
      },
      {
       "output_type": "stream",
       "stream": "stdout",
       "text": [
        "\n",
        "0.978028129326\n",
        "0.97802266952"
       ]
      },
      {
       "output_type": "stream",
       "stream": "stdout",
       "text": [
        "\n",
        "0.978022667194\n",
        "0.978020946881"
       ]
      },
      {
       "output_type": "stream",
       "stream": "stdout",
       "text": [
        "\n",
        "0.978015985346\n",
        "0.978015860187"
       ]
      },
      {
       "output_type": "stream",
       "stream": "stdout",
       "text": [
        "\n",
        "0.978015809199\n",
        "0.97801539529"
       ]
      },
      {
       "output_type": "stream",
       "stream": "stdout",
       "text": [
        "\n",
        "0.978014447115\n",
        "0.978012462886"
       ]
      },
      {
       "output_type": "stream",
       "stream": "stdout",
       "text": [
        "\n",
        "0.978005642695\n",
        "0.97800548341"
       ]
      },
      {
       "output_type": "stream",
       "stream": "stdout",
       "text": [
        "\n",
        "0.978004824529\n",
        "0.978001290685"
       ]
      },
      {
       "output_type": "stream",
       "stream": "stdout",
       "text": [
        "\n",
        "0.977996281617\n",
        "0.977994240278"
       ]
      },
      {
       "output_type": "stream",
       "stream": "stdout",
       "text": [
        "\n",
        "0.977994208806\n",
        "0.97797958001"
       ]
      },
      {
       "output_type": "stream",
       "stream": "stdout",
       "text": [
        "\n",
        "0.977976235686\n",
        "0.97797526627"
       ]
      },
      {
       "output_type": "stream",
       "stream": "stdout",
       "text": [
        "\n",
        "0.977975218758\n",
        "0.977947756711"
       ]
      },
      {
       "output_type": "stream",
       "stream": "stdout",
       "text": [
        "\n",
        "0.97794158248\n",
        "0.977941303972"
       ]
      },
      {
       "output_type": "stream",
       "stream": "stdout",
       "text": [
        "\n",
        "0.977932084044\n",
        "0.97793183956"
       ]
      },
      {
       "output_type": "stream",
       "stream": "stdout",
       "text": [
        "\n",
        "0.97792449784\n",
        "0.977923171362"
       ]
      },
      {
       "output_type": "stream",
       "stream": "stdout",
       "text": [
        "\n",
        "0.977920053864\n",
        "0.977864447052"
       ]
      },
      {
       "output_type": "stream",
       "stream": "stdout",
       "text": [
        "\n",
        "0.97786335059\n",
        "0.977858342064"
       ]
      },
      {
       "output_type": "stream",
       "stream": "stdout",
       "text": [
        "\n",
        "0.977856029747\n",
        "0.977855612949"
       ]
      },
      {
       "output_type": "stream",
       "stream": "stdout",
       "text": [
        "\n",
        "0.977852146811\n",
        "0.9778480617"
       ]
      },
      {
       "output_type": "stream",
       "stream": "stdout",
       "text": [
        "\n",
        "0.977847784577\n",
        "0.977847782985"
       ]
      },
      {
       "output_type": "stream",
       "stream": "stdout",
       "text": [
        "\n",
        "0.97783989945\n",
        "0.977836008187"
       ]
      },
      {
       "output_type": "stream",
       "stream": "stdout",
       "text": [
        "\n",
        "0.977833853088\n",
        "0.977831380164"
       ]
      },
      {
       "output_type": "stream",
       "stream": "stdout",
       "text": [
        "\n",
        "0.977816223092\n",
        "0.977814637199"
       ]
      },
      {
       "output_type": "stream",
       "stream": "stdout",
       "text": [
        "\n",
        "0.977813289671\n",
        "0.977805478579"
       ]
      },
      {
       "output_type": "stream",
       "stream": "stdout",
       "text": [
        "\n",
        "0.977803744434\n",
        "0.977803415876"
       ]
      },
      {
       "output_type": "stream",
       "stream": "stdout",
       "text": [
        "\n",
        "0.977802674774\n",
        "0.977800452164"
       ]
      },
      {
       "output_type": "stream",
       "stream": "stdout",
       "text": [
        "\n",
        "0.977786190302\n",
        "0.977780363204"
       ]
      },
      {
       "output_type": "stream",
       "stream": "stdout",
       "text": [
        "\n",
        "0.977779217432\n",
        "0.977773799365"
       ]
      },
      {
       "output_type": "stream",
       "stream": "stdout",
       "text": [
        "\n",
        "0.977768538373\n",
        "0.977767161363"
       ]
      },
      {
       "output_type": "stream",
       "stream": "stdout",
       "text": [
        "\n",
        "0.977766364446\n",
        "0.977764548648"
       ]
      },
      {
       "output_type": "stream",
       "stream": "stdout",
       "text": [
        "\n",
        "0.977762814162\n",
        "0.977759778288"
       ]
      },
      {
       "output_type": "stream",
       "stream": "stdout",
       "text": [
        "\n",
        "0.977754369252\n",
        "0.977754302904"
       ]
      },
      {
       "output_type": "stream",
       "stream": "stdout",
       "text": [
        "\n",
        "0.977751531444\n",
        "0.977747760357"
       ]
      },
      {
       "output_type": "stream",
       "stream": "stdout",
       "text": [
        "\n",
        "0.977747737142\n",
        "0.977747517576"
       ]
      },
      {
       "output_type": "stream",
       "stream": "stdout",
       "text": [
        "\n",
        "0.977737274135\n",
        "0.977736071844"
       ]
      },
      {
       "output_type": "stream",
       "stream": "stdout",
       "text": [
        "\n",
        "0.977727772849\n",
        "0.977725331077"
       ]
      },
      {
       "output_type": "stream",
       "stream": "stdout",
       "text": [
        "\n",
        "0.977723442385\n",
        "0.977723062438"
       ]
      },
      {
       "output_type": "stream",
       "stream": "stdout",
       "text": [
        "\n",
        "0.977703280033\n",
        "0.977702399319"
       ]
      },
      {
       "output_type": "stream",
       "stream": "stdout",
       "text": [
        "\n",
        "0.977700240114\n",
        "0.977700198629"
       ]
      },
      {
       "output_type": "stream",
       "stream": "stdout",
       "text": [
        "\n",
        "0.977697922444\n",
        "0.977697300715"
       ]
      },
      {
       "output_type": "stream",
       "stream": "stdout",
       "text": [
        "\n",
        "0.977697275684\n",
        "0.977693688939"
       ]
      },
      {
       "output_type": "stream",
       "stream": "stdout",
       "text": [
        "\n",
        "0.977689862313\n",
        "0.977684616993"
       ]
      },
      {
       "output_type": "stream",
       "stream": "stdout",
       "text": [
        "\n",
        "0.977683565747\n",
        "0.977681040641"
       ]
      },
      {
       "output_type": "stream",
       "stream": "stdout",
       "text": [
        "\n",
        "0.97768035311\n",
        "0.977677606476"
       ]
      },
      {
       "output_type": "stream",
       "stream": "stdout",
       "text": [
        "\n",
        "0.977661594439\n",
        "0.977661440476"
       ]
      },
      {
       "output_type": "stream",
       "stream": "stdout",
       "text": [
        "\n",
        "0.97765987941\n",
        "0.977657562128"
       ]
      },
      {
       "output_type": "stream",
       "stream": "stdout",
       "text": [
        "\n",
        "0.977657440379"
       ]
      },
      {
       "output_type": "stream",
       "stream": "stdout",
       "text": [
        "\n",
        "0.977656568486"
       ]
      },
      {
       "output_type": "stream",
       "stream": "stdout",
       "text": [
        "\n",
        "0.97765299512"
       ]
      },
      {
       "output_type": "stream",
       "stream": "stdout",
       "text": [
        "\n",
        "0.97764974031\n",
        "0.97764888861"
       ]
      },
      {
       "output_type": "stream",
       "stream": "stdout",
       "text": [
        "\n",
        "0.977646012432\n",
        "0.977635915054"
       ]
      },
      {
       "output_type": "stream",
       "stream": "stdout",
       "text": [
        "\n",
        "0.977631361781\n",
        "0.977623424569"
       ]
      },
      {
       "output_type": "stream",
       "stream": "stdout",
       "text": [
        "\n",
        "0.977616650352\n",
        "0.97761661894"
       ]
      },
      {
       "output_type": "stream",
       "stream": "stdout",
       "text": [
        "\n",
        "0.977614657367\n",
        "0.977609842168"
       ]
      },
      {
       "output_type": "stream",
       "stream": "stdout",
       "text": [
        "\n",
        "0.977609815326\n",
        "0.977600922347"
       ]
      },
      {
       "output_type": "stream",
       "stream": "stdout",
       "text": [
        "\n",
        "0.977597751555\n",
        "0.977597744115"
       ]
      },
      {
       "output_type": "stream",
       "stream": "stdout",
       "text": [
        "\n",
        "0.977597060027\n",
        "0.977595974343"
       ]
      },
      {
       "output_type": "stream",
       "stream": "stdout",
       "text": [
        "\n",
        "0.977592024873\n",
        "0.977588983428"
       ]
      },
      {
       "output_type": "stream",
       "stream": "stdout",
       "text": [
        "\n",
        "0.977582847288\n",
        "0.977580254132"
       ]
      },
      {
       "output_type": "stream",
       "stream": "stdout",
       "text": [
        "\n",
        "0.97758009407\n",
        "0.977579295653"
       ]
      },
      {
       "output_type": "stream",
       "stream": "stdout",
       "text": [
        "\n",
        "0.977571572897\n",
        "0.977570443866"
       ]
      },
      {
       "output_type": "stream",
       "stream": "stdout",
       "text": [
        "\n",
        "0.977570288518\n",
        "0.977567830738"
       ]
      },
      {
       "output_type": "stream",
       "stream": "stdout",
       "text": [
        "\n",
        "0.97754776049\n",
        "0.977547740338"
       ]
      },
      {
       "output_type": "stream",
       "stream": "stdout",
       "text": [
        "\n",
        "0.977546718908\n",
        "0.977541592259"
       ]
      },
      {
       "output_type": "stream",
       "stream": "stdout",
       "text": [
        "\n",
        "0.977530149328\n",
        "0.977525750501"
       ]
      },
      {
       "output_type": "stream",
       "stream": "stdout",
       "text": [
        "\n",
        "0.977525729703"
       ]
      },
      {
       "output_type": "stream",
       "stream": "stdout",
       "text": [
        "\n",
        "0.977525193589\n",
        "0.977518389683"
       ]
      },
      {
       "output_type": "stream",
       "stream": "stdout",
       "text": [
        "\n",
        "0.977517090456\n",
        "0.977514866047"
       ]
      },
      {
       "output_type": "stream",
       "stream": "stdout",
       "text": [
        "\n",
        "0.977514865849\n",
        "0.977508540455"
       ]
      },
      {
       "output_type": "stream",
       "stream": "stdout",
       "text": [
        "\n",
        "0.977508471839\n",
        "0.977505406574"
       ]
      },
      {
       "output_type": "stream",
       "stream": "stdout",
       "text": [
        "\n",
        "0.977495057544\n",
        "0.977489895398"
       ]
      },
      {
       "output_type": "stream",
       "stream": "stdout",
       "text": [
        "\n",
        "0.977489750845\n",
        "0.97748153707"
       ]
      },
      {
       "output_type": "stream",
       "stream": "stdout",
       "text": [
        "\n",
        "0.977480511511\n",
        "0.977479557786"
       ]
      },
      {
       "output_type": "stream",
       "stream": "stdout",
       "text": [
        "\n",
        "0.977478681533\n",
        "0.977476745144"
       ]
      },
      {
       "output_type": "stream",
       "stream": "stdout",
       "text": [
        "\n",
        "0.977443925784\n",
        "0.977425907019"
       ]
      },
      {
       "output_type": "stream",
       "stream": "stdout",
       "text": [
        "\n",
        "0.977414078244\n",
        "0.977413689342"
       ]
      },
      {
       "output_type": "stream",
       "stream": "stdout",
       "text": [
        "\n",
        "0.977413513222\n",
        "0.977407689255"
       ]
      },
      {
       "output_type": "stream",
       "stream": "stdout",
       "text": [
        "\n",
        "0.977395881154\n",
        "0.9773956904"
       ]
      },
      {
       "output_type": "stream",
       "stream": "stdout",
       "text": [
        "\n",
        "0.977393097188\n",
        "0.977385710706"
       ]
      },
      {
       "output_type": "stream",
       "stream": "stdout",
       "text": [
        "\n",
        "0.977385508177\n",
        "0.977379760502"
       ]
      },
      {
       "output_type": "stream",
       "stream": "stdout",
       "text": [
        "\n",
        "0.977367710937\n",
        "0.977367377346"
       ]
      },
      {
       "output_type": "stream",
       "stream": "stdout",
       "text": [
        "\n",
        "0.977365488762\n",
        "0.977365364885"
       ]
      },
      {
       "output_type": "stream",
       "stream": "stdout",
       "text": [
        "\n",
        "0.977365359465\n",
        "0.977358803995"
       ]
      },
      {
       "output_type": "stream",
       "stream": "stdout",
       "text": [
        "\n",
        "0.977355695027\n",
        "0.977355170269"
       ]
      },
      {
       "output_type": "stream",
       "stream": "stdout",
       "text": [
        "\n",
        "0.977320764555\n",
        "0.977317003027"
       ]
      },
      {
       "output_type": "stream",
       "stream": "stdout",
       "text": [
        "\n",
        "0.977311304154\n",
        "0.977304373699"
       ]
      },
      {
       "output_type": "stream",
       "stream": "stdout",
       "text": [
        "\n",
        "0.977303328982\n",
        "0.977295983487"
       ]
      },
      {
       "output_type": "stream",
       "stream": "stdout",
       "text": [
        "\n",
        "0.977295621642\n",
        "0.977288406236"
       ]
      },
      {
       "output_type": "stream",
       "stream": "stdout",
       "text": [
        "\n",
        "0.977288082227\n",
        "0.977287838176"
       ]
      },
      {
       "output_type": "stream",
       "stream": "stdout",
       "text": [
        "\n",
        "0.977286481384\n",
        "0.97728486077"
       ]
      },
      {
       "output_type": "stream",
       "stream": "stdout",
       "text": [
        "\n",
        "0.977283778453\n",
        "0.97728219404"
       ]
      },
      {
       "output_type": "stream",
       "stream": "stdout",
       "text": [
        "\n",
        "0.977282072119\n",
        "0.977281690898"
       ]
      },
      {
       "output_type": "stream",
       "stream": "stdout",
       "text": [
        "\n",
        "0.97728064837\n",
        "0.97728018804"
       ]
      },
      {
       "output_type": "stream",
       "stream": "stdout",
       "text": [
        "\n",
        "0.977279627854\n",
        "0.977278867227"
       ]
      },
      {
       "output_type": "stream",
       "stream": "stdout",
       "text": [
        "\n",
        "0.977278541084\n",
        "0.977274159465"
       ]
      },
      {
       "output_type": "stream",
       "stream": "stdout",
       "text": [
        "\n",
        "0.977274104563\n",
        "0.977274034959"
       ]
      },
      {
       "output_type": "stream",
       "stream": "stdout",
       "text": [
        "\n",
        "0.977273987702\n",
        "0.977273740731"
       ]
      },
      {
       "output_type": "stream",
       "stream": "stdout",
       "text": [
        "\n",
        "0.977245431737\n",
        "0.977244102052"
       ]
      },
      {
       "output_type": "stream",
       "stream": "stdout",
       "text": [
        "\n",
        "0.977244042244\n",
        "0.977243916578"
       ]
      },
      {
       "output_type": "stream",
       "stream": "stdout",
       "text": [
        "\n",
        "0.977235375662\n",
        "0.977235244715"
       ]
      },
      {
       "output_type": "stream",
       "stream": "stdout",
       "text": [
        "\n",
        "0.977232182779\n",
        "0.977229788692"
       ]
      },
      {
       "output_type": "stream",
       "stream": "stdout",
       "text": [
        "\n",
        "0.977226294987\n",
        "0.977225399277"
       ]
      },
      {
       "output_type": "stream",
       "stream": "stdout",
       "text": [
        "\n",
        "0.977217499057\n",
        "0.977205174797"
       ]
      },
      {
       "output_type": "stream",
       "stream": "stdout",
       "text": [
        "\n",
        "0.977200031833\n",
        "0.977196041174"
       ]
      },
      {
       "output_type": "stream",
       "stream": "stdout",
       "text": [
        "\n",
        "0.977195528313\n",
        "0.977188416345"
       ]
      },
      {
       "output_type": "stream",
       "stream": "stdout",
       "text": [
        "\n",
        "0.977188276346\n",
        "0.977180782705"
       ]
      },
      {
       "output_type": "stream",
       "stream": "stdout",
       "text": [
        "\n",
        "0.977180731761\n",
        "0.977177505518"
       ]
      },
      {
       "output_type": "stream",
       "stream": "stdout",
       "text": [
        "\n",
        "0.977177414179\n",
        "0.977174977153"
       ]
      },
      {
       "output_type": "stream",
       "stream": "stdout",
       "text": [
        "\n",
        "0.977163092419\n",
        "0.977135899924"
       ]
      },
      {
       "output_type": "stream",
       "stream": "stdout",
       "text": [
        "\n",
        "0.977135876255"
       ]
      },
      {
       "output_type": "stream",
       "stream": "stdout",
       "text": [
        "\n",
        "0.97713312353\n",
        "0.977132582563"
       ]
      },
      {
       "output_type": "stream",
       "stream": "stdout",
       "text": [
        "\n",
        "0.977131619605\n",
        "0.977131245025"
       ]
      },
      {
       "output_type": "stream",
       "stream": "stdout",
       "text": [
        "\n",
        "0.977127748489\n",
        "0.977113783551"
       ]
      },
      {
       "output_type": "stream",
       "stream": "stdout",
       "text": [
        "\n",
        "0.977113751675\n",
        "0.977107693735"
       ]
      },
      {
       "output_type": "stream",
       "stream": "stdout",
       "text": [
        "\n",
        "0.977107585553\n",
        "0.977102787787"
       ]
      },
      {
       "output_type": "stream",
       "stream": "stdout",
       "text": [
        "\n",
        "0.977100949151\n",
        "0.977088388658"
       ]
      },
      {
       "output_type": "stream",
       "stream": "stdout",
       "text": [
        "\n",
        "0.977088158466\n",
        "0.97708550096"
       ]
      },
      {
       "output_type": "stream",
       "stream": "stdout",
       "text": [
        "\n",
        "0.977070380404\n",
        "0.97706832282"
       ]
      },
      {
       "output_type": "stream",
       "stream": "stdout",
       "text": [
        "\n",
        "0.977062657427\n",
        "0.977061189564"
       ]
      },
      {
       "output_type": "stream",
       "stream": "stdout",
       "text": [
        "\n",
        "0.977048772178\n",
        "0.977047853622"
       ]
      },
      {
       "output_type": "stream",
       "stream": "stdout",
       "text": [
        "\n",
        "0.977046664348\n",
        "0.977042967461"
       ]
      },
      {
       "output_type": "stream",
       "stream": "stdout",
       "text": [
        "\n",
        "0.977038404472\n",
        "0.977028401657"
       ]
      },
      {
       "output_type": "stream",
       "stream": "stdout",
       "text": [
        "\n",
        "0.977028292431\n",
        "0.977024925437"
       ]
      },
      {
       "output_type": "stream",
       "stream": "stdout",
       "text": [
        "\n",
        "0.977024905627\n",
        "0.977023822047"
       ]
      },
      {
       "output_type": "stream",
       "stream": "stdout",
       "text": [
        "\n",
        "0.9770236031\n",
        "0.977017897348"
       ]
      },
      {
       "output_type": "stream",
       "stream": "stdout",
       "text": [
        "\n",
        "0.977017336158\n",
        "0.977011404042"
       ]
      },
      {
       "output_type": "stream",
       "stream": "stdout",
       "text": [
        "\n",
        "0.977006181891\n",
        "0.977003859029"
       ]
      },
      {
       "output_type": "stream",
       "stream": "stdout",
       "text": [
        "\n",
        "0.977003799417\n",
        "0.977003795433"
       ]
      },
      {
       "output_type": "stream",
       "stream": "stdout",
       "text": [
        "\n",
        "0.976995442701\n",
        "0.976992110281"
       ]
      },
      {
       "output_type": "stream",
       "stream": "stdout",
       "text": [
        "\n",
        "0.97698864763\n",
        "0.976980747975"
       ]
      },
      {
       "output_type": "stream",
       "stream": "stdout",
       "text": [
        "\n",
        "0.976980438885\n",
        "0.976974266839"
       ]
      },
      {
       "output_type": "stream",
       "stream": "stdout",
       "text": [
        "\n",
        "0.976969009314\n",
        "0.976965646816"
       ]
      },
      {
       "output_type": "stream",
       "stream": "stdout",
       "text": [
        "\n",
        "0.976956490171\n",
        "0.976952800544"
       ]
      },
      {
       "output_type": "stream",
       "stream": "stdout",
       "text": [
        "\n",
        "0.976949546864\n",
        "0.976949522496"
       ]
      },
      {
       "output_type": "stream",
       "stream": "stdout",
       "text": [
        "\n",
        "0.976942293297\n",
        "0.976941468586"
       ]
      },
      {
       "output_type": "stream",
       "stream": "stdout",
       "text": [
        "\n",
        "0.976936388797\n",
        "0.976935627866"
       ]
      },
      {
       "output_type": "stream",
       "stream": "stdout",
       "text": [
        "\n",
        "0.976932663118\n",
        "0.976932583359"
       ]
      },
      {
       "output_type": "stream",
       "stream": "stdout",
       "text": [
        "\n",
        "0.976929461275\n",
        "0.976927900263"
       ]
      },
      {
       "output_type": "stream",
       "stream": "stdout",
       "text": [
        "\n",
        "0.976925571385\n",
        "0.976909850656"
       ]
      },
      {
       "output_type": "stream",
       "stream": "stdout",
       "text": [
        "\n",
        "0.976908571047"
       ]
      },
      {
       "output_type": "stream",
       "stream": "stdout",
       "text": [
        "\n",
        "0.976903172106"
       ]
      },
      {
       "output_type": "stream",
       "stream": "stdout",
       "text": [
        "\n",
        "0.97689772319"
       ]
      },
      {
       "output_type": "stream",
       "stream": "stdout",
       "text": [
        "\n",
        "0.976896064119"
       ]
      },
      {
       "output_type": "stream",
       "stream": "stdout",
       "text": [
        "\n",
        "0.976895690161"
       ]
      },
      {
       "output_type": "stream",
       "stream": "stdout",
       "text": [
        "\n",
        "0.976895689421"
       ]
      },
      {
       "output_type": "stream",
       "stream": "stdout",
       "text": [
        "\n",
        "0.976888217795"
       ]
      },
      {
       "output_type": "stream",
       "stream": "stdout",
       "text": [
        "\n",
        "0.976880440159"
       ]
      },
      {
       "output_type": "stream",
       "stream": "stdout",
       "text": [
        "\n",
        "0.976879933896"
       ]
      },
      {
       "output_type": "stream",
       "stream": "stdout",
       "text": [
        "\n",
        "0.976879718401"
       ]
      },
      {
       "output_type": "stream",
       "stream": "stdout",
       "text": [
        "\n",
        "0.976873768149"
       ]
      },
      {
       "output_type": "stream",
       "stream": "stdout",
       "text": [
        "\n",
        "0.97686447563"
       ]
      },
      {
       "output_type": "stream",
       "stream": "stdout",
       "text": [
        "\n",
        "0.976864183644"
       ]
      },
      {
       "output_type": "stream",
       "stream": "stdout",
       "text": [
        "\n",
        "0.976863967161"
       ]
      },
      {
       "output_type": "stream",
       "stream": "stdout",
       "text": [
        "\n",
        "0.976863486119"
       ]
      },
      {
       "output_type": "stream",
       "stream": "stdout",
       "text": [
        "\n",
        "0.976863450757"
       ]
      },
      {
       "output_type": "stream",
       "stream": "stdout",
       "text": [
        "\n",
        "0.976863032877"
       ]
      },
      {
       "output_type": "stream",
       "stream": "stdout",
       "text": [
        "\n",
        "0.976862879442"
       ]
      },
      {
       "output_type": "stream",
       "stream": "stdout",
       "text": [
        "\n",
        "0.976860408587"
       ]
      },
      {
       "output_type": "stream",
       "stream": "stdout",
       "text": [
        "\n",
        "0.976859629508"
       ]
      },
      {
       "output_type": "stream",
       "stream": "stdout",
       "text": [
        "\n",
        "0.976843918822"
       ]
      },
      {
       "output_type": "stream",
       "stream": "stdout",
       "text": [
        "\n",
        "0.976843907916"
       ]
      },
      {
       "output_type": "stream",
       "stream": "stdout",
       "text": [
        "\n",
        "0.976840708705"
       ]
      },
      {
       "output_type": "stream",
       "stream": "stdout",
       "text": [
        "\n",
        "0.976837508166"
       ]
      },
      {
       "output_type": "stream",
       "stream": "stdout",
       "text": [
        "\n",
        "0.976834867815"
       ]
      },
      {
       "output_type": "stream",
       "stream": "stdout",
       "text": [
        "\n",
        "0.976790228023"
       ]
      },
      {
       "output_type": "stream",
       "stream": "stdout",
       "text": [
        "\n",
        "0.976790203266"
       ]
      },
      {
       "output_type": "stream",
       "stream": "stdout",
       "text": [
        "\n",
        "0.976788011669"
       ]
      },
      {
       "output_type": "stream",
       "stream": "stdout",
       "text": [
        "\n",
        "0.97678335556"
       ]
      },
      {
       "output_type": "stream",
       "stream": "stdout",
       "text": [
        "\n",
        "0.976778956953"
       ]
      },
      {
       "output_type": "stream",
       "stream": "stdout",
       "text": [
        "\n",
        "0.976777538978"
       ]
      },
      {
       "output_type": "stream",
       "stream": "stdout",
       "text": [
        "\n",
        "0.976777286436"
       ]
      },
      {
       "output_type": "stream",
       "stream": "stdout",
       "text": [
        "\n",
        "0.976753357053"
       ]
      },
      {
       "output_type": "stream",
       "stream": "stdout",
       "text": [
        "\n",
        "0.976747137279"
       ]
      },
      {
       "output_type": "stream",
       "stream": "stdout",
       "text": [
        "\n",
        "0.97674687898"
       ]
      },
      {
       "output_type": "stream",
       "stream": "stdout",
       "text": [
        "\n",
        "0.976746867917"
       ]
      },
      {
       "output_type": "stream",
       "stream": "stdout",
       "text": [
        "\n",
        "0.97674404709"
       ]
      },
      {
       "output_type": "stream",
       "stream": "stdout",
       "text": [
        "\n",
        "0.976740380429"
       ]
      },
      {
       "output_type": "stream",
       "stream": "stdout",
       "text": [
        "\n",
        "0.976740357454"
       ]
      },
      {
       "output_type": "stream",
       "stream": "stdout",
       "text": [
        "\n",
        "0.976736618735"
       ]
      },
      {
       "output_type": "stream",
       "stream": "stdout",
       "text": [
        "\n",
        "0.97673648485"
       ]
      },
      {
       "output_type": "stream",
       "stream": "stdout",
       "text": [
        "\n",
        "0.976731924779"
       ]
      },
      {
       "output_type": "stream",
       "stream": "stdout",
       "text": [
        "\n",
        "0.976731923725"
       ]
      },
      {
       "output_type": "stream",
       "stream": "stdout",
       "text": [
        "\n",
        "0.976727000826"
       ]
      },
      {
       "output_type": "stream",
       "stream": "stdout",
       "text": [
        "\n",
        "0.976726538275"
       ]
      },
      {
       "output_type": "stream",
       "stream": "stdout",
       "text": [
        "\n",
        "0.976724408361"
       ]
      },
      {
       "output_type": "stream",
       "stream": "stdout",
       "text": [
        "\n",
        "0.976721062628"
       ]
      },
      {
       "output_type": "stream",
       "stream": "stdout",
       "text": [
        "\n",
        "0.976718656001"
       ]
      },
      {
       "output_type": "stream",
       "stream": "stdout",
       "text": [
        "\n",
        "0.976718501662"
       ]
      },
      {
       "output_type": "stream",
       "stream": "stdout",
       "text": [
        "\n",
        "0.976718312503"
       ]
      },
      {
       "output_type": "stream",
       "stream": "stdout",
       "text": [
        "\n",
        "0.976710176228"
       ]
      },
      {
       "output_type": "stream",
       "stream": "stdout",
       "text": [
        "\n",
        "0.976707215901"
       ]
      },
      {
       "output_type": "stream",
       "stream": "stdout",
       "text": [
        "\n",
        "0.976706822785"
       ]
      },
      {
       "output_type": "stream",
       "stream": "stdout",
       "text": [
        "\n",
        "0.97670485161"
       ]
      },
      {
       "output_type": "stream",
       "stream": "stdout",
       "text": [
        "\n",
        "0.976704850807"
       ]
      },
      {
       "output_type": "stream",
       "stream": "stdout",
       "text": [
        "\n",
        "0.976702153486"
       ]
      },
      {
       "output_type": "stream",
       "stream": "stdout",
       "text": [
        "\n",
        "0.976693806727"
       ]
      },
      {
       "output_type": "stream",
       "stream": "stdout",
       "text": [
        "\n",
        "0.97669368532"
       ]
      },
      {
       "output_type": "stream",
       "stream": "stdout",
       "text": [
        "\n",
        "0.97668801115"
       ]
      },
      {
       "output_type": "stream",
       "stream": "stdout",
       "text": [
        "\n",
        "0.976681644804"
       ]
      },
      {
       "output_type": "stream",
       "stream": "stdout",
       "text": [
        "\n",
        "0.976681642953"
       ]
      },
      {
       "output_type": "stream",
       "stream": "stdout",
       "text": [
        "\n",
        "0.976681348586"
       ]
      },
      {
       "output_type": "stream",
       "stream": "stdout",
       "text": [
        "\n",
        "0.976679053917"
       ]
      },
      {
       "output_type": "stream",
       "stream": "stdout",
       "text": [
        "\n",
        "0.976674817405"
       ]
      },
      {
       "output_type": "stream",
       "stream": "stdout",
       "text": [
        "\n",
        "0.976668823707"
       ]
      },
      {
       "output_type": "stream",
       "stream": "stdout",
       "text": [
        "\n",
        "0.976667635851"
       ]
      },
      {
       "output_type": "stream",
       "stream": "stdout",
       "text": [
        "\n",
        "0.976667532431"
       ]
      },
      {
       "output_type": "stream",
       "stream": "stdout",
       "text": [
        "\n",
        "0.976665457124"
       ]
      },
      {
       "output_type": "stream",
       "stream": "stdout",
       "text": [
        "\n",
        "0.976662789237"
       ]
      },
      {
       "output_type": "stream",
       "stream": "stdout",
       "text": [
        "\n",
        "0.976661493287"
       ]
      },
      {
       "output_type": "stream",
       "stream": "stdout",
       "text": [
        "\n",
        "Number of iterations: 1000 Total time: 31.8616719246\n"
       ]
      }
     ],
     "prompt_number": 61
    },
    {
     "cell_type": "heading",
     "level": 3,
     "metadata": {},
     "source": [
      "Reshuffle solution"
     ]
    },
    {
     "cell_type": "code",
     "collapsed": false,
     "input": [
      "#\n",
      "tree = surf.factor.col_tree\n",
      "size = tree.level[-1]\n",
      "ind = tree.index\n",
      "\n",
      "it_sol = np.zeros(N,dtype = tmp_s.dtype)\n",
      "tmp_s = tmp_s[:N]\n",
      "\n",
      "p = 0\n",
      "for j in xrange(size):\n",
      "            if len(tree.child[j]) is 0:\n",
      "                tmp = tmp_s[p:p + len(ind[j])]\n",
      "                for i in xrange(len(ind[j])):\n",
      "                    it_sol[ind[j][i]] = tmp[i]\n",
      "                p += len(ind[j])"
     ],
     "language": "python",
     "metadata": {
      "code_folding": [
       0
      ]
     },
     "outputs": [],
     "prompt_number": 20
    },
    {
     "cell_type": "code",
     "collapsed": false,
     "input": [
      "print np.linalg.norm(sol - it_sol) / np.linalg.norm(sol),np.linalg.norm(it_sol),errr"
     ],
     "language": "python",
     "metadata": {},
     "outputs": [
      {
       "output_type": "stream",
       "stream": "stdout",
       "text": [
        "1.0 0.0 1000\n"
       ]
      }
     ],
     "prompt_number": 21
    },
    {
     "cell_type": "heading",
     "level": 2,
     "metadata": {},
     "source": [
      "GMRES, SE matvec, Block  or ILU(SE) preconditioner"
     ]
    },
    {
     "cell_type": "heading",
     "level": 3,
     "metadata": {},
     "source": [
      "Building Block and ILU(SE) preconditioners"
     ]
    },
    {
     "cell_type": "code",
     "collapsed": false,
     "input": [
      "#\n",
      "print hyp(surf,1)\n",
      "block_prec = sp.sparse.csc_matrix(surf.hyper.T)\n",
      "full_prec = sp.sparse.csc_matrix(SE)"
     ],
     "language": "python",
     "metadata": {
      "code_folding": [
       0
      ]
     },
     "outputs": [
      {
       "output_type": "stream",
       "stream": "stdout",
       "text": [
        "Size of original matrix:  (10604, 10604)\n",
        "Size of block preconditioner:  (42442, 42442)\n",
        "B time"
       ]
      },
      {
       "output_type": "stream",
       "stream": "stdout",
       "text": [
        " 0.17787694931\n",
        "I time 0.0311000347137\n",
        "A time"
       ]
      },
      {
       "output_type": "stream",
       "stream": "stdout",
       "text": [
        " 0.154713869095\n",
        "C time"
       ]
      },
      {
       "output_type": "stream",
       "stream": "stdout",
       "text": [
        " 0.935595989227\n",
        "I time 0.0313539505005\n",
        "Total time"
       ]
      },
      {
       "output_type": "stream",
       "stream": "stdout",
       "text": [
        " 1.3743698597\n",
        "Perconditioner built\n"
       ]
      }
     ],
     "prompt_number": 62
    },
    {
     "cell_type": "code",
     "collapsed": false,
     "input": [
      "plt.spy(block_prec, markersize=2, precision=0, color = 'green')"
     ],
     "language": "python",
     "metadata": {},
     "outputs": [
      {
       "metadata": {},
       "output_type": "pyout",
       "prompt_number": 23,
       "text": [
        "<matplotlib.lines.Line2D at 0x7ff6df60e9d0>"
       ]
      },
      {
       "metadata": {},
       "output_type": "display_data",
       "png": "[encoded data removed]",
       "text": [
        "<matplotlib.figure.Figure at 0x7ff6dc011d50>"
       ]
      }
     ],
     "prompt_number": 23
    },
    {
     "cell_type": "heading",
     "level": 3,
     "metadata": {},
     "source": [
      "Shuffle right hand side"
     ]
    },
    {
     "cell_type": "code",
     "collapsed": false,
     "input": [
      "#\n",
      "p = 0\n",
      "shuffle_rh = copy.deepcopy(rh)\n",
      "for i in surf.row_l_list:\n",
      "    if surf.factor.row_coef[i].shape[0] == 0:\n",
      "        for j in xrange(surf.factor.row_coef[i].shape[1]):\n",
      "            shuffle_rh[p] =  rh[surf.factor.row_tree.index[i][j]] \n",
      "            p+=1\n",
      "    else:\n",
      "        for j in xrange(surf.factor.row_coef[i].shape[0]):\n",
      "            shuffle_rh[p] =  rh[surf.factor.row_tree.index[i][j]] \n",
      "            p+=1\n",
      "            \n",
      "big_rh = np.concatenate((shuffle_rh,np.zeros((SE.shape[0]-shuffle_rh.shape[0])))) "
     ],
     "language": "python",
     "metadata": {
      "code_folding": [
       0
      ]
     },
     "outputs": [],
     "prompt_number": 24
    },
    {
     "cell_type": "heading",
     "level": 3,
     "metadata": {},
     "source": [
      "GMRES iterations"
     ]
    },
    {
     "cell_type": "code",
     "collapsed": false,
     "input": [
      "#\n",
      "res = []\n",
      "t = []\n",
      "\n",
      "it_sol = np.zeros(N)\n",
      "\n",
      "### For ILU(SE) ###\n",
      "#prec_ILU = sp.sparse.linalg.spilu(full_prec, drop_tol=1e-2, fill_factor=10, drop_rule=None, permc_spec=None, diag_pivot_thresh=None, relax=None, panel_size=None, options=None)\n",
      "\n",
      "\n",
      "### For Block ###\n",
      "prec_ILU = sp.sparse.linalg.spilu(block_prec, drop_tol=1e-2, fill_factor=10, drop_rule=None, permc_spec=None, diag_pivot_thresh=None, relax=None, panel_size=None, options=None)\n",
      "\n",
      "\n",
      "\n",
      "def simple_print(r):\n",
      "    print np.linalg.norm(r)\n",
      "    res.append(r)\n",
      "    t.append(time()-t0)\n",
      "\n",
      "def prec(v):\n",
      "    return prec_ILU.solve(v)  \n",
      "    \n",
      "def dot_fun(v):\n",
      "    return SE.dot(v)\n",
      "\n",
      "lo_dot = sp.sparse.linalg.LinearOperator((N_SE,N_SE), dot_fun, dtype=float )\n",
      "lo_prec = sp.sparse.linalg.LinearOperator((N_SE,N_SE), prec ,dtype=float)\n",
      "\n",
      "b = big_rh\n",
      "x0 = np.zeros(N_SE, dtype=float)\n",
      "\n",
      "t0 = time() \n",
      "\n",
      "tmp_s, errr = gmres(lo_dot, b, x0, tol=1e-6, restart=5000, maxiter=5000, xtype=0, M=lo_prec, callback=simple_print)\n",
      "print \"Number of iterations:\", len(t), \"Total time:\", time() - t0\n",
      "\n",
      "\n",
      "### For ILU(SE) ###\n",
      "#resSE2 = np.array(res)\n",
      "#tSE2 = np.array(t)\n",
      "\n",
      "\n",
      "### For Block ###\n",
      "resSE1 = np.array(res)\n",
      "tSE1 = np.array(t)"
     ],
     "language": "python",
     "metadata": {
      "code_folding": [
       0
      ]
     },
     "outputs": [
      {
       "output_type": "stream",
       "stream": "stdout",
       "text": [
        "0.988652887812\n",
        "0.522150048635\n",
        "0.358369988257\n",
        "0.211334138982\n",
        "0.116151616337\n",
        "0.0950367756615\n",
        "0.0571945917193\n",
        "0.0431469974258\n",
        "0.0315894288762\n",
        "0.0233514656396"
       ]
      },
      {
       "output_type": "stream",
       "stream": "stdout",
       "text": [
        "\n",
        "0.0185607455401\n",
        "0.0137083518188\n",
        "0.0112487870496\n",
        "0.00800380929663\n",
        "0.00689258109081\n",
        "0.00526633135086\n",
        "0.00458496951118\n",
        "0.00349300015974"
       ]
      },
      {
       "output_type": "stream",
       "stream": "stdout",
       "text": [
        "\n",
        "0.00304131761523\n",
        "0.00258167412575\n",
        "0.00229050843963\n",
        "0.00195307360027\n",
        "0.00166285871139\n",
        "0.00147568027514\n",
        "0.00129776935348\n",
        "0.00116530196197"
       ]
      },
      {
       "output_type": "stream",
       "stream": "stdout",
       "text": [
        "\n",
        "0.00100870748148\n",
        "0.000953170379472\n",
        "0.000821359346786\n",
        "0.00076426544451\n",
        "0.000675428887117\n",
        "0.000603887781165\n",
        "0.000562332292886"
       ]
      },
      {
       "output_type": "stream",
       "stream": "stdout",
       "text": [
        "\n",
        "0.000501658277297\n",
        "0.000473974705261\n",
        "0.000419097297029\n",
        "0.000397829687672\n",
        "0.000359662976316\n",
        "0.000333340016471\n",
        "0.000306883076631"
       ]
      },
      {
       "output_type": "stream",
       "stream": "stdout",
       "text": [
        "\n",
        "0.000275306527238\n",
        "0.000265046019646\n",
        "0.000238208869879\n",
        "0.000226773853023\n",
        "0.000207327088603\n",
        "0.000193140754383\n",
        "0.000183044656428"
       ]
      },
      {
       "output_type": "stream",
       "stream": "stdout",
       "text": [
        "\n",
        "0.000171798918367\n",
        "0.000162594560397\n",
        "0.000147684172452\n",
        "0.000142996754128\n",
        "0.000130739088344\n",
        "0.000124735306413\n",
        "0.000114492968769"
       ]
      },
      {
       "output_type": "stream",
       "stream": "stdout",
       "text": [
        "\n",
        "0.000105504692627\n",
        "9.92642725831e-05\n",
        "9.01858772008e-05\n",
        "8.59563676694e-05\n",
        "7.65839761968e-05\n",
        "7.26216629126e-05\n",
        "6.53718845815e-05"
       ]
      },
      {
       "output_type": "stream",
       "stream": "stdout",
       "text": [
        "\n",
        "6.03711388434e-05\n",
        "5.56037910272e-05\n",
        "5.0332403795e-05\n",
        "4.7934711562e-05\n",
        "4.37122561545e-05\n",
        "4.23181682925e-05\n",
        "3.90652395843e-05"
       ]
      },
      {
       "output_type": "stream",
       "stream": "stdout",
       "text": [
        "\n",
        "3.71517190547e-05\n",
        "3.49078865688e-05\n",
        "3.24772020352e-05\n",
        "3.12641637968e-05\n",
        "2.86714801643e-05\n",
        "2.75416997406e-05"
       ]
      },
      {
       "output_type": "stream",
       "stream": "stdout",
       "text": [
        "\n",
        "2.52622548792e-05\n",
        "2.38412810906e-05\n",
        "2.22449077762e-05\n",
        "2.05440662411e-05\n",
        "1.98973564754e-05\n",
        "1.85331077322e-05"
       ]
      },
      {
       "output_type": "stream",
       "stream": "stdout",
       "text": [
        "\n",
        "1.80030288339e-05\n",
        "1.68871036718e-05\n",
        "1.61019117095e-05\n",
        "1.54560724422e-05\n",
        "1.4593252564e-05\n",
        "1.41425344454e-05"
       ]
      },
      {
       "output_type": "stream",
       "stream": "stdout",
       "text": [
        "\n",
        "1.3306016134e-05\n",
        "1.29194807914e-05\n",
        "1.22564640365e-05\n",
        "1.18287598515e-05\n",
        "1.14405654698e-05\n",
        "1.09785453976e-05"
       ]
      },
      {
       "output_type": "stream",
       "stream": "stdout",
       "text": [
        "\n",
        "1.07893949434e-05\n",
        "1.042403796e-05\n",
        "1.02895476684e-05\n",
        "1.00185008975e-05\n",
        "9.79132802218e-06\n",
        "9.61124990665e-06"
       ]
      },
      {
       "output_type": "stream",
       "stream": "stdout",
       "text": [
        "\n",
        "9.28894165089e-06\n",
        "9.15596580532e-06\n",
        "8.82523382528e-06\n",
        "8.67467955193e-06\n",
        "8.40355119723e-06\n",
        "8.19419115429e-06"
       ]
      },
      {
       "output_type": "stream",
       "stream": "stdout",
       "text": [
        "\n",
        "8.06265172578e-06\n",
        "7.86651627771e-06\n",
        "7.78320516223e-06\n",
        "7.56473808966e-06\n",
        "7.47075686622e-06\n",
        "7.29821376791e-06"
       ]
      },
      {
       "output_type": "stream",
       "stream": "stdout",
       "text": [
        "\n",
        "7.13431436716e-06\n",
        "7.02037416126e-06\n",
        "6.82744282773e-06\n",
        "6.75556407898e-06\n",
        "6.56559943389e-06\n",
        "6.46122459299e-06"
       ]
      },
      {
       "output_type": "stream",
       "stream": "stdout",
       "text": [
        "\n",
        "6.32742461722e-06\n",
        "6.18445852178e-06\n",
        "6.11357564946e-06\n",
        "5.9666611639e-06\n",
        "5.90765636028e-06\n",
        "5.74664754396e-06"
       ]
      },
      {
       "output_type": "stream",
       "stream": "stdout",
       "text": [
        "\n",
        "5.6090981468e-06\n",
        "5.4868321648e-06\n",
        "5.25996159949e-06\n",
        "5.16733422944e-06\n",
        "4.89758791988e-06\n",
        "4.75089403159e-06"
       ]
      },
      {
       "output_type": "stream",
       "stream": "stdout",
       "text": [
        "\n",
        "4.50492065785e-06\n",
        "4.24147170611e-06\n",
        "4.09473104199e-06\n",
        "3.80108243932e-06\n",
        "3.68636598841e-06\n",
        "3.43194442552e-06"
       ]
      },
      {
       "output_type": "stream",
       "stream": "stdout",
       "text": [
        "\n",
        "3.28292879413e-06\n",
        "3.1279741391e-06\n",
        "2.92358664204e-06\n",
        "2.8437167546e-06\n",
        "2.63266854207e-06\n",
        "2.54871449326e-06"
       ]
      },
      {
       "output_type": "stream",
       "stream": "stdout",
       "text": [
        "\n",
        "2.37425594361e-06\n",
        "2.23018503735e-06\n",
        "2.12448670192e-06\n",
        "1.95074462634e-06\n",
        "1.89161656142e-06\n",
        "1.75320507736e-06"
       ]
      },
      {
       "output_type": "stream",
       "stream": "stdout",
       "text": [
        "\n",
        "1.68001631062e-06\n",
        "1.59402094175e-06\n",
        "1.49823680433e-06\n",
        "1.45799705917e-06\n",
        "1.35026819525e-06"
       ]
      },
      {
       "output_type": "stream",
       "stream": "stdout",
       "text": [
        "\n",
        "1.31163001179e-06\n",
        "1.20288466029e-06\n",
        "1.1230781151e-06\n",
        "1.0652838043e-06\n",
        "9.62959690116e-07\n",
        "Number of iterations: 156 Total time: 1.32227802277\n"
       ]
      }
     ],
     "prompt_number": 25
    },
    {
     "cell_type": "heading",
     "level": 3,
     "metadata": {},
     "source": [
      "Reshuffle solution"
     ]
    },
    {
     "cell_type": "code",
     "collapsed": false,
     "input": [
      "#\n",
      "tree = surf.factor.col_tree\n",
      "size = tree.level[-1]\n",
      "ind = tree.index\n",
      "\n",
      "it_sol = np.zeros(N,dtype = tmp_s.dtype)\n",
      "tmp_s = tmp_s[:N]\n",
      "\n",
      "p = 0\n",
      "for j in xrange(size):\n",
      "            if len(tree.child[j]) is 0:\n",
      "                tmp = tmp_s[p:p + len(ind[j])]\n",
      "                for i in xrange(len(ind[j])):\n",
      "                    it_sol[ind[j][i]] = tmp[i]\n",
      "                p += len(ind[j])"
     ],
     "language": "python",
     "metadata": {
      "code_folding": [
       0
      ]
     },
     "outputs": [],
     "prompt_number": 26
    },
    {
     "cell_type": "code",
     "collapsed": false,
     "input": [
      "print np.linalg.norm(sol - it_sol) / np.linalg.norm(sol), np.linalg.norm(it_sol), errr"
     ],
     "language": "python",
     "metadata": {},
     "outputs": [
      {
       "output_type": "stream",
       "stream": "stdout",
       "text": [
        "0.00017424022777 44.5585436573 0\n"
       ]
      }
     ],
     "prompt_number": 27
    },
    {
     "cell_type": "heading",
     "level": 2,
     "metadata": {},
     "source": [
      "GMRES, $H^2$ matvec, block or ILU(SE) prec"
     ]
    },
    {
     "cell_type": "heading",
     "level": 3,
     "metadata": {},
     "source": [
      "Building Block and ILU(SE) precondinioners:"
     ]
    },
    {
     "cell_type": "code",
     "collapsed": false,
     "input": [
      "#\n",
      "print hyp(surf,1)\n",
      "block_prec = sp.sparse.csc_matrix(surf.hyper.T)\n",
      "full_prec = sp.sparse.csc_matrix(SE)"
     ],
     "language": "python",
     "metadata": {
      "code_folding": []
     },
     "outputs": [
      {
       "output_type": "stream",
       "stream": "stdout",
       "text": [
        "Size of original matrix:  (5932, 5932)\n",
        "Size of block preconditioner:  (24492, 24492)\n",
        "B time"
       ]
      },
      {
       "output_type": "stream",
       "stream": "stdout",
       "text": [
        " 0.0910868644714\n",
        "I time 0.0184769630432\n",
        "A time"
       ]
      },
      {
       "output_type": "stream",
       "stream": "stdout",
       "text": [
        " 0.0809910297394\n",
        "C time"
       ]
      },
      {
       "output_type": "stream",
       "stream": "stdout",
       "text": [
        " 0.418724060059\n",
        "I time 0.0184659957886\n",
        "Total time 0.652030944824\n",
        "Perconditioner built\n"
       ]
      }
     ],
     "prompt_number": 28
    },
    {
     "cell_type": "code",
     "collapsed": false,
     "input": [
      "plt.spy(block_prec, markersize=2, precision=0, color = 'green')"
     ],
     "language": "python",
     "metadata": {},
     "outputs": [
      {
       "metadata": {},
       "output_type": "pyout",
       "prompt_number": 29,
       "text": [
        "<matplotlib.lines.Line2D at 0x7ff6db351b50>"
       ]
      },
      {
       "metadata": {},
       "output_type": "display_data",
       "png": "[encoded data removed]",
       "text": [
        "<matplotlib.figure.Figure at 0x7ff6d8f61e90>"
       ]
      }
     ],
     "prompt_number": 29
    },
    {
     "cell_type": "heading",
     "level": 3,
     "metadata": {},
     "source": [
      "GMRES iterations (shuffled inside)"
     ]
    },
    {
     "cell_type": "code",
     "collapsed": false,
     "input": [
      "#\n",
      "tree = surf.factor.col_tree\n",
      "size = tree.level[-1]\n",
      "ind = tree.index\n",
      "\n",
      "res = []\n",
      "t = []\n",
      "\n",
      "#it_sol = np.zeros(N)\n",
      "### For ILU(SE) ###\n",
      "t0 = time()\n",
      "prec_ILU = sp.sparse.linalg.spilu(full_prec, drop_tol=1e-2, fill_factor=10, drop_rule=None, permc_spec=None, diag_pivot_thresh=None, relax=None, panel_size=None, options=None)\n",
      "\n",
      "\n",
      "\n",
      "### For Block ###\n",
      "\n",
      "#prec_ILU = sp.sparse.linalg.spilu(block_prec, drop_tol=0.2, fill_factor=10, drop_rule=None, permc_spec=None, diag_pivot_thresh=None, relax=None, panel_size=None, options=None)\n",
      "print 'ILU time:', time() - t0\n",
      "\n",
      "\n",
      "def simple_print(r):\n",
      "    print np.linalg.norm(r)\n",
      "    res.append(r)\n",
      "    t.append(time()-t0)\n",
      "    \n",
      "    \n",
      "def prec(v):\n",
      "    p = 0\n",
      "    vec = copy.deepcopy(v)\n",
      "    for i in surf.row_l_list:\n",
      "        if surf.factor.row_coef[i].shape[0] == 0:\n",
      "            for j in xrange(surf.factor.row_coef[i].shape[1]):\n",
      "                vec[p] =  v[surf.factor.row_tree.index[i][j]] \n",
      "                p+=1\n",
      "        else:\n",
      "            for j in xrange(surf.factor.row_coef[i].shape[0]):\n",
      "                vec[p] =  v[surf.factor.row_tree.index[i][j]] \n",
      "                p+=1\n",
      "            \n",
      "    vec = np.concatenate((vec,np.zeros((SE.shape[0]-vec.shape[0])))) \n",
      "    \n",
      "    tmp_s = prec_ILU.solve(vec)\n",
      "   \n",
      "\n",
      "    ans = np.zeros(N,dtype = v.dtype)\n",
      "    tmp_s = tmp_s[:N]\n",
      "\n",
      "    p = 0\n",
      "    for j in xrange(size):\n",
      "                if len(tree.child[j]) is 0:\n",
      "                    tmp = tmp_s[p:p + len(ind[j])]\n",
      "                    for i in xrange(len(ind[j])):\n",
      "                        ans[ind[j][i]] = tmp[i]\n",
      "                    p += len(ind[j])\n",
      "    #print \"!!\", np.linalg.norm(ans)\n",
      "    return ans\n",
      "    \n",
      "    \n",
      "def dot_fun(v):\n",
      "     return surf.dot(v)\n",
      "\n",
      "lo_dot = sp.sparse.linalg.LinearOperator((N,N), dot_fun, dtype=float )\n",
      "lo_prec  = sp.sparse.linalg.LinearOperator((N,N), prec ,dtype=float)\n",
      "\n",
      "b = rh\n",
      "x0 = np.zeros(N, dtype=float)\n",
      "\n",
      "t0 = time() \n",
      "\n",
      "it_sol, errr = gmres(lo_dot, b, x0, tol=1e-6, restart=5000, maxiter=1000, xtype=0, M=lo_prec, callback=simple_print)\n",
      "print \"Number of iterations:\", len(t), \"Total time:\", time() - t0\n",
      "\n",
      "### For ILU(SE) ###\n",
      "resH22 = np.array(res)\n",
      "tH22 = np.array(t)\n",
      "\n",
      "\n",
      "### For Block ###\n",
      "#resH21 = np.array(res)\n",
      "#tH21 = np.array(t)"
     ],
     "language": "python",
     "metadata": {
      "code_folding": []
     },
     "outputs": [
      {
       "ename": "RuntimeError",
       "evalue": "Factor is exactly singular",
       "output_type": "pyerr",
       "traceback": [
        "\u001b[1;31m---------------------------------------------------------------------------\u001b[0m\n\u001b[1;31mRuntimeError\u001b[0m                              Traceback (most recent call last)",
        "\u001b[1;32m<ipython-input-64-fa1388e97e15>\u001b[0m in \u001b[0;36m<module>\u001b[1;34m()\u001b[0m\n\u001b[0;32m     10\u001b[0m \u001b[1;31m### For ILU(SE) ###\u001b[0m\u001b[1;33m\u001b[0m\u001b[1;33m\u001b[0m\u001b[0m\n\u001b[0;32m     11\u001b[0m \u001b[0mt0\u001b[0m \u001b[1;33m=\u001b[0m \u001b[0mtime\u001b[0m\u001b[1;33m(\u001b[0m\u001b[1;33m)\u001b[0m\u001b[1;33m\u001b[0m\u001b[0m\n\u001b[1;32m---> 12\u001b[1;33m \u001b[0mprec_ILU\u001b[0m \u001b[1;33m=\u001b[0m \u001b[0msp\u001b[0m\u001b[1;33m.\u001b[0m\u001b[0msparse\u001b[0m\u001b[1;33m.\u001b[0m\u001b[0mlinalg\u001b[0m\u001b[1;33m.\u001b[0m\u001b[0mspilu\u001b[0m\u001b[1;33m(\u001b[0m\u001b[0mfull_prec\u001b[0m\u001b[1;33m,\u001b[0m \u001b[0mdrop_tol\u001b[0m\u001b[1;33m=\u001b[0m\u001b[1;36m1e-2\u001b[0m\u001b[1;33m,\u001b[0m \u001b[0mfill_factor\u001b[0m\u001b[1;33m=\u001b[0m\u001b[1;36m10\u001b[0m\u001b[1;33m,\u001b[0m \u001b[0mdrop_rule\u001b[0m\u001b[1;33m=\u001b[0m\u001b[0mNone\u001b[0m\u001b[1;33m,\u001b[0m \u001b[0mpermc_spec\u001b[0m\u001b[1;33m=\u001b[0m\u001b[0mNone\u001b[0m\u001b[1;33m,\u001b[0m \u001b[0mdiag_pivot_thresh\u001b[0m\u001b[1;33m=\u001b[0m\u001b[0mNone\u001b[0m\u001b[1;33m,\u001b[0m \u001b[0mrelax\u001b[0m\u001b[1;33m=\u001b[0m\u001b[0mNone\u001b[0m\u001b[1;33m,\u001b[0m \u001b[0mpanel_size\u001b[0m\u001b[1;33m=\u001b[0m\u001b[0mNone\u001b[0m\u001b[1;33m,\u001b[0m \u001b[0moptions\u001b[0m\u001b[1;33m=\u001b[0m\u001b[0mNone\u001b[0m\u001b[1;33m)\u001b[0m\u001b[1;33m\u001b[0m\u001b[0m\n\u001b[0m\u001b[0;32m     13\u001b[0m \u001b[1;33m\u001b[0m\u001b[0m\n\u001b[0;32m     14\u001b[0m \u001b[1;33m\u001b[0m\u001b[0m\n",
        "\u001b[1;32m/home/daria/anaconda/lib/python2.7/site-packages/scipy/sparse/linalg/dsolve/linsolve.pyc\u001b[0m in \u001b[0;36mspilu\u001b[1;34m(A, drop_tol, fill_factor, drop_rule, permc_spec, diag_pivot_thresh, relax, panel_size, options)\u001b[0m\n\u001b[0;32m    307\u001b[0m         \u001b[0m_options\u001b[0m\u001b[1;33m.\u001b[0m\u001b[0mupdate\u001b[0m\u001b[1;33m(\u001b[0m\u001b[0moptions\u001b[0m\u001b[1;33m)\u001b[0m\u001b[1;33m\u001b[0m\u001b[0m\n\u001b[0;32m    308\u001b[0m     return _superlu.gstrf(N, A.nnz, A.data, A.indices, A.indptr,\n\u001b[1;32m--> 309\u001b[1;33m                           ilu=True, options=_options)\n\u001b[0m\u001b[0;32m    310\u001b[0m \u001b[1;33m\u001b[0m\u001b[0m\n\u001b[0;32m    311\u001b[0m \u001b[1;33m\u001b[0m\u001b[0m\n",
        "\u001b[1;31mRuntimeError\u001b[0m: Factor is exactly singular"
       ]
      }
     ],
     "prompt_number": 64
    },
    {
     "cell_type": "code",
     "collapsed": false,
     "input": [
      "print np.linalg.norm(sol - it_sol) / np.linalg.norm(sol)"
     ],
     "language": "python",
     "metadata": {},
     "outputs": [
      {
       "output_type": "stream",
       "stream": "stdout",
       "text": [
        "1.98155682794e-07\n"
       ]
      }
     ],
     "prompt_number": 23
    },
    {
     "cell_type": "code",
     "collapsed": false,
     "input": [
      "print np.linalg.norm(surf.dot(sol) - surf.dot(it_sol)) / np.linalg.norm(rh)"
     ],
     "language": "python",
     "metadata": {},
     "outputs": [
      {
       "output_type": "stream",
       "stream": "stdout",
       "text": [
        "1.18225822663e-07\n"
       ]
      }
     ],
     "prompt_number": 24
    },
    {
     "cell_type": "heading",
     "level": 2,
     "metadata": {},
     "source": [
      "GMRES, $H^2$ matvec, ILU_SVD(SE) prec"
     ]
    },
    {
     "cell_type": "heading",
     "level": 3,
     "metadata": {},
     "source": [
      " ILU_SVD(SE) precondinioners:"
     ]
    },
    {
     "cell_type": "code",
     "collapsed": false,
     "input": [
      "#\n",
      "not_com = surf.factor.copy()\n",
      "print not_com.nbytes(), surf.factor.nbytes()\n",
      "surf.factor.svdcompress(1e-2, verbose=1)\n",
      "print hyp(surf)\n",
      "full_svd_prec = sp.sparse.csc_matrix(surf.hyper.T)\n",
      "print not_com.nbytes(), surf.factor.nbytes()"
     ],
     "language": "python",
     "metadata": {
      "code_folding": []
     },
     "outputs": [
      {
       "output_type": "stream",
       "stream": "stdout",
       "text": [
        "24209504 24209504\n",
        "memory BEFORE SVD-compression: 23.088MB\n",
        "memory AFTER SVD-compression: 3.198MB"
       ]
      },
      {
       "output_type": "stream",
       "stream": "stdout",
       "text": [
        "\n",
        "recompression time: 0.352509021759\n",
        "Size of original matrix: "
       ]
      },
      {
       "output_type": "stream",
       "stream": "stdout",
       "text": [
        " (5932, 5932)\n",
        "Size of SE matrix:  (9904, 9904)\n",
        "B time 0.0371398925781\n",
        "I time 0.00408387184143\n",
        "A time"
       ]
      },
      {
       "output_type": "stream",
       "stream": "stdout",
       "text": [
        " 0.035031080246\n",
        "C time"
       ]
      },
      {
       "output_type": "stream",
       "stream": "stdout",
       "text": [
        " 0.130847930908\n",
        "I time 0.00408887863159\n",
        "E time 0.0130140781403\n",
        "CL time"
       ]
      },
      {
       "output_type": "stream",
       "stream": "stdout",
       "text": [
        " 0.459231138229\n",
        "D time 0.0208899974823\n",
        "Total time 0.704444885254\n",
        "(9904, 5932)\n",
        "24209504"
       ]
      },
      {
       "output_type": "stream",
       "stream": "stdout",
       "text": [
        " 3353472\n"
       ]
      }
     ],
     "prompt_number": 38
    },
    {
     "cell_type": "code",
     "collapsed": false,
     "input": [
      "plt.spy(full_svd_prec, markersize=2, precision=0, color = 'green')"
     ],
     "language": "python",
     "metadata": {},
     "outputs": [
      {
       "metadata": {},
       "output_type": "pyout",
       "prompt_number": 39,
       "text": [
        "<matplotlib.lines.Line2D at 0x7ff6db1f9b10>"
       ]
      },
      {
       "metadata": {},
       "output_type": "display_data",
       "png": "[encoded data removed]",
       "text": [
        "<matplotlib.figure.Figure at 0x7ff6db1c0650>"
       ]
      }
     ],
     "prompt_number": 39
    },
    {
     "cell_type": "heading",
     "level": 3,
     "metadata": {},
     "source": [
      "GMRES iterations (shuffled inside)"
     ]
    },
    {
     "cell_type": "code",
     "collapsed": false,
     "input": [
      "#\n",
      "tree = surf.factor.col_tree\n",
      "size = tree.level[-1]\n",
      "ind = tree.index\n",
      "\n",
      "res = []\n",
      "t = []\n",
      "\n",
      "it_sol = np.zeros(N)\n",
      "\n",
      "prec_ILU = sp.sparse.linalg.spilu(full_svd_prec, drop_tol=1e-3, fill_factor=10, drop_rule=None, permc_spec=None, diag_pivot_thresh=None, relax=None, panel_size=None, options=None)\n",
      "\n",
      "\n",
      "\n",
      "\n",
      "\n",
      "def simple_print(r):\n",
      "    print np.linalg.norm(r)\n",
      "    res.append(r)\n",
      "    t.append(time()-t0)\n",
      "    \n",
      "    \n",
      "def prec(v):\n",
      "    p = 0\n",
      "    vec = copy.deepcopy(v)\n",
      "    for i in surf.row_l_list:\n",
      "        if surf.factor.row_coef[i].shape[0] == 0:\n",
      "            for j in xrange(surf.factor.row_coef[i].shape[1]):\n",
      "                vec[p] =  v[surf.factor.row_tree.index[i][j]] \n",
      "                p+=1\n",
      "        else:\n",
      "            for j in xrange(surf.factor.row_coef[i].shape[0]):\n",
      "                vec[p] =  v[surf.factor.row_tree.index[i][j]] \n",
      "                p+=1\n",
      "            \n",
      "    vec = np.concatenate((vec,np.zeros((SE.shape[0]-vec.shape[0])))) \n",
      "    \n",
      "    tmp_s = prec_ILU.solve(vec)\n",
      "   \n",
      "\n",
      "    ans = np.zeros(N,dtype = v.dtype)\n",
      "    tmp_s = tmp_s[:N]\n",
      "\n",
      "    p = 0\n",
      "    for j in xrange(size):\n",
      "                if len(tree.child[j]) is 0:\n",
      "                    tmp = tmp_s[p:p + len(ind[j])]\n",
      "                    for i in xrange(len(ind[j])):\n",
      "                        ans[ind[j][i]] = tmp[i]\n",
      "                    p += len(ind[j])\n",
      "    #print \"!!\", np.linalg.norm(ans)\n",
      "    return ans\n",
      "    \n",
      "    \n",
      "def dot_fun(v):\n",
      "     return not_com.dot(v)\n",
      "\n",
      "lo_dot = sp.sparse.linalg.LinearOperator((N,N), dot_fun, dtype=float )\n",
      "lo_prec  = sp.sparse.linalg.LinearOperator((N,N), prec ,dtype=float)\n",
      "\n",
      "b = rh\n",
      "x0 = np.zeros(N, dtype=float)\n",
      "\n",
      "t0 = time() \n",
      "\n",
      "it_sol, errr = gmres(lo_dot, b, x0, tol=1e-6, restart=5000, maxiter=1000, xtype=0, M=lo_prec, callback=simple_print)\n",
      "print \"Number of iterations:\", len(t), \"Total time:\", time() - t0\n",
      "\n",
      "\n",
      "resH23 = np.array(res)\n",
      "tH23 = np.array(t)\n",
      "\n"
     ],
     "language": "python",
     "metadata": {
      "code_folding": [
       0
      ]
     },
     "outputs": [
      {
       "output_type": "stream",
       "stream": "stdout",
       "text": [
        "5.2311215917\n",
        "5.22828229052\n",
        "5.22175015918\n",
        "5.22082627999\n",
        "5.22014644398"
       ]
      },
      {
       "output_type": "stream",
       "stream": "stdout",
       "text": [
        "\n",
        "5.21666006615\n",
        "5.21127115475\n",
        "5.21119284046\n",
        "5.21001651204"
       ]
      },
      {
       "output_type": "stream",
       "stream": "stdout",
       "text": [
        "\n",
        "5.20424242506\n",
        "5.20355014722\n",
        "5.19903215237\n",
        "5.19555744848"
       ]
      },
      {
       "output_type": "stream",
       "stream": "stdout",
       "text": [
        "\n",
        "5.19057904916\n",
        "5.18825685433\n",
        "5.18810899086\n",
        "5.17880688828"
       ]
      },
      {
       "output_type": "stream",
       "stream": "stdout",
       "text": [
        "\n",
        "5.17704181518\n",
        "5.17182253271\n",
        "5.17097784316\n",
        "5.16414157888"
       ]
      },
      {
       "output_type": "stream",
       "stream": "stdout",
       "text": [
        "\n",
        "5.16386059228\n",
        "5.15998058074\n",
        "5.15996542337\n",
        "5.15678029706"
       ]
      },
      {
       "output_type": "stream",
       "stream": "stdout",
       "text": [
        "\n",
        "5.15620928913\n",
        "5.14896244421\n",
        "5.14723817099\n",
        "5.14669109241"
       ]
      },
      {
       "output_type": "stream",
       "stream": "stdout",
       "text": [
        "\n",
        "5.14605849303\n",
        "5.1413467282\n",
        "5.13804660703\n",
        "5.13669367209"
       ]
      },
      {
       "output_type": "stream",
       "stream": "stdout",
       "text": [
        "\n",
        "5.13415541979\n",
        "5.1341055939\n",
        "5.13260308363\n",
        "5.13110943361"
       ]
      },
      {
       "output_type": "stream",
       "stream": "stdout",
       "text": [
        "\n",
        "5.13001026486\n",
        "5.12752251514\n",
        "5.12728337129\n",
        "5.12330833608"
       ]
      },
      {
       "output_type": "stream",
       "stream": "stdout",
       "text": [
        "\n",
        "5.12328535335\n",
        "5.12231388176\n",
        "5.1216270913\n",
        "5.12103248381"
       ]
      },
      {
       "output_type": "stream",
       "stream": "stdout",
       "text": [
        "\n",
        "5.11771826067\n",
        "5.11712641752\n",
        "5.1151724219\n",
        "5.11353971194"
       ]
      },
      {
       "output_type": "stream",
       "stream": "stdout",
       "text": [
        "\n",
        "5.11335237324\n",
        "5.11072945833\n",
        "5.11072727347\n",
        "5.10825092368"
       ]
      },
      {
       "output_type": "stream",
       "stream": "stdout",
       "text": [
        "\n",
        "5.10576895793\n",
        "5.10552683415\n",
        "5.10374144171\n",
        "5.10354116969"
       ]
      },
      {
       "output_type": "stream",
       "stream": "stdout",
       "text": [
        "\n",
        "5.10328571518\n",
        "5.1019559442\n",
        "5.10185421736\n",
        "5.10035357203"
       ]
      },
      {
       "output_type": "stream",
       "stream": "stdout",
       "text": [
        "\n",
        "5.0980650884\n",
        "5.09804155713\n",
        "5.0962206235\n",
        "5.09622048015"
       ]
      },
      {
       "output_type": "stream",
       "stream": "stdout",
       "text": [
        "\n",
        "5.09438591664\n",
        "5.09415312955\n",
        "5.09386681483\n",
        "5.09255275621"
       ]
      },
      {
       "output_type": "stream",
       "stream": "stdout",
       "text": [
        "\n",
        "5.09232069459\n",
        "5.08704401108\n",
        "5.08660120112\n",
        "5.08499260519"
       ]
      },
      {
       "output_type": "stream",
       "stream": "stdout",
       "text": [
        "\n",
        "5.08468037645\n",
        "5.0846507022\n",
        "5.08443823631\n",
        "5.08186741086"
       ]
      },
      {
       "output_type": "stream",
       "stream": "stdout",
       "text": [
        "\n",
        "5.08123753122\n",
        "5.07970709767\n",
        "5.07943169197\n",
        "5.07778274213"
       ]
      },
      {
       "output_type": "stream",
       "stream": "stdout",
       "text": [
        "\n",
        "5.07577384818\n",
        "5.07577276495\n",
        "5.0723934805\n",
        "5.07225714129"
       ]
      },
      {
       "output_type": "stream",
       "stream": "stdout",
       "text": [
        "\n",
        "5.06755060366\n",
        "5.06517257398\n",
        "5.06463175634\n",
        "5.06315008733"
       ]
      },
      {
       "output_type": "stream",
       "stream": "stdout",
       "text": [
        "\n",
        "5.06311660287\n",
        "5.05960624363\n",
        "5.05913538261\n",
        "5.05860754613"
       ]
      },
      {
       "output_type": "stream",
       "stream": "stdout",
       "text": [
        "\n",
        "5.05756358288\n",
        "5.05743905201\n",
        "5.05413109628\n",
        "5.05362624885"
       ]
      },
      {
       "output_type": "stream",
       "stream": "stdout",
       "text": [
        "\n",
        "5.05146970221\n",
        "5.05068236969\n",
        "5.0504227138\n",
        "5.04999036297"
       ]
      },
      {
       "output_type": "stream",
       "stream": "stdout",
       "text": [
        "\n",
        "5.04998694946\n",
        "5.04960665104\n",
        "5.04951684059\n",
        "5.04796940675"
       ]
      },
      {
       "output_type": "stream",
       "stream": "stdout",
       "text": [
        "\n",
        "5.04705514958\n",
        "5.04703452858\n",
        "5.046831497\n",
        "5.04650235153"
       ]
      },
      {
       "output_type": "stream",
       "stream": "stdout",
       "text": [
        "\n",
        "5.04281438572\n",
        "5.04280921172\n",
        "5.04028967628\n",
        "5.04027880891"
       ]
      },
      {
       "output_type": "stream",
       "stream": "stdout",
       "text": [
        "\n",
        "5.03941904343\n",
        "5.0389259706\n",
        "5.03788826303\n",
        "5.03661420747"
       ]
      },
      {
       "output_type": "stream",
       "stream": "stdout",
       "text": [
        "\n",
        "5.03659137237\n",
        "5.03499561043\n",
        "5.03479438235\n",
        "5.03339081861"
       ]
      },
      {
       "output_type": "stream",
       "stream": "stdout",
       "text": [
        "\n",
        "5.03292484072\n",
        "5.03194807388\n",
        "5.03194621999\n",
        "5.03029324913"
       ]
      },
      {
       "output_type": "stream",
       "stream": "stdout",
       "text": [
        "\n",
        "5.03020937508\n",
        "5.02858231803\n",
        "5.02785223225\n",
        "5.02756588343"
       ]
      },
      {
       "output_type": "stream",
       "stream": "stdout",
       "text": [
        "\n",
        "5.02546436692\n",
        "5.02511230342\n",
        "5.02488347226\n",
        "5.02306581596"
       ]
      },
      {
       "output_type": "stream",
       "stream": "stdout",
       "text": [
        "\n",
        "5.01988177538\n",
        "5.01573850515\n",
        "5.01530564637\n",
        "5.0144783488"
       ]
      },
      {
       "output_type": "stream",
       "stream": "stdout",
       "text": [
        "\n",
        "5.01428079147\n",
        "5.01366342365\n",
        "5.01329107706\n",
        "5.01327608493"
       ]
      },
      {
       "output_type": "stream",
       "stream": "stdout",
       "text": [
        "\n",
        "5.01260401201\n",
        "5.01208613917\n",
        "5.01192414375\n",
        "5.01188726892"
       ]
      },
      {
       "output_type": "stream",
       "stream": "stdout",
       "text": [
        "\n",
        "5.01059875691\n",
        "5.01057974925\n",
        "5.00996587109\n",
        "5.00936263726"
       ]
      },
      {
       "output_type": "stream",
       "stream": "stdout",
       "text": [
        "\n",
        "5.00927227931\n",
        "5.00828548452\n",
        "5.00751473064\n",
        "5.00641987915"
       ]
      },
      {
       "output_type": "stream",
       "stream": "stdout",
       "text": [
        "\n",
        "5.00572869019\n",
        "5.00404593342\n",
        "5.002614665\n",
        "5.00236748328"
       ]
      },
      {
       "output_type": "stream",
       "stream": "stdout",
       "text": [
        "\n",
        "5.0002803076\n",
        "5.00021469046\n",
        "4.99983651805\n",
        "4.99856776986"
       ]
      },
      {
       "output_type": "stream",
       "stream": "stdout",
       "text": [
        "\n",
        "4.99541107616\n",
        "4.99472647456\n",
        "4.99411716455\n",
        "4.99366968375"
       ]
      },
      {
       "output_type": "stream",
       "stream": "stdout",
       "text": [
        "\n",
        "4.99212007927\n",
        "4.99182826488\n",
        "4.99055582976\n",
        "4.99031702135"
       ]
      },
      {
       "output_type": "stream",
       "stream": "stdout",
       "text": [
        "\n",
        "4.9899340656\n",
        "4.98986061347\n",
        "4.98826136042\n",
        "4.98825857923"
       ]
      },
      {
       "output_type": "stream",
       "stream": "stdout",
       "text": [
        "\n",
        "4.98658405618\n",
        "4.98658380893\n",
        "4.98544891608\n",
        "4.98534691223"
       ]
      },
      {
       "output_type": "stream",
       "stream": "stdout",
       "text": [
        "\n",
        "4.98415452217\n",
        "4.98387469921\n",
        "4.98137327418\n",
        "4.98092639813"
       ]
      },
      {
       "output_type": "stream",
       "stream": "stdout",
       "text": [
        "\n",
        "4.97855490278\n",
        "4.97843905723\n",
        "4.97571967633\n",
        "4.97563262249"
       ]
      },
      {
       "output_type": "stream",
       "stream": "stdout",
       "text": [
        "\n",
        "4.9740548079\n",
        "4.97398982623\n",
        "4.97250928868\n",
        "4.97249292915"
       ]
      },
      {
       "output_type": "stream",
       "stream": "stdout",
       "text": [
        "\n",
        "4.97058144136\n",
        "4.97033570507\n",
        "4.97002692957\n",
        "4.96906217281"
       ]
      },
      {
       "output_type": "stream",
       "stream": "stdout",
       "text": [
        "\n",
        "4.96894573189\n",
        "4.9671812616\n",
        "4.96666024921\n",
        "4.96637633569"
       ]
      },
      {
       "output_type": "stream",
       "stream": "stdout",
       "text": [
        "\n",
        "4.96637199468\n",
        "4.9647790283\n",
        "4.9637752908\n",
        "4.9627686241"
       ]
      },
      {
       "output_type": "stream",
       "stream": "stdout",
       "text": [
        "\n",
        "4.96177830324\n",
        "4.96140457814\n",
        "4.96093805269\n",
        "4.95957801852"
       ]
      },
      {
       "output_type": "stream",
       "stream": "stdout",
       "text": [
        "\n",
        "4.95617571506\n",
        "4.95594997041\n",
        "4.95167108305\n",
        "4.95158428814"
       ]
      },
      {
       "output_type": "stream",
       "stream": "stdout",
       "text": [
        "\n",
        "4.94981102446\n",
        "4.94958618993\n",
        "4.94886531357\n",
        "4.94869985335"
       ]
      },
      {
       "output_type": "stream",
       "stream": "stdout",
       "text": [
        "\n",
        "4.94643533549\n",
        "4.94627804591\n",
        "4.94485642717\n",
        "4.94471893477"
       ]
      },
      {
       "output_type": "stream",
       "stream": "stdout",
       "text": [
        "\n",
        "4.94454560585\n",
        "4.94453532938\n",
        "4.94385895099\n",
        "4.94363516882"
       ]
      },
      {
       "output_type": "stream",
       "stream": "stdout",
       "text": [
        "\n",
        "4.94134720155\n",
        "4.94119058165\n",
        "4.9407390436\n",
        "4.94073620854"
       ]
      },
      {
       "output_type": "stream",
       "stream": "stdout",
       "text": [
        "\n",
        "4.93957767964\n",
        "4.93949324471\n",
        "4.93946341318\n",
        "4.93912796557"
       ]
      },
      {
       "output_type": "stream",
       "stream": "stdout",
       "text": [
        "\n",
        "4.93508529535\n",
        "4.93507761573\n",
        "4.93318415997\n",
        "4.93316611143"
       ]
      },
      {
       "output_type": "stream",
       "stream": "stdout",
       "text": [
        "\n",
        "4.9292138744\n",
        "4.92921226663\n",
        "4.92732794869\n",
        "4.92730956231"
       ]
      },
      {
       "output_type": "stream",
       "stream": "stdout",
       "text": [
        "\n",
        "4.92627024488\n",
        "4.9262646633\n",
        "4.92458746783\n",
        "4.92440640469"
       ]
      },
      {
       "output_type": "stream",
       "stream": "stdout",
       "text": [
        "\n",
        "4.92316579583\n",
        "4.9228335322\n",
        "4.92196227943\n",
        "4.92193735544"
       ]
      },
      {
       "output_type": "stream",
       "stream": "stdout",
       "text": [
        "\n",
        "4.92072028256\n",
        "4.92048860683\n",
        "4.9165422739\n",
        "4.91512983859"
       ]
      },
      {
       "output_type": "stream",
       "stream": "stdout",
       "text": [
        "\n",
        "4.91512978598\n",
        "4.91472785787\n",
        "4.91439268031\n",
        "4.91397413157"
       ]
      },
      {
       "output_type": "stream",
       "stream": "stdout",
       "text": [
        "\n",
        "4.91341426347\n",
        "4.91179062398\n",
        "4.91150240151"
       ]
      },
      {
       "output_type": "stream",
       "stream": "stdout",
       "text": [
        "\n",
        "4.91008559013\n",
        "4.90990029046\n",
        "4.9085306542"
       ]
      },
      {
       "output_type": "stream",
       "stream": "stdout",
       "text": [
        "\n",
        "4.90850128454\n",
        "4.90780586204\n",
        "4.90709374098"
       ]
      },
      {
       "output_type": "stream",
       "stream": "stdout",
       "text": [
        "\n",
        "4.90681551456\n",
        "4.90503308575\n",
        "4.90393915171"
       ]
      },
      {
       "output_type": "stream",
       "stream": "stdout",
       "text": [
        "\n",
        "4.90207936203\n",
        "4.90068747152\n",
        "4.90055435403"
       ]
      },
      {
       "output_type": "stream",
       "stream": "stdout",
       "text": [
        "\n",
        "4.900543559\n",
        "4.89935033405\n",
        "4.89930311282"
       ]
      },
      {
       "output_type": "stream",
       "stream": "stdout",
       "text": [
        "\n",
        "4.89617938108\n",
        "4.8960204688\n",
        "4.89542021684"
       ]
      },
      {
       "output_type": "stream",
       "stream": "stdout",
       "text": [
        "\n",
        "4.89359012761\n",
        "4.89276511408\n",
        "4.89164315504"
       ]
      },
      {
       "output_type": "stream",
       "stream": "stdout",
       "text": [
        "\n",
        "4.89110767479\n",
        "4.89071458604\n",
        "4.88823115777"
       ]
      },
      {
       "output_type": "stream",
       "stream": "stdout",
       "text": [
        "\n",
        "4.88686963004\n",
        "4.88577469402\n",
        "4.88373977499"
       ]
      },
      {
       "output_type": "stream",
       "stream": "stdout",
       "text": [
        "\n",
        "4.88373811965\n",
        "4.88216228763\n",
        "4.88210734668"
       ]
      },
      {
       "output_type": "stream",
       "stream": "stdout",
       "text": [
        "\n",
        "4.88195782184\n",
        "4.88116647243\n",
        "4.88005164261"
       ]
      },
      {
       "output_type": "stream",
       "stream": "stdout",
       "text": [
        "\n",
        "4.87959360021\n",
        "4.87942920358\n",
        "4.87866191042"
       ]
      },
      {
       "output_type": "stream",
       "stream": "stdout",
       "text": [
        "\n",
        "4.87854926209\n",
        "4.87854280745\n",
        "4.87681898763"
       ]
      },
      {
       "output_type": "stream",
       "stream": "stdout",
       "text": [
        "\n",
        "4.87437828335\n",
        "4.87429045062\n",
        "4.87423524045"
       ]
      },
      {
       "output_type": "stream",
       "stream": "stdout",
       "text": [
        "\n",
        "4.87421691965\n",
        "4.87386467637\n",
        "4.87291247026"
       ]
      },
      {
       "output_type": "stream",
       "stream": "stdout",
       "text": [
        "\n",
        "4.87207961805\n",
        "4.87207860104\n",
        "4.87159409821"
       ]
      },
      {
       "output_type": "stream",
       "stream": "stdout",
       "text": [
        "\n",
        "4.87129664522\n",
        "4.86865267521\n",
        "4.86859579813"
       ]
      },
      {
       "output_type": "stream",
       "stream": "stdout",
       "text": [
        "\n",
        "4.86778033225\n",
        "4.86776452255\n",
        "4.86653870805"
       ]
      },
      {
       "output_type": "stream",
       "stream": "stdout",
       "text": [
        "\n",
        "4.86645065077\n",
        "4.86586167906\n",
        "4.86554668305"
       ]
      },
      {
       "output_type": "stream",
       "stream": "stdout",
       "text": [
        "\n",
        "4.86274303813\n",
        "4.86274271815\n",
        "4.86094775156"
       ]
      },
      {
       "output_type": "stream",
       "stream": "stdout",
       "text": [
        "\n",
        "4.85956781724\n",
        "4.85800942804\n",
        "4.85646812801"
       ]
      },
      {
       "output_type": "stream",
       "stream": "stdout",
       "text": [
        "\n",
        "4.85638373204\n",
        "4.85636481472\n",
        "4.85586393848"
       ]
      },
      {
       "output_type": "stream",
       "stream": "stdout",
       "text": [
        "\n",
        "4.85566375387\n",
        "4.85425001851\n",
        "4.85355935248"
       ]
      },
      {
       "output_type": "stream",
       "stream": "stdout",
       "text": [
        "\n",
        "4.85162213504\n",
        "4.85143391477\n",
        "4.85003205857"
       ]
      },
      {
       "output_type": "stream",
       "stream": "stdout",
       "text": [
        "\n",
        "4.84970698193\n",
        "4.84787540085\n",
        "4.84783984041"
       ]
      },
      {
       "output_type": "stream",
       "stream": "stdout",
       "text": [
        "\n",
        "4.84645223811\n",
        "4.84642660477\n",
        "4.84491806919"
       ]
      },
      {
       "output_type": "stream",
       "stream": "stdout",
       "text": [
        "\n",
        "4.8449180689\n",
        "4.84378814452\n",
        "4.84377943571"
       ]
      },
      {
       "output_type": "stream",
       "stream": "stdout",
       "text": [
        "\n",
        "4.84242329818\n",
        "4.84239398507\n",
        "4.84211832063"
       ]
      },
      {
       "output_type": "stream",
       "stream": "stdout",
       "text": [
        "\n",
        "4.84198793973\n",
        "4.84053957501\n",
        "4.84023793676"
       ]
      },
      {
       "output_type": "stream",
       "stream": "stdout",
       "text": [
        "\n",
        "4.83916841962\n",
        "4.83812814826\n",
        "4.83772695796"
       ]
      },
      {
       "output_type": "stream",
       "stream": "stdout",
       "text": [
        "\n",
        "4.83733478974\n",
        "4.83722286926\n",
        "4.83713149987"
       ]
      },
      {
       "output_type": "stream",
       "stream": "stdout",
       "text": [
        "\n",
        "4.83660952196\n",
        "4.83625658266\n",
        "4.83528516423"
       ]
      },
      {
       "output_type": "stream",
       "stream": "stdout",
       "text": [
        "\n",
        "4.83188234511\n",
        "4.83162253083\n",
        "4.82992941556"
       ]
      },
      {
       "output_type": "stream",
       "stream": "stdout",
       "text": [
        "\n",
        "4.82980155888\n",
        "4.82866682863\n",
        "4.82842939862"
       ]
      },
      {
       "output_type": "stream",
       "stream": "stdout",
       "text": [
        "\n",
        "4.82731641176\n",
        "4.82707917886\n",
        "4.82665847037"
       ]
      },
      {
       "output_type": "stream",
       "stream": "stdout",
       "text": [
        "\n",
        "4.8266039096\n",
        "4.82539196727\n",
        "4.82532486214"
       ]
      },
      {
       "output_type": "stream",
       "stream": "stdout",
       "text": [
        "\n",
        "4.8252080721\n",
        "4.82431774506\n",
        "4.82247794478"
       ]
      },
      {
       "output_type": "stream",
       "stream": "stdout",
       "text": [
        "\n",
        "4.8223552895\n",
        "4.81713684096\n",
        "4.81709555437"
       ]
      },
      {
       "output_type": "stream",
       "stream": "stdout",
       "text": [
        "\n",
        "4.8169224028\n",
        "4.81688919968\n",
        "4.81637429051"
       ]
      },
      {
       "output_type": "stream",
       "stream": "stdout",
       "text": [
        "\n",
        "4.81606864886\n",
        "4.81579647891\n",
        "4.81578417183\n",
        "4.81481317929"
       ]
      },
      {
       "output_type": "stream",
       "stream": "stdout",
       "text": [
        "\n",
        "4.81471263849\n",
        "4.81414852034\n",
        "4.81406251853\n",
        "4.81014420475"
       ]
      },
      {
       "output_type": "stream",
       "stream": "stdout",
       "text": [
        "\n",
        "4.80990803345\n",
        "4.80898614487\n",
        "4.80894521956\n",
        "4.80741571421"
       ]
      },
      {
       "output_type": "stream",
       "stream": "stdout",
       "text": [
        "\n",
        "4.80739372769\n",
        "4.80648383153\n",
        "4.80629443707\n",
        "4.80425610359"
       ]
      },
      {
       "output_type": "stream",
       "stream": "stdout",
       "text": [
        "\n",
        "4.80389329557\n",
        "4.80157923517\n",
        "4.80099402368\n",
        "4.80067490418"
       ]
      },
      {
       "output_type": "stream",
       "stream": "stdout",
       "text": [
        "\n",
        "4.80030959806\n",
        "4.80005280232\n",
        "4.79986016585\n",
        "4.79795208728"
       ]
      },
      {
       "output_type": "stream",
       "stream": "stdout",
       "text": [
        "\n",
        "4.79771195425\n",
        "4.79591255087\n",
        "4.79585547595"
       ]
      },
      {
       "output_type": "stream",
       "stream": "stdout",
       "text": [
        "\n",
        "4.79144777623\n",
        "4.79094810011\n",
        "4.79080076558"
       ]
      },
      {
       "output_type": "stream",
       "stream": "stdout",
       "text": [
        "\n",
        "4.79061716325\n",
        "4.79054534711\n",
        "4.79037719858\n",
        "4.78920692661"
       ]
      },
      {
       "output_type": "stream",
       "stream": "stdout",
       "text": [
        "\n",
        "4.78920559871\n",
        "4.78877862922\n",
        "4.7886650999\n",
        "4.78739630192"
       ]
      },
      {
       "output_type": "stream",
       "stream": "stdout",
       "text": [
        "\n",
        "4.78736779823\n",
        "4.78662992084\n",
        "4.78650842777\n",
        "4.7839794751"
       ]
      },
      {
       "output_type": "stream",
       "stream": "stdout",
       "text": [
        "\n",
        "4.78386843345\n",
        "4.78241546283\n",
        "4.7822963831"
       ]
      },
      {
       "output_type": "stream",
       "stream": "stdout",
       "text": [
        "\n",
        "4.77873860827\n",
        "4.77873013085\n",
        "4.77756130309"
       ]
      },
      {
       "output_type": "stream",
       "stream": "stdout",
       "text": [
        "\n",
        "4.7773121763\n",
        "4.77643269696\n",
        "4.77641341266\n",
        "4.77531981264"
       ]
      },
      {
       "output_type": "stream",
       "stream": "stdout",
       "text": [
        "\n",
        "4.77457552331\n",
        "4.77387044818\n",
        "4.77338073643"
       ]
      },
      {
       "output_type": "stream",
       "stream": "stdout",
       "text": [
        "\n",
        "4.77312864624\n",
        "4.77286999676\n",
        "4.77182500447"
       ]
      },
      {
       "output_type": "stream",
       "stream": "stdout",
       "text": [
        "\n",
        "4.7714034556\n",
        "4.76845502773\n",
        "4.76815691601"
       ]
      },
      {
       "output_type": "stream",
       "stream": "stdout",
       "text": [
        "\n",
        "4.76674201955\n",
        "4.76542457312\n",
        "4.76541364732"
       ]
      },
      {
       "output_type": "stream",
       "stream": "stdout",
       "text": [
        "\n",
        "4.76396446474\n",
        "4.76258356115\n",
        "4.76037819723"
       ]
      },
      {
       "output_type": "stream",
       "stream": "stdout",
       "text": [
        "\n",
        "4.76037191436\n",
        "4.75960839836\n",
        "4.75935894591"
       ]
      },
      {
       "output_type": "stream",
       "stream": "stdout",
       "text": [
        "\n",
        "4.75935815442\n",
        "4.75895932371\n",
        "4.75869116733"
       ]
      },
      {
       "output_type": "stream",
       "stream": "stdout",
       "text": [
        "\n",
        "4.75866863049\n",
        "4.75752719548\n",
        "4.75648934552"
       ]
      },
      {
       "output_type": "stream",
       "stream": "stdout",
       "text": [
        "\n",
        "4.7553070898\n",
        "4.75385184608\n",
        "4.75305313459"
       ]
      },
      {
       "output_type": "stream",
       "stream": "stdout",
       "text": [
        "\n",
        "4.75294310522\n",
        "4.75135913918\n",
        "4.75102171487"
       ]
      },
      {
       "output_type": "stream",
       "stream": "stdout",
       "text": [
        "\n",
        "4.75080021983\n",
        "4.75049059746\n",
        "4.74718653084"
       ]
      },
      {
       "output_type": "stream",
       "stream": "stdout",
       "text": [
        "\n",
        "4.74712797667\n",
        "4.74701352854\n",
        "4.74510663644"
       ]
      },
      {
       "output_type": "stream",
       "stream": "stdout",
       "text": [
        "\n",
        "4.7430829534\n",
        "4.74305291762\n",
        "4.74210852698"
       ]
      },
      {
       "output_type": "stream",
       "stream": "stdout",
       "text": [
        "\n",
        "4.74150597746\n",
        "4.74150577697\n",
        "4.74137786274"
       ]
      },
      {
       "output_type": "stream",
       "stream": "stdout",
       "text": [
        "\n",
        "4.7410575822\n",
        "4.74050064615\n",
        "4.73955047404"
       ]
      },
      {
       "output_type": "stream",
       "stream": "stdout",
       "text": [
        "\n",
        "4.73858332399\n",
        "4.73771032241\n",
        "4.73688744107"
       ]
      },
      {
       "output_type": "stream",
       "stream": "stdout",
       "text": [
        "\n",
        "4.73623688428\n",
        "4.73582222034\n",
        "4.73339901393"
       ]
      },
      {
       "output_type": "stream",
       "stream": "stdout",
       "text": [
        "\n",
        "4.73273188487\n",
        "4.73256564218\n",
        "4.73090966194"
       ]
      },
      {
       "output_type": "stream",
       "stream": "stdout",
       "text": [
        "\n",
        "4.73088320468\n",
        "4.72987552868\n",
        "4.72929162079"
       ]
      },
      {
       "output_type": "stream",
       "stream": "stdout",
       "text": [
        "\n",
        "4.7267308479\n",
        "4.72672006386\n",
        "4.7253274297"
       ]
      },
      {
       "output_type": "stream",
       "stream": "stdout",
       "text": [
        "\n",
        "4.7248078206\n",
        "4.72446371439\n",
        "4.7238014963"
       ]
      },
      {
       "output_type": "stream",
       "stream": "stdout",
       "text": [
        "\n",
        "4.72144494592\n",
        "4.72075592016\n",
        "4.7203683667"
       ]
      },
      {
       "output_type": "stream",
       "stream": "stdout",
       "text": [
        "\n",
        "4.72036833016\n",
        "4.71804718286\n",
        "4.71793831737"
       ]
      },
      {
       "output_type": "stream",
       "stream": "stdout",
       "text": [
        "\n",
        "4.71712457193\n",
        "4.71712143001\n",
        "4.71635125906"
       ]
      },
      {
       "output_type": "stream",
       "stream": "stdout",
       "text": [
        "\n",
        "4.71622872306\n",
        "4.7159632418\n",
        "4.71405418226"
       ]
      },
      {
       "output_type": "stream",
       "stream": "stdout",
       "text": [
        "\n",
        "4.7131012222\n",
        "4.71300453465\n",
        "4.71267820573"
       ]
      },
      {
       "output_type": "stream",
       "stream": "stdout",
       "text": [
        "\n",
        "4.71149368405\n",
        "4.71143106538\n",
        "4.71103504532"
       ]
      },
      {
       "output_type": "stream",
       "stream": "stdout",
       "text": [
        "\n",
        "4.70956340383\n",
        "4.70938084606\n",
        "4.70918468514"
       ]
      },
      {
       "output_type": "stream",
       "stream": "stdout",
       "text": [
        "\n",
        "4.70763714843\n",
        "4.70742308179\n",
        "4.70726087605"
       ]
      },
      {
       "output_type": "stream",
       "stream": "stdout",
       "text": [
        "\n",
        "4.70628105746\n",
        "4.70478499899\n",
        "4.70443358533"
       ]
      },
      {
       "output_type": "stream",
       "stream": "stdout",
       "text": [
        "\n",
        "4.70433039494\n",
        "4.70427981345\n",
        "4.7027876103"
       ]
      },
      {
       "output_type": "stream",
       "stream": "stdout",
       "text": [
        "\n",
        "4.7020156785\n",
        "4.70136821202\n",
        "4.70136498573"
       ]
      },
      {
       "output_type": "stream",
       "stream": "stdout",
       "text": [
        "\n",
        "4.70114115941\n",
        "4.70113897818\n",
        "4.70094390756"
       ]
      },
      {
       "output_type": "stream",
       "stream": "stdout",
       "text": [
        "\n",
        "4.70094174593\n",
        "4.69738228065\n",
        "4.69696503748"
       ]
      },
      {
       "output_type": "stream",
       "stream": "stdout",
       "text": [
        "\n",
        "4.69538544939\n",
        "4.69439330834\n",
        "4.69426227153"
       ]
      },
      {
       "output_type": "stream",
       "stream": "stdout",
       "text": [
        "\n",
        "4.69425008444\n",
        "4.69243778092\n",
        "4.69119173281"
       ]
      },
      {
       "output_type": "stream",
       "stream": "stdout",
       "text": [
        "\n",
        "4.68829529521\n",
        "4.68805096033\n",
        "4.68688761409"
       ]
      },
      {
       "output_type": "stream",
       "stream": "stdout",
       "text": [
        "\n",
        "4.68625939464\n",
        "4.68625933239\n",
        "4.68389811675"
       ]
      },
      {
       "output_type": "stream",
       "stream": "stdout",
       "text": [
        "\n",
        "4.68387947974\n",
        "4.68201966395\n",
        "4.68201694343"
       ]
      },
      {
       "output_type": "stream",
       "stream": "stdout",
       "text": [
        "\n",
        "4.68155001723\n",
        "4.68154529109\n",
        "4.67950471299"
       ]
      },
      {
       "output_type": "stream",
       "stream": "stdout",
       "text": [
        "\n",
        "4.67947526448\n",
        "4.67815910127\n",
        "4.67752151703"
       ]
      },
      {
       "output_type": "stream",
       "stream": "stdout",
       "text": [
        "\n",
        "4.67730303776\n",
        "4.67694304264\n",
        "4.67503656026"
       ]
      },
      {
       "output_type": "stream",
       "stream": "stdout",
       "text": [
        "\n",
        "4.67439212256\n",
        "4.67438652528\n",
        "4.67370655415"
       ]
      },
      {
       "output_type": "stream",
       "stream": "stdout",
       "text": [
        "\n",
        "4.67358084999\n",
        "4.67312845613\n",
        "4.67227840819"
       ]
      },
      {
       "output_type": "stream",
       "stream": "stdout",
       "text": [
        "\n",
        "4.67142670672\n",
        "4.67131482137\n",
        "4.66928437569"
       ]
      },
      {
       "output_type": "stream",
       "stream": "stdout",
       "text": [
        "\n",
        "4.66906228844\n",
        "4.66895993237\n",
        "4.66890805358"
       ]
      },
      {
       "output_type": "stream",
       "stream": "stdout",
       "text": [
        "\n",
        "4.66766522641\n",
        "4.66755727226\n",
        "4.66718085484"
       ]
      },
      {
       "output_type": "stream",
       "stream": "stdout",
       "text": [
        "\n",
        "4.66711632476\n",
        "4.6656082288\n",
        "4.66539033039"
       ]
      },
      {
       "output_type": "stream",
       "stream": "stdout",
       "text": [
        "\n",
        "4.66390216749\n",
        "4.6637965394\n",
        "4.66147194253"
       ]
      },
      {
       "output_type": "stream",
       "stream": "stdout",
       "text": [
        "\n",
        "4.66143385474\n",
        "4.66025122825\n",
        "4.65924613686"
       ]
      },
      {
       "output_type": "stream",
       "stream": "stdout",
       "text": [
        "\n",
        "4.65850090225\n",
        "4.65847834408\n",
        "4.65632557995"
       ]
      },
      {
       "output_type": "stream",
       "stream": "stdout",
       "text": [
        "\n",
        "4.65632235511\n",
        "4.65428761751\n",
        "4.65356438891"
       ]
      },
      {
       "output_type": "stream",
       "stream": "stdout",
       "text": [
        "\n",
        "4.6526042626\n",
        "4.65221932099\n",
        "4.65133063134"
       ]
      },
      {
       "output_type": "stream",
       "stream": "stdout",
       "text": [
        "\n",
        "4.65130363816\n",
        "4.65055809959\n",
        "4.64915971035"
       ]
      },
      {
       "output_type": "stream",
       "stream": "stdout",
       "text": [
        "\n",
        "4.64901769442\n",
        "4.64810234254\n",
        "4.64714393229"
       ]
      },
      {
       "output_type": "stream",
       "stream": "stdout",
       "text": [
        "\n",
        "4.64632439526\n",
        "4.64618784362\n",
        "4.64580952853"
       ]
      },
      {
       "output_type": "stream",
       "stream": "stdout",
       "text": [
        "\n",
        "4.64558289403\n",
        "4.64362361059\n",
        "4.64362255215"
       ]
      },
      {
       "output_type": "stream",
       "stream": "stdout",
       "text": [
        "\n",
        "4.64303207412\n",
        "4.64297539678\n",
        "4.6417322578"
       ]
      },
      {
       "output_type": "stream",
       "stream": "stdout",
       "text": [
        "\n",
        "4.64153578937\n",
        "4.63894830112\n",
        "4.63889584501"
       ]
      },
      {
       "output_type": "stream",
       "stream": "stdout",
       "text": [
        "\n",
        "4.6384093863\n",
        "4.6381299438\n",
        "4.63660114844"
       ]
      },
      {
       "output_type": "stream",
       "stream": "stdout",
       "text": [
        "\n",
        "4.63659637581\n",
        "4.63572976447\n",
        "4.63550011709"
       ]
      },
      {
       "output_type": "stream",
       "stream": "stdout",
       "text": [
        "\n",
        "4.63476074158\n",
        "4.63446262755\n",
        "4.63301700852"
       ]
      },
      {
       "output_type": "stream",
       "stream": "stdout",
       "text": [
        "\n",
        "4.63293684054\n",
        "4.63218589528\n",
        "4.63124842081"
       ]
      },
      {
       "output_type": "stream",
       "stream": "stdout",
       "text": [
        "\n",
        "4.63059367382\n",
        "4.63046932788\n",
        "4.63036680486"
       ]
      },
      {
       "output_type": "stream",
       "stream": "stdout",
       "text": [
        "\n",
        "4.63031920249\n",
        "4.62906475822\n",
        "4.62882613437"
       ]
      },
      {
       "output_type": "stream",
       "stream": "stdout",
       "text": [
        "\n",
        "4.62708410814\n",
        "4.62604880039\n",
        "4.6246978032"
       ]
      },
      {
       "output_type": "stream",
       "stream": "stdout",
       "text": [
        "\n",
        "4.62418769606\n",
        "4.6237263046\n",
        "4.62174454063"
       ]
      },
      {
       "output_type": "stream",
       "stream": "stdout",
       "text": [
        "\n",
        "4.62173857086\n",
        "4.62121149177\n",
        "4.62054595493"
       ]
      },
      {
       "output_type": "stream",
       "stream": "stdout",
       "text": [
        "\n",
        "4.62026597593\n",
        "4.62014024311\n",
        "4.61968897879"
       ]
      },
      {
       "output_type": "stream",
       "stream": "stdout",
       "text": [
        "\n",
        "4.61968860389\n",
        "4.619675694\n",
        "4.61959056149"
       ]
      },
      {
       "output_type": "stream",
       "stream": "stdout",
       "text": [
        "\n",
        "4.61877131864\n",
        "4.61805025732\n",
        "4.61481744038"
       ]
      },
      {
       "output_type": "stream",
       "stream": "stdout",
       "text": [
        "\n",
        "4.61465324998\n",
        "4.61436759251\n",
        "4.61436406893"
       ]
      },
      {
       "output_type": "stream",
       "stream": "stdout",
       "text": [
        "\n",
        "4.61321649654\n",
        "4.61186711902\n",
        "4.60988590816"
       ]
      },
      {
       "output_type": "stream",
       "stream": "stdout",
       "text": [
        "\n",
        "4.60973973042\n",
        "4.60895838922\n",
        "4.60886588771"
       ]
      },
      {
       "output_type": "stream",
       "stream": "stdout",
       "text": [
        "\n",
        "4.60690002452\n",
        "4.60681395082\n",
        "4.60648111204"
       ]
      },
      {
       "output_type": "stream",
       "stream": "stdout",
       "text": [
        "\n",
        "4.60647999947\n",
        "4.605161465\n",
        "4.60515487812"
       ]
      },
      {
       "output_type": "stream",
       "stream": "stdout",
       "text": [
        "\n",
        "4.60440332039\n",
        "4.60431524437\n",
        "4.60277158949"
       ]
      },
      {
       "output_type": "stream",
       "stream": "stdout",
       "text": [
        "\n",
        "4.60273977221\n",
        "4.59979578301\n",
        "4.59975319776"
       ]
      },
      {
       "output_type": "stream",
       "stream": "stdout",
       "text": [
        "\n",
        "4.59888925978\n",
        "4.59884503397\n",
        "4.5987579684"
       ]
      },
      {
       "output_type": "stream",
       "stream": "stdout",
       "text": [
        "\n",
        "4.59864546702\n",
        "4.5980503057\n",
        "4.59804075821"
       ]
      },
      {
       "output_type": "stream",
       "stream": "stdout",
       "text": [
        "\n",
        "4.59734293001\n",
        "4.59727350181\n",
        "4.59709653726"
       ]
      },
      {
       "output_type": "stream",
       "stream": "stdout",
       "text": [
        "\n",
        "4.59667162361\n",
        "4.59484792787\n",
        "4.59455899018"
       ]
      },
      {
       "output_type": "stream",
       "stream": "stdout",
       "text": [
        "\n",
        "4.59386146828\n",
        "4.59373109301\n",
        "4.59323493001"
       ]
      },
      {
       "output_type": "stream",
       "stream": "stdout",
       "text": [
        "\n",
        "4.59317968226\n",
        "4.59118868734\n",
        "4.5905858944"
       ]
      },
      {
       "output_type": "stream",
       "stream": "stdout",
       "text": [
        "\n",
        "4.58965581663\n",
        "4.58911773935\n",
        "4.58877083533"
       ]
      },
      {
       "output_type": "stream",
       "stream": "stdout",
       "text": [
        "\n",
        "4.58859197793\n",
        "4.58724004048\n",
        "4.58723996115"
       ]
      },
      {
       "output_type": "stream",
       "stream": "stdout",
       "text": [
        "\n",
        "4.58663006719\n",
        "4.58614783413\n",
        "4.5858743089"
       ]
      },
      {
       "output_type": "stream",
       "stream": "stdout",
       "text": [
        "\n",
        "4.5855666036\n",
        "4.58293680461\n",
        "4.5827340174"
       ]
      },
      {
       "output_type": "stream",
       "stream": "stdout",
       "text": [
        "\n",
        "4.58187900742\n",
        "4.58156948776\n",
        "4.57809857205"
       ]
      },
      {
       "output_type": "stream",
       "stream": "stdout",
       "text": [
        "\n",
        "4.57783017571\n",
        "4.57624779108\n",
        "4.57616613302"
       ]
      },
      {
       "output_type": "stream",
       "stream": "stdout",
       "text": [
        "\n",
        "4.57582475461\n",
        "4.57581481816\n",
        "4.57297955895"
       ]
      },
      {
       "output_type": "stream",
       "stream": "stdout",
       "text": [
        "\n",
        "4.57295481969\n",
        "4.57029270914\n",
        "4.56963684188"
       ]
      },
      {
       "output_type": "stream",
       "stream": "stdout",
       "text": [
        "\n",
        "4.5668983846\n",
        "4.56676588489\n",
        "4.56532255462"
       ]
      },
      {
       "output_type": "stream",
       "stream": "stdout",
       "text": [
        "\n",
        "4.5651685097\n",
        "4.56367865795\n",
        "4.56347495595"
       ]
      },
      {
       "output_type": "stream",
       "stream": "stdout",
       "text": [
        "\n",
        "4.56300654614\n",
        "4.5630021786\n",
        "4.56133135859"
       ]
      },
      {
       "output_type": "stream",
       "stream": "stdout",
       "text": [
        "\n",
        "4.56040091228\n",
        "4.55992333238\n",
        "4.55975849171"
       ]
      },
      {
       "output_type": "stream",
       "stream": "stdout",
       "text": [
        "\n",
        "4.55897002916\n",
        "4.55855623972\n",
        "4.55851038305"
       ]
      },
      {
       "output_type": "stream",
       "stream": "stdout",
       "text": [
        "\n",
        "4.55805966559\n",
        "4.55758861732\n",
        "4.5575866511"
       ]
      },
      {
       "output_type": "stream",
       "stream": "stdout",
       "text": [
        "\n",
        "4.55758416502\n",
        "4.5562715119\n",
        "4.55592666767"
       ]
      },
      {
       "output_type": "stream",
       "stream": "stdout",
       "text": [
        "\n",
        "4.5538289941\n",
        "4.55377827993\n",
        "4.54977419602"
       ]
      },
      {
       "output_type": "stream",
       "stream": "stdout",
       "text": [
        "\n",
        "4.5494318271\n",
        "4.54783431083\n",
        "4.54763751153"
       ]
      },
      {
       "output_type": "stream",
       "stream": "stdout",
       "text": [
        "\n",
        "4.54681382819\n",
        "4.54616014068\n",
        "4.54502335293"
       ]
      },
      {
       "output_type": "stream",
       "stream": "stdout",
       "text": [
        "\n",
        "4.5441591612\n",
        "4.54281379101\n",
        "4.54274045824"
       ]
      },
      {
       "output_type": "stream",
       "stream": "stdout",
       "text": [
        "\n",
        "4.54238266289\n",
        "4.5403941958\n",
        "4.5401160709"
       ]
      },
      {
       "output_type": "stream",
       "stream": "stdout",
       "text": [
        "\n",
        "4.53941149616\n",
        "4.53802026013\n",
        "4.53801364377"
       ]
      },
      {
       "output_type": "stream",
       "stream": "stdout",
       "text": [
        "\n",
        "4.53748523761\n",
        "4.53590235063\n",
        "4.53582814761"
       ]
      },
      {
       "output_type": "stream",
       "stream": "stdout",
       "text": [
        "\n",
        "4.5352817919\n",
        "4.53528104379\n",
        "4.53392993534"
       ]
      },
      {
       "output_type": "stream",
       "stream": "stdout",
       "text": [
        "\n",
        "4.53370018806\n",
        "4.53092426048\n",
        "4.53092158285"
       ]
      },
      {
       "output_type": "stream",
       "stream": "stdout",
       "text": [
        "\n",
        "4.52975624562\n",
        "4.52975465212\n",
        "4.52736868978"
       ]
      },
      {
       "output_type": "stream",
       "stream": "stdout",
       "text": [
        "\n",
        "4.52661513886\n",
        "4.52493486671\n",
        "4.52477445355"
       ]
      },
      {
       "output_type": "stream",
       "stream": "stdout",
       "text": [
        "\n",
        "4.52344286881\n",
        "4.52231384479\n",
        "4.51881927491"
       ]
      },
      {
       "output_type": "stream",
       "stream": "stdout",
       "text": [
        "\n",
        "4.51880486759\n",
        "4.5177037272\n",
        "4.5177032871"
       ]
      },
      {
       "output_type": "stream",
       "stream": "stdout",
       "text": [
        "\n",
        "4.51693297304\n",
        "4.51692410764\n",
        "4.51534302457"
       ]
      },
      {
       "output_type": "stream",
       "stream": "stdout",
       "text": [
        "\n",
        "4.51467605461\n",
        "4.51323346132\n",
        "4.5128697187"
       ]
      },
      {
       "output_type": "stream",
       "stream": "stdout",
       "text": [
        "\n",
        "4.51240499314\n",
        "4.50998311785\n",
        "4.50966301395"
       ]
      },
      {
       "output_type": "stream",
       "stream": "stdout",
       "text": [
        "\n",
        "4.50961046676\n",
        "4.50925364641\n",
        "4.50925336874"
       ]
      },
      {
       "output_type": "stream",
       "stream": "stdout",
       "text": [
        "\n",
        "4.50788842434\n",
        "4.50624170795\n",
        "4.50554668727"
       ]
      },
      {
       "output_type": "stream",
       "stream": "stdout",
       "text": [
        "\n",
        "4.50519704919\n",
        "4.50511644766\n",
        "4.5046013084"
       ]
      },
      {
       "output_type": "stream",
       "stream": "stdout",
       "text": [
        "\n",
        "4.50457346095\n",
        "4.50434763518\n",
        "4.5035646227"
       ]
      },
      {
       "output_type": "stream",
       "stream": "stdout",
       "text": [
        "\n",
        "4.50349495467\n",
        "4.50291539253\n",
        "4.5012007913"
       ]
      },
      {
       "output_type": "stream",
       "stream": "stdout",
       "text": [
        "\n",
        "4.50069072245\n",
        "4.5004450612\n",
        "4.50005297742"
       ]
      },
      {
       "output_type": "stream",
       "stream": "stdout",
       "text": [
        "\n",
        "4.49941125774\n",
        "4.49879875644\n",
        "4.4981715912"
       ]
      },
      {
       "output_type": "stream",
       "stream": "stdout",
       "text": [
        "\n",
        "4.4976959647\n",
        "4.49596904467\n",
        "4.49552841154"
       ]
      },
      {
       "output_type": "stream",
       "stream": "stdout",
       "text": [
        "\n",
        "4.49463440138\n",
        "4.49338433485\n",
        "4.49218638252"
       ]
      },
      {
       "output_type": "stream",
       "stream": "stdout",
       "text": [
        "\n",
        "4.49201686088\n",
        "4.4919939732\n",
        "4.49094021153"
       ]
      },
      {
       "output_type": "stream",
       "stream": "stdout",
       "text": [
        "\n",
        "4.48977149798\n",
        "4.48960728867\n",
        "4.48934920272"
       ]
      },
      {
       "output_type": "stream",
       "stream": "stdout",
       "text": [
        "\n",
        "4.48928453366\n",
        "4.48632410093\n",
        "4.48632072054"
       ]
      },
      {
       "output_type": "stream",
       "stream": "stdout",
       "text": [
        "\n",
        "4.48537358196\n",
        "4.48534382402\n",
        "4.48312177772"
       ]
      },
      {
       "output_type": "stream",
       "stream": "stdout",
       "text": [
        "\n",
        "4.48291661511\n",
        "4.48056729998\n",
        "4.48019372497"
       ]
      },
      {
       "output_type": "stream",
       "stream": "stdout",
       "text": [
        "\n",
        "4.47859326411\n",
        "4.47858480206\n",
        "4.47613838539"
       ]
      },
      {
       "output_type": "stream",
       "stream": "stdout",
       "text": [
        "\n",
        "4.47610855381\n",
        "4.4751257005\n",
        "4.47509762881"
       ]
      },
      {
       "output_type": "stream",
       "stream": "stdout",
       "text": [
        "\n",
        "4.47351592792\n",
        "4.47349302145\n",
        "4.47279078069"
       ]
      },
      {
       "output_type": "stream",
       "stream": "stdout",
       "text": [
        "\n",
        "4.47210874399\n",
        "4.46975481004\n",
        "4.46966649471"
       ]
      },
      {
       "output_type": "stream",
       "stream": "stdout",
       "text": [
        "\n",
        "4.46871639011\n",
        "4.46869021655\n",
        "4.46788804844"
       ]
      },
      {
       "output_type": "stream",
       "stream": "stdout",
       "text": [
        "\n",
        "4.46787953619\n",
        "4.46707228766\n",
        "4.466991853"
       ]
      },
      {
       "output_type": "stream",
       "stream": "stdout",
       "text": [
        "\n",
        "4.46549252799\n",
        "4.46549179821\n",
        "4.46517129041"
       ]
      },
      {
       "output_type": "stream",
       "stream": "stdout",
       "text": [
        "\n",
        "4.46516292635\n",
        "4.46462321674\n",
        "4.46451054327"
       ]
      },
      {
       "output_type": "stream",
       "stream": "stdout",
       "text": [
        "\n",
        "4.46396668134\n",
        "4.46301212138\n",
        "4.46260615794"
       ]
      },
      {
       "output_type": "stream",
       "stream": "stdout",
       "text": [
        "\n",
        "4.46260340584\n",
        "4.46133474574\n",
        "4.4607567831"
       ]
      },
      {
       "output_type": "stream",
       "stream": "stdout",
       "text": [
        "\n",
        "4.46031253169\n",
        "4.46021076896\n",
        "4.45900845908"
       ]
      },
      {
       "output_type": "stream",
       "stream": "stdout",
       "text": [
        "\n",
        "4.4589331235\n",
        "4.45744134705\n",
        "4.45742932742"
       ]
      },
      {
       "output_type": "stream",
       "stream": "stdout",
       "text": [
        "\n",
        "4.45653770005\n",
        "4.45653236255\n",
        "4.45634799211"
       ]
      },
      {
       "output_type": "stream",
       "stream": "stdout",
       "text": [
        "\n",
        "4.45634788783\n",
        "4.45437048946\n",
        "4.4543457888"
       ]
      },
      {
       "output_type": "stream",
       "stream": "stdout",
       "text": [
        "\n",
        "4.45413325037\n",
        "4.45401183048\n",
        "4.45282386334"
       ]
      },
      {
       "output_type": "stream",
       "stream": "stdout",
       "text": [
        "\n",
        "4.45248585082\n",
        "4.45031232929\n",
        "4.45003139847"
       ]
      },
      {
       "output_type": "stream",
       "stream": "stdout",
       "text": [
        "\n",
        "4.44932129683\n",
        "4.44926698638\n",
        "4.44858182485"
       ]
      },
      {
       "output_type": "stream",
       "stream": "stdout",
       "text": [
        "\n",
        "4.44849540076\n",
        "4.44797275275\n",
        "4.44759362192"
       ]
      },
      {
       "output_type": "stream",
       "stream": "stdout",
       "text": [
        "\n",
        "4.44728297808\n",
        "4.44727967141\n",
        "4.44648823362"
       ]
      },
      {
       "output_type": "stream",
       "stream": "stdout",
       "text": [
        "\n",
        "4.44592082133\n",
        "4.44583342503\n",
        "4.44420276826"
       ]
      },
      {
       "output_type": "stream",
       "stream": "stdout",
       "text": [
        "\n",
        "4.44419060311\n",
        "4.44280946129\n",
        "4.44242261557"
       ]
      },
      {
       "output_type": "stream",
       "stream": "stdout",
       "text": [
        "\n",
        "4.43920161655\n",
        "4.43898925265\n",
        "4.4389235242"
       ]
      },
      {
       "output_type": "stream",
       "stream": "stdout",
       "text": [
        "\n",
        "4.43840711614\n",
        "4.43691488319\n",
        "4.4357569609"
       ]
      },
      {
       "output_type": "stream",
       "stream": "stdout",
       "text": [
        "\n",
        "4.43566341227\n",
        "4.43551417003\n",
        "4.43515861034"
       ]
      },
      {
       "output_type": "stream",
       "stream": "stdout",
       "text": [
        "\n",
        "4.43463461221\n",
        "4.43384701993\n",
        "4.43303045689"
       ]
      },
      {
       "output_type": "stream",
       "stream": "stdout",
       "text": [
        "\n",
        "4.43177980399\n",
        "4.43141478212\n",
        "4.43026280562"
       ]
      },
      {
       "output_type": "stream",
       "stream": "stdout",
       "text": [
        "\n",
        "4.42956269491\n",
        "4.42847992561\n",
        "4.42787986574"
       ]
      },
      {
       "output_type": "stream",
       "stream": "stdout",
       "text": [
        "\n",
        "4.42769837542\n",
        "4.4272733706\n",
        "4.42708531687"
       ]
      },
      {
       "output_type": "stream",
       "stream": "stdout",
       "text": [
        "\n",
        "4.42551046607\n",
        "4.42432544741\n",
        "4.42373413791"
       ]
      },
      {
       "output_type": "stream",
       "stream": "stdout",
       "text": [
        "\n",
        "4.42326634203\n",
        "4.42303814439\n",
        "4.42252464029"
       ]
      },
      {
       "output_type": "stream",
       "stream": "stdout",
       "text": [
        "\n",
        "4.42176867445\n",
        "4.42156255228\n",
        "4.42153610617"
       ]
      },
      {
       "output_type": "stream",
       "stream": "stdout",
       "text": [
        "\n",
        "4.42150828592\n",
        "4.42059941325\n",
        "4.42029715726"
       ]
      },
      {
       "output_type": "stream",
       "stream": "stdout",
       "text": [
        "\n",
        "4.41922140462\n",
        "4.41887233783\n",
        "4.41816405404"
       ]
      },
      {
       "output_type": "stream",
       "stream": "stdout",
       "text": [
        "\n",
        "4.4181593646\n",
        "4.4164946902\n",
        "4.41592664656"
       ]
      },
      {
       "output_type": "stream",
       "stream": "stdout",
       "text": [
        "\n",
        "4.41444703562\n",
        "4.41400911578\n",
        "4.41298298639"
       ]
      },
      {
       "output_type": "stream",
       "stream": "stdout",
       "text": [
        "\n",
        "4.41248090617\n",
        "4.41190705838\n",
        "4.41168113438"
       ]
      },
      {
       "output_type": "stream",
       "stream": "stdout",
       "text": [
        "\n",
        "4.41020864695\n",
        "4.41015426818\n",
        "4.40933330749"
       ]
      },
      {
       "output_type": "stream",
       "stream": "stdout",
       "text": [
        "\n",
        "4.40862918755\n",
        "4.4076807693\n",
        "4.40757970419"
       ]
      },
      {
       "output_type": "stream",
       "stream": "stdout",
       "text": [
        "\n",
        "4.40464497503\n",
        "4.4046413289\n",
        "4.40266293538"
       ]
      },
      {
       "output_type": "stream",
       "stream": "stdout",
       "text": [
        "\n",
        "4.40264889447\n",
        "4.40165921292\n",
        "4.40165645796"
       ]
      },
      {
       "output_type": "stream",
       "stream": "stdout",
       "text": [
        "\n",
        "4.40151126118\n",
        "4.40139765076\n",
        "4.40119231167"
       ]
      },
      {
       "output_type": "stream",
       "stream": "stdout",
       "text": [
        "\n",
        "4.40099252773\n",
        "4.40029882671\n",
        "4.40025122177"
       ]
      },
      {
       "output_type": "stream",
       "stream": "stdout",
       "text": [
        "\n",
        "4.39837988652\n",
        "4.39835850051\n",
        "4.39719666756"
       ]
      },
      {
       "output_type": "stream",
       "stream": "stdout",
       "text": [
        "\n",
        "4.39719349016\n",
        "4.39673066264\n",
        "4.39661899728"
       ]
      },
      {
       "output_type": "stream",
       "stream": "stdout",
       "text": [
        "\n",
        "4.39554503155\n",
        "4.39459794601\n",
        "4.39443504495"
       ]
      },
      {
       "output_type": "stream",
       "stream": "stdout",
       "text": [
        "\n",
        "4.39385957457\n",
        "4.39384457105\n",
        "4.39383634483"
       ]
      },
      {
       "output_type": "stream",
       "stream": "stdout",
       "text": [
        "\n",
        "4.39315443909\n",
        "4.39280317638\n",
        "4.39250639254"
       ]
      },
      {
       "output_type": "stream",
       "stream": "stdout",
       "text": [
        "\n",
        "4.39172671428\n",
        "4.39156347438\n",
        "4.39111225993"
       ]
      },
      {
       "output_type": "stream",
       "stream": "stdout",
       "text": [
        "\n",
        "4.39001177949\n",
        "4.38878992977\n",
        "4.38842353436"
       ]
      },
      {
       "output_type": "stream",
       "stream": "stdout",
       "text": [
        "\n",
        "4.38815747002\n",
        "4.38734547809\n",
        "4.38656767489"
       ]
      },
      {
       "output_type": "stream",
       "stream": "stdout",
       "text": [
        "\n",
        "4.38646064168\n",
        "4.38510712556\n",
        "4.38475686756"
       ]
      },
      {
       "output_type": "stream",
       "stream": "stdout",
       "text": [
        "\n",
        "4.38246998853\n",
        "4.3823000574\n",
        "4.38114870598"
       ]
      },
      {
       "output_type": "stream",
       "stream": "stdout",
       "text": [
        "\n",
        "4.38110238932\n",
        "4.37999976561\n",
        "4.37914645357"
       ]
      },
      {
       "output_type": "stream",
       "stream": "stdout",
       "text": [
        "\n",
        "4.37887211962\n",
        "4.37871441933\n",
        "4.37653707983"
       ]
      },
      {
       "output_type": "stream",
       "stream": "stdout",
       "text": [
        "\n",
        "4.37556862706\n",
        "4.37443465178\n",
        "4.37387050396"
       ]
      },
      {
       "output_type": "stream",
       "stream": "stdout",
       "text": [
        "\n",
        "4.37187297843\n",
        "4.3714626157\n",
        "4.36859548219"
       ]
      },
      {
       "output_type": "stream",
       "stream": "stdout",
       "text": [
        "\n",
        "4.36853449423\n",
        "4.36797310544\n",
        "4.36796214345"
       ]
      },
      {
       "output_type": "stream",
       "stream": "stdout",
       "text": [
        "\n",
        "4.36575631474\n",
        "4.36565905186\n",
        "4.36472517689"
       ]
      },
      {
       "output_type": "stream",
       "stream": "stdout",
       "text": [
        "\n",
        "4.36471141618\n",
        "4.36449258446\n",
        "4.36406238642"
       ]
      },
      {
       "output_type": "stream",
       "stream": "stdout",
       "text": [
        "\n",
        "4.36062572092\n",
        "4.36038272768\n",
        "4.35813203159"
       ]
      },
      {
       "output_type": "stream",
       "stream": "stdout",
       "text": [
        "\n",
        "4.35812739408\n",
        "4.35779640125\n",
        "4.35776959775"
       ]
      },
      {
       "output_type": "stream",
       "stream": "stdout",
       "text": [
        "\n",
        "4.35651806375\n",
        "4.35647401208\n",
        "4.35616333192"
       ]
      },
      {
       "output_type": "stream",
       "stream": "stdout",
       "text": [
        "\n",
        "4.35535417086\n",
        "4.35509030788\n",
        "Number of iterations: 1000 Total time: 17.2913429737\n"
       ]
      }
     ],
     "prompt_number": 43
    },
    {
     "cell_type": "heading",
     "level": 2,
     "metadata": {},
     "source": [
      "GRAPHS:"
     ]
    },
    {
     "cell_type": "heading",
     "level": 3,
     "metadata": {},
     "source": [
      "GMRES with SE matvec:"
     ]
    },
    {
     "cell_type": "code",
     "collapsed": false,
     "input": [
      "#\n",
      "fig, ax = plt.subplots(1)\n",
      "\n",
      "\n",
      "ppl.plot(ax, tSEN[:170] ,resSEN[:170], label='Without prec', linewidth=2)\n",
      "ppl.plot(ax, tSE1 ,resSE1, label='Block prec', linewidth=2)\n",
      "#ppl.plot(ax, tSE2 ,resSE2, label='ILU(mat)', linewidth=2)\n",
      "\n",
      "\n",
      "ppl.legend(ax,loc='upper right')\n",
      "plt.yscale('log')"
     ],
     "language": "python",
     "metadata": {
      "code_folding": []
     },
     "outputs": [
      {
       "metadata": {},
       "output_type": "display_data",
       "png": "[encoded data removed]",
       "text": [
        "<matplotlib.figure.Figure at 0x7ff6db6e4450>"
       ]
      }
     ],
     "prompt_number": 37
    },
    {
     "cell_type": "heading",
     "level": 3,
     "metadata": {},
     "source": [
      "GMRES with $H^2$ matvec:"
     ]
    },
    {
     "cell_type": "code",
     "collapsed": false,
     "input": [
      "#\n",
      "fig, ax = plt.subplots(1)\n",
      "\n",
      "ppl.plot(ax, tH2N ,resH2N, label='Without prec', linewidth=2)\n",
      "ppl.plot(ax, tH21 ,resH21, label='Block prec', linewidth=2)\n",
      "#ppl.plot(ax, tH23 ,resH23, label='ILU_SVD(SE)', linewidth=2)\n",
      "ppl.plot(ax, tH22 ,resH22, label='ILU(SE)', linewidth=2)\n",
      "\n",
      "\n",
      "\n",
      "ppl.legend(ax,loc='upper right')\n",
      "plt.yscale('log')"
     ],
     "language": "python",
     "metadata": {
      "code_folding": []
     },
     "outputs": [
      {
       "metadata": {},
       "output_type": "display_data",
       "png": "[encoded data removed]",
       "text": [
        "<matplotlib.figure.Figure at 0x7ff6dbb1b8d0>"
       ]
      }
     ],
     "prompt_number": 46
    },
    {
     "cell_type": "code",
     "collapsed": false,
     "input": [],
     "language": "python",
     "metadata": {},
     "outputs": [],
     "prompt_number": 49
    },
    {
     "cell_type": "code",
     "collapsed": false,
     "input": [],
     "language": "python",
     "metadata": {},
     "outputs": []
    }
   ],
   "metadata": {}
  }
 ]
}