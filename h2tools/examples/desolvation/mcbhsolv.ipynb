{
 "cells": [
  {
   "cell_type": "markdown",
   "metadata": {},
   "source": [
    "# MCBHSOLV program\n",
    "\n",
    "Setting of the problem: compute solvation energy of a given molecule.\n",
    "\n",
    "We need to compute following value:\n",
    "\n",
    "\\begin{equation}\n",
    "\\Delta G_{pol} = \\frac{1}{2}\\sum_i Q_i \\int_{\\Omega}\n",
    "\\frac{\\sigma(\\mathbf{r})}{\\left| \\mathbf{r-R_i} \\right|} dS,\n",
    "\\end{equation}\n",
    "\n",
    "where $Q_i$ is a charge of $i$-th atom in molecule,\n",
    "$\\mathbf{R_i}$ is a position vector of $i$-th atom in molecule,\n",
    "$\\Omega$ is a solvent excluded surface,\n",
    "$\\sigma$ is surface charge density,\n",
    "$\\mathbf{r}$ is a radius vector to surface.\n",
    "\n",
    "Surface charge density is a solution of the following equation:\n",
    "\n",
    "\\begin{equation}\n",
    "\\sigma(\\mathbf{r}) = \\frac{1-\\varepsilon}{2 \\pi\n",
    "(1+\\varepsilon)}\\left( \\sum_i \\frac{Q_i ((\\mathbf{r-R_i})\\cdot \\mathbf{n})}{\\left|\n",
    "\\mathbf{r-R_i} \\right|^3} + \\int_{\\Omega}\n",
    "\\frac{\\sigma(\\mathbf{r'}) ((\\mathbf{r-r'}) \\cdot \\mathbf{n})}{\\left|\n",
    "\\mathbf{r-r'} \\right|^3} dS' \\right),\n",
    "\\end{equation}\n",
    "\n",
    "where $\\mathbf{n}$ is a perpendicular from surface to solvent,\n",
    "$\\varepsilon$ is a relative permittivity.\n",
    "\n",
    "To find surface charge density, we approximate the surface by discrete elements with the Nystrom method for\n",
    "the off-diagonal elements and the diagonal elements are computed from\n",
    "the identities:\n",
    "\n",
    "\\begin{equation}\n",
    "\\begin{split}\n",
    "& \\int_{\\Omega}\\frac{((\\mathbf{r-r'}) \\cdot \\mathbf{n'})}{\\left|\n",
    "\\mathbf{r-r'} \\right|^3} dS' = 2\\pi, \\\\\n",
    "& \\int_{\\Omega_{\\varepsilon}} \\frac{\\sigma(\\mathbf{r'}) ((\\mathbf{r-r'}) \\cdot \\mathbf{n})}{\\left|\n",
    "\\mathbf{r-r'} \\right|^3} dS' \\approx \\sigma(\\mathbf{r}) \\left( 2 \\pi - \\int_{\\Omega\n",
    "\\setminus \\Omega_{\\varepsilon}} \\frac{((\\mathbf{r-r'}) \\cdot\n",
    "\\mathbf{n'})}{\\left| \\mathbf{r-r'} \\right|^3} dS' \\right).\n",
    "\\end{split}\n",
    "\\end{equation}\n",
    "\n",
    "So, after discretization, we get matrix $A$ with following elements:\n",
    "\n",
    "\\begin{equation}\n",
    "A_{ij} = \\left\\{ \\begin{array}{ll}\n",
    "\\frac{(\\varepsilon-1)}{4\\pi(1+\\varepsilon)} \\frac{((\\mathbf{r_i-r_j})\n",
    "\\cdot \\mathbf{n_i}) S_i}{\\left| \\mathbf{r_i-r_j} \\right|^3}, & i \\ne j\n",
    "\\\\ \\frac{\\varepsilon}{1+\\varepsilon} -\\sum_{k \\ne j} A_{kj}, & i = j\n",
    "\\end{array} \\right.,\n",
    "\\end{equation}\n",
    "\n",
    "where $\\mathbf{r_i}$ is a radius vector to center of $i$-th discrete element,\n",
    "$\\mathbf{n_i}$ is a perpendecular to $i$-th discrete element,\n",
    "$S_i$ is an area of $i$-th discrete element.\n",
    "\n",
    "After approximate solution is found, corresponding discretized solvation energy is computed."
   ]
  },
  {
   "cell_type": "code",
   "execution_count": 1,
   "metadata": {
    "collapsed": false
   },
   "outputs": [],
   "source": [
    "# import all necessary modules and set parameters\n",
    "from __future__ import print_function, absolute_import, division\n",
    "\n",
    "from h2tools.collections import pcm\n",
    "\n",
    "# set parameters\n",
    "# eps is a relative permittivity,\n",
    "# fname is a filename of surface,\n",
    "# accuracy is an accuracy parameter for MCBH method\n",
    "eps = 78.5\n",
    "fname = '1c5y_fl_surface_and_atoms_0.10.txt'\n",
    "accuracy = 1e-4"
   ]
  },
  {
   "cell_type": "code",
   "execution_count": 2,
   "metadata": {
    "collapsed": false
   },
   "outputs": [
    {
     "name": "stdout",
     "output_type": "stream",
     "text": [
      "Computing solvation energy for surface '1c5y_fl_surface_and_atoms_0.10.txt'\n",
      "Cluster trees are generated in 0.418989896774 seconds\n",
      "Depth level of each cluster tree: 11\n",
      "Row cluster tree\n",
      "    nodes : 999\n",
      "    leaves: 500\n",
      "Column cluster tree\n",
      "    nodes : 999\n",
      "    leaves: 500\n",
      "Far-field interactions(MCBH method):\n",
      "    Function calls: 16934\n",
      "    Function values computed: 40957075\n",
      "    Function time, seconds: 0.92\n",
      "    Average time per function value, seconds: 2.24e-08\n",
      "    Maxvol time, seconds: 6.04768228531\n",
      "Near-field interactions:\n",
      "    Function calls: 4082\n",
      "    Function values computed: 1244929\n",
      "    Function time, seconds: 0.07\n",
      "    Average time per function value, seconds: 5.94e-08\n",
      "Total time, seconds: 7.40\n",
      "Memory:\n",
      "    Basises, MB: 0.48\n",
      "    Transfer matrices, MB: 7.70\n",
      "    Far-field interactions, MB: 31.19\n",
      "    Near-field interactions, MB: 10.61\n",
      "Total memory, MB: 49.97\n",
      "1 0.201430663433\n",
      "2 0.0450155500923\n",
      "3 0.00880750923907\n",
      "4 0.00145186922517\n",
      "5 0.00024052185881\n",
      "6 3.26796442401e-05\n",
      "Solvation energy: -66.731678855 kcal/mol\n",
      "Iterations required: 6\n"
     ]
    }
   ],
   "source": [
    "# Read data and find solvation energy iteratively\n",
    "data = pcm.PCM_Data.from_file(fname, eps)\n",
    "print('Computing solvation energy for surface \\'{}\\''.format(fname))\n",
    "print('Solvation energy: {} kcal/mol\\nIterations required: {}'.format(\n",
    "        *data.find_solvation_energy(accuracy, onfly=0, verbose=1)))"
   ]
  },
  {
   "cell_type": "code",
   "execution_count": 3,
   "metadata": {
    "collapsed": false,
    "scrolled": false
   },
   "outputs": [
    {
     "name": "stdout",
     "output_type": "stream",
     "text": [
      "Cluster trees are generated in 0.167444944382 seconds\n",
      "Depth level of each cluster tree: 11\n",
      "Row cluster tree\n",
      "    nodes : 999\n",
      "    leaves: 500\n",
      "Column cluster tree\n",
      "    nodes : 999\n",
      "    leaves: 500\n",
      "Far-field interactions(MCBH method):\n",
      "    Function calls: 16934\n",
      "    Function values computed: 40957075\n",
      "    Function time, seconds: 0.90\n",
      "    Average time per function value, seconds: 2.19e-08\n",
      "    Maxvol time, seconds: 6.08900475502\n",
      "Near-field interactions:\n",
      "    Function calls: 4082\n",
      "    Function values computed: 1244929\n",
      "    Function time, seconds: 0.06\n",
      "    Average time per function value, seconds: 5.13e-08\n",
      "Total time, seconds: 7.42\n",
      "Memory:\n",
      "    Basises, MB: 0.48\n",
      "    Transfer matrices, MB: 7.70\n",
      "    Far-field interactions, MB: 31.19\n",
      "    Near-field interactions, MB: 10.61\n",
      "Total memory, MB: 49.97\n",
      "Relative error of far-field approximation is 0.000496768717847\n",
      "memory BEFORE SVD-compression: 49.97MB\n",
      "memory AFTER SVD-compression: 17.17MB\n",
      "recompression time: 2.23512601852\n",
      "Relative error of far-field approximation is 0.000559264678628\n",
      "memory BEFORE SVD-compression: 17.17MB\n",
      "memory AFTER SVD-compression: 14.99MB\n",
      "recompression time: 1.75869297981\n",
      "Relative error of far-field approximation is 0.00386738757792\n"
     ]
    }
   ],
   "source": [
    "# here we check approximation properties for matrix\n",
    "\n",
    "from h2tools import Problem, ClusterTree\n",
    "from h2tools.mcbh import mcbh\n",
    "\n",
    "# set parameters\n",
    "tau = 1e-4\n",
    "block_size = 25\n",
    "iters = 1\n",
    "onfly = 0\n",
    "verbose = 1\n",
    "\n",
    "tree = ClusterTree(data, block_size)\n",
    "problem = Problem(pcm.electro, tree, tree, symmetric=0, verbose=verbose)\n",
    "\n",
    "# build matrix approximation\n",
    "matrix = mcbh(problem, tau=tau, iters=iters, onfly=onfly, verbose=verbose)\n",
    "\n",
    "# and check relative error of far field approximation (only works with ***pypropack*** installed)\n",
    "print('Relative error of far-field approximation is {}'.format(matrix.diffnorm(far_only=1)))\n",
    "\n",
    "matrix.svdcompress(1e-3, verbose=True)\n",
    "print('Relative error of far-field approximation is {}'.format(matrix.diffnorm(far_only=1)))\n",
    "\n",
    "matrix.svdcompress(1e-2, verbose=True)\n",
    "print('Relative error of far-field approximation is {}'.format(matrix.diffnorm(far_only=1)))"
   ]
  },
  {
   "cell_type": "code",
   "execution_count": 4,
   "metadata": {
    "collapsed": false
   },
   "outputs": [
    {
     "name": "stdout",
     "output_type": "stream",
     "text": [
      "H2matrix at 0x101a87f50\n",
      "    Structure (h2/mcbh): h2\n",
      "    Memory layout (low/full): full\n",
      "    Shape: [8457, 8457]\n",
      "    Total memory, MB: 14.99\n",
      "        Basises, MB: 0.02\n",
      "        Transfer matrices, MB: 1.63\n",
      "        Far-field interactions, MB: 2.73\n",
      "        Near-field interactions, MB: 10.61\n"
     ]
    }
   ],
   "source": [
    "print(matrix)"
   ]
  }
 ],
 "metadata": {
  "kernelspec": {
   "display_name": "Python 2",
   "language": "python",
   "name": "python2"
  },
  "language_info": {
   "codemirror_mode": {
    "name": "ipython",
    "version": 2
   },
   "file_extension": ".py",
   "mimetype": "text/x-python",
   "name": "python",
   "nbconvert_exporter": "python",
   "pygments_lexer": "ipython2",
   "version": "2.7.11"
  }
 },
 "nbformat": 4,
 "nbformat_minor": 0
}
