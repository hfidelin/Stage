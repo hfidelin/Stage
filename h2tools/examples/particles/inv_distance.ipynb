{
 "cells": [
  {
   "cell_type": "markdown",
   "metadata": {},
   "source": [
    "# Approximation of electrostatics matrix by MCBH method"
   ]
  },
  {
   "cell_type": "markdown",
   "metadata": {},
   "source": [
    "Setting of the problem: for given particles $X_1, \\ldots, X_N$ calculate Coulomb potential $f(x, y) = \\vert x-y \\vert^{-1}$ they create on themselves.\n",
    "\n",
    "Since goal of this example is to show how to use ***h2tools*** package, we only approximate following matrix:\n",
    "\n",
    "\n",
    "$$\n",
    "A_{ij} = \\left\\{ \\begin{array}{cl} \\frac{1}{\\vert X_i-X_j\\vert}, & i \\ne j \\\\ 0, & i = j \\end{array} \\right.\n",
    "$$\n",
    "\n",
    "At first, we import all necessary modules, generate data and set variables.\n",
    "Then we build cluster trees, approximate matrix with MCBH algorithm and measure relative error of far field approximation."
   ]
  },
  {
   "cell_type": "code",
   "execution_count": 1,
   "metadata": {
    "collapsed": false
   },
   "outputs": [],
   "source": [
    "# main imports and variables\n",
    "\n",
    "# make this script work with both Python 2 and Python 3\n",
    "from __future__ import print_function, absolute_import, division\n",
    "\n",
    "# import all necessary modules and set variables\n",
    "import os\n",
    "os.environ['OMP_NUM_THREADS'] = '1'\n",
    "os.environ['MKL_NUM_THREADS'] = '1'\n",
    "# at first, import predefined functions and dataclass for particles from h2py.collections\n",
    "from h2tools.collections import particles\n",
    "# import main container for problem and cluster tree\n",
    "from h2tools import Problem, ClusterTree\n",
    "\n",
    "import numpy as np\n",
    "\n",
    "# set dimensionality of the problem (ndim), size of the problem (count),\n",
    "# desired relative accuracy of far field approximation (tau),\n",
    "# number of iterations for MCBH algorithm (iters),\n",
    "# whether to hold special submatrices in memory or compute them on demand (onfly),\n",
    "# symmetricity of the problem (symmetric),\n",
    "# maximum size of leaf node of cluster trees (block_size) and\n",
    "# verbosity (verbose)\n",
    "ndim = 3\n",
    "count = 5000\n",
    "tau = 1e-5\n",
    "iters = 1\n",
    "onfly = 0\n",
    "symmetric = 1\n",
    "block_size = 20\n",
    "verbose = 1\n",
    "random_init = 2\n",
    "\n",
    "func = particles.inv_distance"
   ]
  },
  {
   "cell_type": "code",
   "execution_count": 2,
   "metadata": {
    "collapsed": false
   },
   "outputs": [
    {
     "name": "stdout",
     "output_type": "stream",
     "text": [
      "Cluster trees are generated in 0.370278835297 seconds\n",
      "Depth level of each cluster tree: 11\n",
      "Row cluster tree\n",
      "    nodes : 719\n",
      "    leaves: 360\n",
      "Column cluster tree\n",
      "    nodes : 719\n",
      "    leaves: 360\n"
     ]
    }
   ],
   "source": [
    "#generate data\n",
    "# set random seed so that results are repeatable\n",
    "np.random.seed(0)\n",
    "# generate positions of particles in shape (ndim, count)\n",
    "position = np.random.randn(ndim, count)\n",
    "# create data object from given positions of particles\n",
    "data = particles.Particles(ndim, count, position)\n",
    "# initialize cluster tree from data object\n",
    "tree = ClusterTree(data, block_size)\n",
    "# create main problem object with interaction particles.inv_distance\n",
    "problem = Problem(func, tree, tree, symmetric, verbose, None)"
   ]
  },
  {
   "cell_type": "code",
   "execution_count": 3,
   "metadata": {
    "collapsed": false
   },
   "outputs": [
    {
     "name": "stdout",
     "output_type": "stream",
     "text": [
      "Far-field interactions(MCBH method):\n",
      "    Function calls: 15926\n",
      "    Function values computed: 45698857\n",
      "    Function time, seconds: 0.63\n",
      "    Average time per function value, seconds: 1.38e-08\n",
      "    Maxvol time, seconds: 6.0511329174\n",
      "Near-field interactions:\n",
      "    Function calls: 5756\n",
      "    Function values computed: 1598473\n",
      "    Function time, seconds: 0.08\n",
      "    Average time per function value, seconds: 5.13e-08\n",
      "Total time, seconds: 7.05\n",
      "Memory:\n",
      "    Basises, MB: 0.17\n",
      "    Transfer matrices, MB: 2.95\n",
      "    Far-field interactions, MB: 43.02\n",
      "    Near-field interactions, MB: 13.54\n",
      "Total memory, MB: 59.68\n",
      "3.03515027791e-06\n",
      "memory BEFORE SVD-compression: 59.68MB\n",
      "memory AFTER SVD-compression: 19.13MB\n",
      "recompression time: 3.67317700386\n",
      "2.19236086441e-05\n",
      "memory BEFORE SVD-compression: 19.13MB\n",
      "memory AFTER SVD-compression: 18.02MB\n",
      "recompression time: 3.65114378929\n",
      "0.000413486690841\n"
     ]
    }
   ],
   "source": [
    "# import multicharge approximation method\n",
    "from h2tools.mcbh import mcbh\n",
    "\n",
    "# build approximation of the matrix with MCBH algorithm\n",
    "\n",
    "matrix = mcbh(problem, tau, iters=iters, onfly=onfly, verbose=verbose, random_init=random_init, mpi_comm=None)\n",
    "\n",
    "# check approximation error\n",
    "print(matrix.diffnorm(far_only=1))\n",
    "\n",
    "# Compress matrix\n",
    "matrix.svdcompress(1e-4, verbose=1)\n",
    "print(matrix.diffnorm(far_only=1))\n",
    "\n",
    "matrix.svdcompress(1e-3, verbose=1)\n",
    "print(matrix.diffnorm(far_only=1))"
   ]
  },
  {
   "cell_type": "code",
   "execution_count": 4,
   "metadata": {
    "collapsed": false
   },
   "outputs": [
    {
     "name": "stdout",
     "output_type": "stream",
     "text": [
      "H2matrix at 0x1078ba690\n",
      "    Structure (h2/mcbh): h2\n",
      "    Memory layout (low/full): full\n",
      "    Shape: [5000, 5000]\n",
      "    Total memory, MB: 18.02\n",
      "        Basises, MB: 0.01\n",
      "        Transfer matrices, MB: 1.37\n",
      "        Far-field interactions, MB: 3.10\n",
      "        Near-field interactions, MB: 13.54\n"
     ]
    }
   ],
   "source": [
    "print(matrix)"
   ]
  },
  {
   "cell_type": "code",
   "execution_count": null,
   "metadata": {
    "collapsed": true
   },
   "outputs": [],
   "source": []
  }
 ],
 "metadata": {
  "kernelspec": {
   "display_name": "Python 2",
   "language": "python",
   "name": "python2"
  },
  "language_info": {
   "codemirror_mode": {
    "name": "ipython",
    "version": 2
   },
   "file_extension": ".py",
   "mimetype": "text/x-python",
   "name": "python",
   "nbconvert_exporter": "python",
   "pygments_lexer": "ipython2",
   "version": "2.7.11"
  }
 },
 "nbformat": 4,
 "nbformat_minor": 0
}
