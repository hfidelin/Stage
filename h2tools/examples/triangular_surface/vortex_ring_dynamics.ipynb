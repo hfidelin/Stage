{
 "cells": [
  {
   "cell_type": "markdown",
   "metadata": {},
   "source": [
    "# Approximation of BEM matrix from vortex rings dynamics problem"
   ]
  },
  {
   "cell_type": "markdown",
   "metadata": {},
   "source": [
    "For given triangulization of surface $\\Omega$ compute $\\int_\\Omega \\frac{\\sigma(\\mathbf{r})}{\\mathbf{r}^3}ds$\n",
    "Since there is discretization of surface, problem is to compute following matrix multiplication $A\\sigma,$\n",
    "where $\\sigma$ is a vector of discretized surface densities, and elements of $A$ are following:\n",
    "\n",
    "$$A_{ij} = \\sigma_i \\int_{\\Omega_j} \\vert \\mathbf{r}-\\mathbf{r}_i \\vert^{-3} ds,$$\n",
    "\n",
    "here $\\Omega_j$ is $j$-th element of surface discretization, $\\mathbf{r}_i$ is $i$-th collocation point, $\\mathbf{r}$ is a radius vector to element of surface of $\\Omega_j$"
   ]
  },
  {
   "cell_type": "code",
   "execution_count": 1,
   "metadata": {
    "collapsed": false
   },
   "outputs": [],
   "source": [
    "# main imports and variables\n",
    "\n",
    "# make this script work in both Python 2 and Python 3\n",
    "from __future__ import print_function, absolute_import, division\n",
    "\n",
    "# import all necessary modules\n",
    "import numpy as np\n",
    "# at first, get predefined functions and classes from h2py.collections.triangular_surface\n",
    "from h2tools.collections import triangular_surface as trisurf\n",
    "# load Problem and ClusterTree classes\n",
    "from h2tools.problem import Problem, ClusterTree\n",
    "# import mcbh approximator\n",
    "from h2tools.mcbh import mcbh\n",
    "\n",
    "# set parameters\n",
    "# fname is a filename of surface discretization,\n",
    "# block_size is a maximum size of leaf nodes of cluster trees,\n",
    "# tau is an accuracy parameter for MCBH,\n",
    "# iters is number of iterations for MCBH,\n",
    "# verbose show if factorization function will be verbose\n",
    "fname = 'Geodat.dat'\n",
    "block_size = 25\n",
    "tau = 1e-5\n",
    "iters = 1\n",
    "onfly = 0\n",
    "verbose = 1\n",
    "\n",
    "func = trisurf.integral_inverse_r3"
   ]
  },
  {
   "cell_type": "code",
   "execution_count": 2,
   "metadata": {
    "collapsed": false
   },
   "outputs": [
    {
     "name": "stdout",
     "output_type": "stream",
     "text": [
      "Number of surface discrete elements: 4908\n"
     ]
    }
   ],
   "source": [
    "# read triangular surface from a file\n",
    "data = trisurf.TriangularSurface.from_dat(fname)\n",
    "print('Number of surface discrete elements:', data.count)"
   ]
  },
  {
   "cell_type": "code",
   "execution_count": 3,
   "metadata": {
    "collapsed": false
   },
   "outputs": [
    {
     "name": "stdout",
     "output_type": "stream",
     "text": [
      "Cluster trees are generated in 0.304753065109 seconds\n",
      "Depth level of each cluster tree: 12\n",
      "Row cluster tree\n",
      "    nodes : 573\n",
      "    leaves: 287\n",
      "Column cluster tree\n",
      "    nodes : 573\n",
      "    leaves: 287\n"
     ]
    }
   ],
   "source": [
    "# create cluster tree\n",
    "tree = ClusterTree(data, block_size)\n",
    "# create main problem object\n",
    "problem = Problem(func, tree, tree, symmetric=0, verbose=verbose)"
   ]
  },
  {
   "cell_type": "code",
   "execution_count": 4,
   "metadata": {
    "collapsed": false
   },
   "outputs": [
    {
     "name": "stdout",
     "output_type": "stream",
     "text": [
      "Far-field interactions(MCBH method):\n",
      "    Function calls: 8030\n",
      "    Function values computed: 26239798\n",
      "    Function time, seconds: 4.19\n",
      "    Average time per function value, seconds: 1.60e-07\n",
      "    Maxvol time, seconds: 5.03311252594\n",
      "Near-field interactions:\n",
      "    Function calls: 2657\n",
      "    Function values computed: 1124346\n",
      "    Function time, seconds: 0.21\n",
      "    Average time per function value, seconds: 1.88e-07\n",
      "Total time, seconds: 9.61\n",
      "Memory:\n",
      "    Basises, MB: 0.33\n",
      "    Transfer matrices, MB: 8.29\n",
      "    Far-field interactions, MB: 24.19\n",
      "    Near-field interactions, MB: 9.29\n",
      "Total memory, MB: 42.10\n",
      "7.35394575014e-05\n",
      "memory BEFORE SVD-compression: 42.10MB\n",
      "memory AFTER SVD-compression: 16.50MB\n",
      "recompression time: 1.27259302139\n",
      "9.90676569293e-05\n",
      "memory BEFORE SVD-compression: 16.50MB\n",
      "memory AFTER SVD-compression: 13.76MB\n",
      "recompression time: 1.03930211067\n",
      "0.0010284557832\n"
     ]
    }
   ],
   "source": [
    "# compute matrix approximation with given parameters\n",
    "matrix = mcbh(problem, tau=tau, iters=iters, onfly=onfly, verbose=verbose)\n",
    "\n",
    "# check approximation error\n",
    "print(matrix.diffnorm(far_only=1))\n",
    "\n",
    "# Compress matrix\n",
    "matrix.svdcompress(1e-4, verbose=1)\n",
    "print(matrix.diffnorm(far_only=1))\n",
    "\n",
    "matrix.svdcompress(1e-3, verbose=1)\n",
    "print(matrix.diffnorm(far_only=1))"
   ]
  },
  {
   "cell_type": "code",
   "execution_count": 5,
   "metadata": {
    "collapsed": false
   },
   "outputs": [
    {
     "name": "stdout",
     "output_type": "stream",
     "text": [
      "H2matrix at 0x103ab7490\n",
      "    Structure (h2/mcbh): h2\n",
      "    Memory layout (low/full): full\n",
      "    Shape: [4908, 4908]\n",
      "    Total memory, MB: 13.76\n",
      "        Basises, MB: 0.01\n",
      "        Transfer matrices, MB: 3.29\n",
      "        Far-field interactions, MB: 1.17\n",
      "        Near-field interactions, MB: 9.29\n"
     ]
    }
   ],
   "source": [
    "print(matrix)"
   ]
  },
  {
   "cell_type": "code",
   "execution_count": null,
   "metadata": {
    "collapsed": true
   },
   "outputs": [],
   "source": []
  }
 ],
 "metadata": {
  "kernelspec": {
   "display_name": "Python 2",
   "language": "python",
   "name": "python2"
  },
  "language_info": {
   "codemirror_mode": {
    "name": "ipython",
    "version": 2
   },
   "file_extension": ".py",
   "mimetype": "text/x-python",
   "name": "python",
   "nbconvert_exporter": "python",
   "pygments_lexer": "ipython2",
   "version": "2.7.11"
  }
 },
 "nbformat": 4,
 "nbformat_minor": 0
}
